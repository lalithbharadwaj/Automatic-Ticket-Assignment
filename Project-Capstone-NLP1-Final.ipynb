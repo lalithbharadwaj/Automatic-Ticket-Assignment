{
 "cells": [
  {
   "cell_type": "markdown",
   "metadata": {},
   "source": [
    "### Context: "
   ]
  },
  {
   "cell_type": "markdown",
   "metadata": {},
   "source": [
    "An incident is something that is unplanned interruption to an IT service or reduction in the quality of an IT service that affects the Users and the Business. In most of the organizations, incidents are created by various Business and IT Users, End Users/ Vendors if they have access to ticketing systems, and from the integrated monitoring systems and tools. Assigning the incidents to the appropriate person or unit in the support team has critical importance to provide improved user satisfaction while ensuring better allocation of support resources."
   ]
  },
  {
   "cell_type": "markdown",
   "metadata": {},
   "source": [
    "### Objective:"
   ]
  },
  {
   "cell_type": "markdown",
   "metadata": {},
   "source": [
    "In this capstone project, the goal is to build a classifier that can classify the tickets by analyzing text"
   ]
  },
  {
   "cell_type": "markdown",
   "metadata": {},
   "source": [
    "##### Import necessary libraries"
   ]
  },
  {
   "cell_type": "markdown",
   "metadata": {},
   "source": [
    "Please uncomment the below comments and run it to install wordcloud, nlpaug, textblob."
   ]
  },
  {
   "cell_type": "code",
   "execution_count": 1,
   "metadata": {
    "collapsed": true
   },
   "outputs": [],
   "source": [
    "#!pip install wordcloud\n",
    "\n",
    "#!pip install nlpaug\n",
    "\n",
    "#!pip install textblob"
   ]
  },
  {
   "cell_type": "markdown",
   "metadata": {},
   "source": [
    "Install additional libraries[eg: Run !pip install wordcloud in the code cell]. If you get error even after you have installed additional libraries that did not come with anaconda, please restart the kernel or re-run the below cell."
   ]
  },
  {
   "cell_type": "code",
   "execution_count": 3,
   "metadata": {},
   "outputs": [],
   "source": [
    "import pandas as pd\n",
    "from matplotlib import pyplot as plt\n",
    "import seaborn as sns\n",
    "sns.set(color_codes=True)\n",
    "%matplotlib inline\n",
    "import warnings\n",
    "warnings.filterwarnings('ignore', category=DeprecationWarning)\n",
    "warnings.simplefilter('ignore')\n",
    "import numpy as np\n",
    "import copy\n",
    "import re\n",
    "import string\n",
    "import nltk\n",
    "nltk.download('wordnet', quiet=True)\n",
    "nltk.download('stopwords', quiet=True)\n",
    "from nltk.corpus import stopwords\n",
    "nltk.download('words', quiet=True)\n",
    "nltk.download('averaged_perceptron_tagger', quiet=True)\n",
    "from nltk import WordNetLemmatizer\n",
    "from wordcloud import WordCloud\n",
    "from keras.preprocessing.text import Tokenizer\n",
    "from sklearn import preprocessing\n",
    "from sklearn.feature_extraction.text import CountVectorizer\n",
    "from sklearn.model_selection import train_test_split\n",
    "from sklearn.linear_model import LogisticRegression\n",
    "from sklearn.metrics import accuracy_score, classification_report\n",
    "from sklearn.naive_bayes import MultinomialNB\n",
    "from sklearn.ensemble import RandomForestClassifier\n",
    "from sklearn.svm import SVC\n",
    "from keras.models import Sequential\n",
    "from keras.layers import Dense, LSTM, Bidirectional, BatchNormalization, Dropout, GRU\n",
    "from keras.layers.embeddings import Embedding\n",
    "from keras.preprocessing.sequence import pad_sequences\n",
    "import tensorflow as tf\n",
    "import random as python_random\n",
    "import nlpaug.augmenter.word as naw\n",
    "from sklearn.utils import resample\n",
    "import math\n",
    "from sklearn.decomposition import LatentDirichletAllocation\n",
    "from keras.optimizers import SGD\n",
    "from keras.callbacks import ModelCheckpoint\n",
    "from keras.callbacks import EarlyStopping"
   ]
  },
  {
   "cell_type": "markdown",
   "metadata": {},
   "source": [
    "##### Import dataset and explore"
   ]
  },
  {
   "cell_type": "code",
   "execution_count": 4,
   "metadata": {
    "collapsed": true
   },
   "outputs": [],
   "source": [
    "# Read the csv file as a data frame\n",
    "df = pd.read_csv(\"input_data.csv\")"
   ]
  },
  {
   "cell_type": "code",
   "execution_count": 5,
   "metadata": {},
   "outputs": [
    {
     "data": {
      "text/plain": [
       "(8500, 4)"
      ]
     },
     "execution_count": 5,
     "metadata": {},
     "output_type": "execute_result"
    }
   ],
   "source": [
    "#check shape of data\n",
    "df.shape"
   ]
  },
  {
   "cell_type": "markdown",
   "metadata": {},
   "source": [
    "The dataset has 8500 rows/observations and 4 columns/attributes"
   ]
  },
  {
   "cell_type": "code",
   "execution_count": 6,
   "metadata": {},
   "outputs": [
    {
     "data": {
      "text/html": [
       "<div>\n",
       "<style scoped>\n",
       "    .dataframe tbody tr th:only-of-type {\n",
       "        vertical-align: middle;\n",
       "    }\n",
       "\n",
       "    .dataframe tbody tr th {\n",
       "        vertical-align: top;\n",
       "    }\n",
       "\n",
       "    .dataframe thead th {\n",
       "        text-align: right;\n",
       "    }\n",
       "</style>\n",
       "<table border=\"1\" class=\"dataframe\">\n",
       "  <thead>\n",
       "    <tr style=\"text-align: right;\">\n",
       "      <th></th>\n",
       "      <th>Short description</th>\n",
       "      <th>Description</th>\n",
       "      <th>Caller</th>\n",
       "      <th>Assignment group</th>\n",
       "    </tr>\n",
       "  </thead>\n",
       "  <tbody>\n",
       "    <tr>\n",
       "      <th>0</th>\n",
       "      <td>login issue</td>\n",
       "      <td>-verified user details.(employee# &amp; manager na...</td>\n",
       "      <td>spxjnwir pjlcoqds</td>\n",
       "      <td>GRP_0</td>\n",
       "    </tr>\n",
       "    <tr>\n",
       "      <th>1</th>\n",
       "      <td>outlook</td>\n",
       "      <td>\\n\\nreceived from: hmjdrvpb.komuaywn@gmail.com...</td>\n",
       "      <td>hmjdrvpb komuaywn</td>\n",
       "      <td>GRP_0</td>\n",
       "    </tr>\n",
       "    <tr>\n",
       "      <th>2</th>\n",
       "      <td>cant log in to vpn</td>\n",
       "      <td>\\n\\nreceived from: eylqgodm.ybqkwiam@gmail.com...</td>\n",
       "      <td>eylqgodm ybqkwiam</td>\n",
       "      <td>GRP_0</td>\n",
       "    </tr>\n",
       "    <tr>\n",
       "      <th>3</th>\n",
       "      <td>unable to access hr_tool page</td>\n",
       "      <td>unable to access hr_tool page</td>\n",
       "      <td>xbkucsvz gcpydteq</td>\n",
       "      <td>GRP_0</td>\n",
       "    </tr>\n",
       "    <tr>\n",
       "      <th>4</th>\n",
       "      <td>skype error</td>\n",
       "      <td>skype error</td>\n",
       "      <td>owlgqjme qhcozdfx</td>\n",
       "      <td>GRP_0</td>\n",
       "    </tr>\n",
       "  </tbody>\n",
       "</table>\n",
       "</div>"
      ],
      "text/plain": [
       "               Short description  \\\n",
       "0                    login issue   \n",
       "1                        outlook   \n",
       "2             cant log in to vpn   \n",
       "3  unable to access hr_tool page   \n",
       "4                   skype error    \n",
       "\n",
       "                                         Description             Caller  \\\n",
       "0  -verified user details.(employee# & manager na...  spxjnwir pjlcoqds   \n",
       "1  \\n\\nreceived from: hmjdrvpb.komuaywn@gmail.com...  hmjdrvpb komuaywn   \n",
       "2  \\n\\nreceived from: eylqgodm.ybqkwiam@gmail.com...  eylqgodm ybqkwiam   \n",
       "3                      unable to access hr_tool page  xbkucsvz gcpydteq   \n",
       "4                                       skype error   owlgqjme qhcozdfx   \n",
       "\n",
       "  Assignment group  \n",
       "0            GRP_0  \n",
       "1            GRP_0  \n",
       "2            GRP_0  \n",
       "3            GRP_0  \n",
       "4            GRP_0  "
      ]
     },
     "execution_count": 6,
     "metadata": {},
     "output_type": "execute_result"
    }
   ],
   "source": [
    "#View first 5 rows of data\n",
    "df.head(5)"
   ]
  },
  {
   "cell_type": "code",
   "execution_count": 7,
   "metadata": {},
   "outputs": [
    {
     "data": {
      "text/html": [
       "<div>\n",
       "<style scoped>\n",
       "    .dataframe tbody tr th:only-of-type {\n",
       "        vertical-align: middle;\n",
       "    }\n",
       "\n",
       "    .dataframe tbody tr th {\n",
       "        vertical-align: top;\n",
       "    }\n",
       "\n",
       "    .dataframe thead th {\n",
       "        text-align: right;\n",
       "    }\n",
       "</style>\n",
       "<table border=\"1\" class=\"dataframe\">\n",
       "  <thead>\n",
       "    <tr style=\"text-align: right;\">\n",
       "      <th></th>\n",
       "      <th>Short description</th>\n",
       "      <th>Description</th>\n",
       "      <th>Caller</th>\n",
       "      <th>Assignment group</th>\n",
       "    </tr>\n",
       "  </thead>\n",
       "  <tbody>\n",
       "    <tr>\n",
       "      <th>8495</th>\n",
       "      <td>emails not coming in from zz mail</td>\n",
       "      <td>\\n\\nreceived from: avglmrts.vhqmtiua@gmail.com...</td>\n",
       "      <td>avglmrts vhqmtiua</td>\n",
       "      <td>GRP_29</td>\n",
       "    </tr>\n",
       "    <tr>\n",
       "      <th>8496</th>\n",
       "      <td>telephony_software issue</td>\n",
       "      <td>telephony_software issue</td>\n",
       "      <td>rbozivdq gmlhrtvp</td>\n",
       "      <td>GRP_0</td>\n",
       "    </tr>\n",
       "    <tr>\n",
       "      <th>8497</th>\n",
       "      <td>vip2: windows password reset for tifpdchb pedx...</td>\n",
       "      <td>vip2: windows password reset for tifpdchb pedx...</td>\n",
       "      <td>oybwdsgx oxyhwrfz</td>\n",
       "      <td>GRP_0</td>\n",
       "    </tr>\n",
       "    <tr>\n",
       "      <th>8498</th>\n",
       "      <td>machine nÃ£o estÃ¡ funcionando</td>\n",
       "      <td>i am unable to access the machine utilities to...</td>\n",
       "      <td>ufawcgob aowhxjky</td>\n",
       "      <td>GRP_62</td>\n",
       "    </tr>\n",
       "    <tr>\n",
       "      <th>8499</th>\n",
       "      <td>an mehreren pc`s lassen sich verschiedene prgr...</td>\n",
       "      <td>an mehreren pc`s lassen sich verschiedene prgr...</td>\n",
       "      <td>kqvbrspl jyzoklfx</td>\n",
       "      <td>GRP_49</td>\n",
       "    </tr>\n",
       "  </tbody>\n",
       "</table>\n",
       "</div>"
      ],
      "text/plain": [
       "                                      Short description  \\\n",
       "8495                  emails not coming in from zz mail   \n",
       "8496                           telephony_software issue   \n",
       "8497  vip2: windows password reset for tifpdchb pedx...   \n",
       "8498                     machine nÃ£o estÃ¡ funcionando   \n",
       "8499  an mehreren pc`s lassen sich verschiedene prgr...   \n",
       "\n",
       "                                            Description             Caller  \\\n",
       "8495  \\n\\nreceived from: avglmrts.vhqmtiua@gmail.com...  avglmrts vhqmtiua   \n",
       "8496                           telephony_software issue  rbozivdq gmlhrtvp   \n",
       "8497  vip2: windows password reset for tifpdchb pedx...  oybwdsgx oxyhwrfz   \n",
       "8498  i am unable to access the machine utilities to...  ufawcgob aowhxjky   \n",
       "8499  an mehreren pc`s lassen sich verschiedene prgr...  kqvbrspl jyzoklfx   \n",
       "\n",
       "     Assignment group  \n",
       "8495           GRP_29  \n",
       "8496            GRP_0  \n",
       "8497            GRP_0  \n",
       "8498           GRP_62  \n",
       "8499           GRP_49  "
      ]
     },
     "execution_count": 7,
     "metadata": {},
     "output_type": "execute_result"
    }
   ],
   "source": [
    "#View last 5 rows of data\n",
    "df.tail(5) "
   ]
  },
  {
   "cell_type": "code",
   "execution_count": 8,
   "metadata": {},
   "outputs": [
    {
     "name": "stdout",
     "output_type": "stream",
     "text": [
      "<class 'pandas.core.frame.DataFrame'>\n",
      "RangeIndex: 8500 entries, 0 to 8499\n",
      "Data columns (total 4 columns):\n",
      "Short description    8498 non-null object\n",
      "Description          8499 non-null object\n",
      "Caller               8500 non-null object\n",
      "Assignment group     8500 non-null object\n",
      "dtypes: object(4)\n",
      "memory usage: 265.7+ KB\n"
     ]
    }
   ],
   "source": [
    "#Get information about the data along with the data type of each attribute\n",
    "df.info()"
   ]
  },
  {
   "cell_type": "markdown",
   "metadata": {},
   "source": [
    "The count of data types (object(4)) and memory usage are provided"
   ]
  },
  {
   "cell_type": "markdown",
   "metadata": {},
   "source": [
    "##### Understanding the structure of data"
   ]
  },
  {
   "cell_type": "code",
   "execution_count": 9,
   "metadata": {},
   "outputs": [
    {
     "data": {
      "text/plain": [
       "array(['GRP_0', 'GRP_1', 'GRP_3', 'GRP_4', 'GRP_5', 'GRP_6', 'GRP_7',\n",
       "       'GRP_8', 'GRP_9', 'GRP_10', 'GRP_11', 'GRP_12', 'GRP_13', 'GRP_14',\n",
       "       'GRP_15', 'GRP_16', 'GRP_17', 'GRP_18', 'GRP_19', 'GRP_2',\n",
       "       'GRP_20', 'GRP_21', 'GRP_22', 'GRP_23', 'GRP_24', 'GRP_25',\n",
       "       'GRP_26', 'GRP_27', 'GRP_28', 'GRP_29', 'GRP_30', 'GRP_31',\n",
       "       'GRP_33', 'GRP_34', 'GRP_35', 'GRP_36', 'GRP_37', 'GRP_38',\n",
       "       'GRP_39', 'GRP_40', 'GRP_41', 'GRP_42', 'GRP_43', 'GRP_44',\n",
       "       'GRP_45', 'GRP_46', 'GRP_47', 'GRP_48', 'GRP_49', 'GRP_50',\n",
       "       'GRP_51', 'GRP_52', 'GRP_53', 'GRP_54', 'GRP_55', 'GRP_56',\n",
       "       'GRP_57', 'GRP_58', 'GRP_59', 'GRP_60', 'GRP_61', 'GRP_32',\n",
       "       'GRP_62', 'GRP_63', 'GRP_64', 'GRP_65', 'GRP_66', 'GRP_67',\n",
       "       'GRP_68', 'GRP_69', 'GRP_70', 'GRP_71', 'GRP_72', 'GRP_73'],\n",
       "      dtype=object)"
      ]
     },
     "execution_count": 9,
     "metadata": {},
     "output_type": "execute_result"
    }
   ],
   "source": [
    "#Unique values of Assignment group attribute\n",
    "df['Assignment group'].unique()"
   ]
  },
  {
   "cell_type": "code",
   "execution_count": 10,
   "metadata": {},
   "outputs": [
    {
     "data": {
      "text/plain": [
       "GRP_0     0.467765\n",
       "GRP_8     0.077765\n",
       "GRP_24    0.034000\n",
       "GRP_12    0.030235\n",
       "GRP_9     0.029647\n",
       "GRP_2     0.028353\n",
       "GRP_19    0.025294\n",
       "GRP_3     0.023529\n",
       "GRP_6     0.021647\n",
       "GRP_13    0.017059\n",
       "GRP_10    0.016471\n",
       "GRP_5     0.015176\n",
       "GRP_14    0.013882\n",
       "GRP_25    0.013647\n",
       "GRP_33    0.012588\n",
       "GRP_4     0.011765\n",
       "GRP_29    0.011412\n",
       "GRP_18    0.010353\n",
       "GRP_16    0.010000\n",
       "GRP_17    0.009529\n",
       "GRP_31    0.008118\n",
       "GRP_7     0.008000\n",
       "GRP_34    0.007294\n",
       "GRP_26    0.006588\n",
       "GRP_40    0.005294\n",
       "GRP_28    0.005176\n",
       "GRP_41    0.004706\n",
       "GRP_15    0.004588\n",
       "GRP_30    0.004588\n",
       "GRP_42    0.004353\n",
       "            ...   \n",
       "GRP_36    0.001765\n",
       "GRP_44    0.001765\n",
       "GRP_50    0.001647\n",
       "GRP_65    0.001294\n",
       "GRP_53    0.001294\n",
       "GRP_52    0.001059\n",
       "GRP_55    0.000941\n",
       "GRP_51    0.000941\n",
       "GRP_49    0.000706\n",
       "GRP_59    0.000706\n",
       "GRP_46    0.000706\n",
       "GRP_43    0.000588\n",
       "GRP_66    0.000471\n",
       "GRP_32    0.000471\n",
       "GRP_38    0.000353\n",
       "GRP_68    0.000353\n",
       "GRP_56    0.000353\n",
       "GRP_63    0.000353\n",
       "GRP_58    0.000353\n",
       "GRP_57    0.000235\n",
       "GRP_69    0.000235\n",
       "GRP_71    0.000235\n",
       "GRP_72    0.000235\n",
       "GRP_54    0.000235\n",
       "GRP_64    0.000118\n",
       "GRP_67    0.000118\n",
       "GRP_35    0.000118\n",
       "GRP_70    0.000118\n",
       "GRP_73    0.000118\n",
       "GRP_61    0.000118\n",
       "Name: Assignment group, Length: 74, dtype: float64"
      ]
     },
     "execution_count": 10,
     "metadata": {},
     "output_type": "execute_result"
    }
   ],
   "source": [
    "#Percentage form value counts of Assignment group\n",
    "df[\"Assignment group\"].value_counts(normalize=True)"
   ]
  },
  {
   "cell_type": "code",
   "execution_count": 11,
   "metadata": {
    "collapsed": true
   },
   "outputs": [],
   "source": [
    "#Converting Description attribute to str type\n",
    "df['Description'] = df['Description'].astype(str)"
   ]
  },
  {
   "cell_type": "code",
   "execution_count": 12,
   "metadata": {
    "collapsed": true
   },
   "outputs": [],
   "source": [
    "#Create a word count attribute for Description\n",
    "df['Description_word_count'] = df['Description'].apply(lambda text: len(text.split()))"
   ]
  },
  {
   "cell_type": "code",
   "execution_count": 13,
   "metadata": {},
   "outputs": [
    {
     "data": {
      "text/plain": [
       "1625"
      ]
     },
     "execution_count": 13,
     "metadata": {},
     "output_type": "execute_result"
    }
   ],
   "source": [
    "#Maximum word count of a Description\n",
    "df['Description_word_count'].max()"
   ]
  },
  {
   "cell_type": "code",
   "execution_count": 14,
   "metadata": {},
   "outputs": [
    {
     "data": {
      "text/plain": [
       "27.27423529411765"
      ]
     },
     "execution_count": 14,
     "metadata": {},
     "output_type": "execute_result"
    }
   ],
   "source": [
    "#Mean word count of a Description\n",
    "df['Description_word_count'].mean()"
   ]
  },
  {
   "cell_type": "markdown",
   "metadata": {},
   "source": [
    "##### Data Cleaning [Missing points, Duplicates, Inconsistencies]"
   ]
  },
  {
   "cell_type": "code",
   "execution_count": 15,
   "metadata": {
    "collapsed": true
   },
   "outputs": [],
   "source": [
    "#Removing Caller column which is not relevant to determine the Assignment group\n",
    "df.drop(['Caller'],axis=1, inplace=True)"
   ]
  },
  {
   "cell_type": "code",
   "execution_count": 16,
   "metadata": {
    "collapsed": true
   },
   "outputs": [],
   "source": [
    "#Get indexes of missing/nan value in Description attribute\n",
    "idx_list = df[df['Description'].isnull()].index.tolist()"
   ]
  },
  {
   "cell_type": "code",
   "execution_count": 17,
   "metadata": {
    "collapsed": true
   },
   "outputs": [],
   "source": [
    "#Copy value from Short Description attribute to Description attribute for missing values.\n",
    "for idx in idx_list:\n",
    "    df.at[idx, 'Description'] = df.at[idx, 'Short description']"
   ]
  },
  {
   "cell_type": "code",
   "execution_count": 18,
   "metadata": {
    "collapsed": true
   },
   "outputs": [],
   "source": [
    "#There are Inconsistencies in Description attribute such as holding only one word[eg:\"complete\"] and having no\n",
    "#information about the problem[eg: \"please see attachment\"] and also less information than Short description attribute\n",
    "#Copying Short description to Description to avoid inconsistencies and have more information.\n",
    "for idx, row in copy.deepcopy(df).iterrows():\n",
    "    if(pd.notnull(row['Short description'])):\n",
    "        if(row['Description_word_count'] < len(row['Short description'].split())):\n",
    "            df.at[idx, 'Description'] = df.at[idx, 'Short description']"
   ]
  },
  {
   "cell_type": "code",
   "execution_count": 19,
   "metadata": {},
   "outputs": [
    {
     "data": {
      "text/plain": [
       "623"
      ]
     },
     "execution_count": 19,
     "metadata": {},
     "output_type": "execute_result"
    }
   ],
   "source": [
    "#Check for duplicate data that has same Description and Assignment group\n",
    "df.duplicated(subset=['Description','Assignment group']).sum()"
   ]
  },
  {
   "cell_type": "code",
   "execution_count": 20,
   "metadata": {},
   "outputs": [
    {
     "data": {
      "text/plain": [
       "(7877, 4)"
      ]
     },
     "execution_count": 20,
     "metadata": {},
     "output_type": "execute_result"
    }
   ],
   "source": [
    "#Remove duplicate data that has same Description and Assignment group\n",
    "df.drop_duplicates(['Description','Assignment group'], inplace=True)\n",
    "df.shape"
   ]
  },
  {
   "cell_type": "markdown",
   "metadata": {},
   "source": [
    "##### Visualizing different patterns"
   ]
  },
  {
   "cell_type": "code",
   "execution_count": 21,
   "metadata": {},
   "outputs": [
    {
     "data": {
      "image/png": "[encoded data removed]",
      "text/plain": [
       "<Figure size 720x1152 with 1 Axes>"
      ]
     },
     "metadata": {
      "needs_background": "light"
     },
     "output_type": "display_data"
    }
   ],
   "source": [
    "#Plot Assignment group values in increasing order\n",
    "plt.figure(figsize = (10, 16))\n",
    "sns.countplot(y= df['Assignment group'] ,data=df, order = df['Assignment group'].value_counts().index);"
   ]
  },
  {
   "cell_type": "markdown",
   "metadata": {},
   "source": [
    "Majority of the Description/tickets belongs to Assignment groups GRP_0,GRP_8,GRP_24,GRP_12,GRP_9,GRP_2,GRP_19,GRP_3,GRP_6,GRP_13,GRP_10,GRP_5,GRP_14,GRP_25,GRP_33,GRP_29,GRP_4,\n",
    "GRP_18,GRP_16,GRP_31,GRP_7,GRP_34, and GRP_26. And, as we observe in the above plot, some reasonable number of Description/tickets belong to GRP_40 until GRP_52. There is bias in classes with close to 50% of the data belonging to GRP_0 class."
   ]
  },
  {
   "cell_type": "code",
   "execution_count": 22,
   "metadata": {},
   "outputs": [
    {
     "data": {
      "image/png": "[encoded data removed]",
      "text/plain": [
       "<Figure size 720x1152 with 1 Axes>"
      ]
     },
     "metadata": {
      "needs_background": "light"
     },
     "output_type": "display_data"
    }
   ],
   "source": [
    "#Plot Description word count against Assignment groups\n",
    "plt.figure(figsize = (10, 16))\n",
    "sns.boxplot(x = 'Description_word_count', y = 'Assignment group', data = df)\n",
    "plt.xlabel(\"Description_word_count\")\n",
    "plt.ylabel(\"Assignment group\")\n",
    "plt.title(\"Description_word_count vs Assignment group\")\n",
    "plt.show()"
   ]
  },
  {
   "cell_type": "markdown",
   "metadata": {},
   "source": [
    "Almost every Assignment group has outliers at various length of Description word count. The average word count for every Assignment group seems to be almost under 30 words and covers most of the words for each class. This average word count will be helpful to decide the max length to be considered while converting text to sequence of numbers(vectors). And, during computation it will occupy less memory and training time will be lesser."
   ]
  },
  {
   "cell_type": "markdown",
   "metadata": {},
   "source": [
    "##### Text Preprocessing"
   ]
  },
  {
   "cell_type": "code",
   "execution_count": 23,
   "metadata": {},
   "outputs": [
    {
     "data": {
      "text/plain": [
       "((7877, 2), (7877, 2))"
      ]
     },
     "execution_count": 23,
     "metadata": {},
     "output_type": "execute_result"
    }
   ],
   "source": [
    "#Keep only required columns[Description and Assignment group] for further processing. Make two copies of dataframe.\n",
    "#df_base_txt_acc to use it for building a model with base text(only remove punctuations/stopwords).\n",
    "#df_process_txt_acc to use it for building a model with complete preprocessed text(remove punctuations, stopwords, \n",
    "#spaces, special symbols, lemmatize etc). Remove no longer required variables to free up memory.\n",
    "df.drop(['Short description', 'Description_word_count'],axis=1, inplace=True)\n",
    "df_base_txt_acc = copy.deepcopy(df)\n",
    "df_process_txt_acc = copy.deepcopy(df)\n",
    "del df\n",
    "df_base_txt_acc.shape, df_process_txt_acc.shape"
   ]
  },
  {
   "cell_type": "code",
   "execution_count": 24,
   "metadata": {
    "collapsed": true
   },
   "outputs": [],
   "source": [
    "#Convert text to lowercase\n",
    "def text_to_lower(txt):\n",
    "    return txt.lower()"
   ]
  },
  {
   "cell_type": "code",
   "execution_count": 25,
   "metadata": {},
   "outputs": [
    {
     "data": {
      "text/html": [
       "<div>\n",
       "<style scoped>\n",
       "    .dataframe tbody tr th:only-of-type {\n",
       "        vertical-align: middle;\n",
       "    }\n",
       "\n",
       "    .dataframe tbody tr th {\n",
       "        vertical-align: top;\n",
       "    }\n",
       "\n",
       "    .dataframe thead th {\n",
       "        text-align: right;\n",
       "    }\n",
       "</style>\n",
       "<table border=\"1\" class=\"dataframe\">\n",
       "  <thead>\n",
       "    <tr style=\"text-align: right;\">\n",
       "      <th></th>\n",
       "      <th>Description</th>\n",
       "      <th>Assignment group</th>\n",
       "    </tr>\n",
       "  </thead>\n",
       "  <tbody>\n",
       "    <tr>\n",
       "      <th>0</th>\n",
       "      <td>-verified user details.(employee# &amp; manager na...</td>\n",
       "      <td>GRP_0</td>\n",
       "    </tr>\n",
       "    <tr>\n",
       "      <th>1</th>\n",
       "      <td>\\n\\nreceived from: hmjdrvpb.komuaywn@gmail.com...</td>\n",
       "      <td>GRP_0</td>\n",
       "    </tr>\n",
       "    <tr>\n",
       "      <th>2</th>\n",
       "      <td>\\n\\nreceived from: eylqgodm.ybqkwiam@gmail.com...</td>\n",
       "      <td>GRP_0</td>\n",
       "    </tr>\n",
       "    <tr>\n",
       "      <th>3</th>\n",
       "      <td>unable to access hr_tool page</td>\n",
       "      <td>GRP_0</td>\n",
       "    </tr>\n",
       "    <tr>\n",
       "      <th>4</th>\n",
       "      <td>skype error</td>\n",
       "      <td>GRP_0</td>\n",
       "    </tr>\n",
       "  </tbody>\n",
       "</table>\n",
       "</div>"
      ],
      "text/plain": [
       "                                         Description Assignment group\n",
       "0  -verified user details.(employee# & manager na...            GRP_0\n",
       "1  \\n\\nreceived from: hmjdrvpb.komuaywn@gmail.com...            GRP_0\n",
       "2  \\n\\nreceived from: eylqgodm.ybqkwiam@gmail.com...            GRP_0\n",
       "3                      unable to access hr_tool page            GRP_0\n",
       "4                                       skype error             GRP_0"
      ]
     },
     "execution_count": 25,
     "metadata": {},
     "output_type": "execute_result"
    }
   ],
   "source": [
    "#Apply text_to_lower to remove any weight/value difference that could occur between lowercase and uppercase\n",
    "df_process_txt_acc[\"Description\"] = df_process_txt_acc[\"Description\"].apply(text_to_lower)\n",
    "df_process_txt_acc.head()"
   ]
  },
  {
   "cell_type": "code",
   "execution_count": 26,
   "metadata": {
    "collapsed": true
   },
   "outputs": [],
   "source": [
    "#Remove characters\n",
    "def remove_chars(txt, chars):\n",
    "    return txt.replace(chars,'')"
   ]
  },
  {
   "cell_type": "code",
   "execution_count": 27,
   "metadata": {},
   "outputs": [
    {
     "data": {
      "text/html": [
       "<div>\n",
       "<style scoped>\n",
       "    .dataframe tbody tr th:only-of-type {\n",
       "        vertical-align: middle;\n",
       "    }\n",
       "\n",
       "    .dataframe tbody tr th {\n",
       "        vertical-align: top;\n",
       "    }\n",
       "\n",
       "    .dataframe thead th {\n",
       "        text-align: right;\n",
       "    }\n",
       "</style>\n",
       "<table border=\"1\" class=\"dataframe\">\n",
       "  <thead>\n",
       "    <tr style=\"text-align: right;\">\n",
       "      <th></th>\n",
       "      <th>Description</th>\n",
       "      <th>Assignment group</th>\n",
       "    </tr>\n",
       "  </thead>\n",
       "  <tbody>\n",
       "    <tr>\n",
       "      <th>0</th>\n",
       "      <td>-verified user details.(employee# &amp; manager na...</td>\n",
       "      <td>GRP_0</td>\n",
       "    </tr>\n",
       "    <tr>\n",
       "      <th>1</th>\n",
       "      <td>: hmjdrvpb.komuaywn@gmail.comhello team,my mee...</td>\n",
       "      <td>GRP_0</td>\n",
       "    </tr>\n",
       "    <tr>\n",
       "      <th>2</th>\n",
       "      <td>: eylqgodm.ybqkwiam@gmail.comhii cannot log on...</td>\n",
       "      <td>GRP_0</td>\n",
       "    </tr>\n",
       "    <tr>\n",
       "      <th>3</th>\n",
       "      <td>unable to access hr_tool page</td>\n",
       "      <td>GRP_0</td>\n",
       "    </tr>\n",
       "    <tr>\n",
       "      <th>4</th>\n",
       "      <td>skype error</td>\n",
       "      <td>GRP_0</td>\n",
       "    </tr>\n",
       "  </tbody>\n",
       "</table>\n",
       "</div>"
      ],
      "text/plain": [
       "                                         Description Assignment group\n",
       "0  -verified user details.(employee# & manager na...            GRP_0\n",
       "1  : hmjdrvpb.komuaywn@gmail.comhello team,my mee...            GRP_0\n",
       "2  : eylqgodm.ybqkwiam@gmail.comhii cannot log on...            GRP_0\n",
       "3                      unable to access hr_tool page            GRP_0\n",
       "4                                       skype error             GRP_0"
      ]
     },
     "execution_count": 27,
     "metadata": {},
     "output_type": "execute_result"
    }
   ],
   "source": [
    "#Remove newline character and \"received from\" string as these two information in the text does not add value to the \n",
    "#problem description\n",
    "df_process_txt_acc[\"Description\"] = df_process_txt_acc[\"Description\"].apply(lambda text: remove_chars(text, '\\n'))\n",
    "df_process_txt_acc[\"Description\"] = df_process_txt_acc[\"Description\"].apply(lambda text: remove_chars(text, 'received from'))\n",
    "df_process_txt_acc.head()"
   ]
  },
  {
   "cell_type": "code",
   "execution_count": 28,
   "metadata": {
    "collapsed": true
   },
   "outputs": [],
   "source": [
    "#Remove email ids in text.\n",
    "def txt_eml_rmv(txt):\n",
    "    return re.sub('\\S+@\\S+','',txt)"
   ]
  },
  {
   "cell_type": "code",
   "execution_count": 29,
   "metadata": {},
   "outputs": [
    {
     "data": {
      "text/html": [
       "<div>\n",
       "<style scoped>\n",
       "    .dataframe tbody tr th:only-of-type {\n",
       "        vertical-align: middle;\n",
       "    }\n",
       "\n",
       "    .dataframe tbody tr th {\n",
       "        vertical-align: top;\n",
       "    }\n",
       "\n",
       "    .dataframe thead th {\n",
       "        text-align: right;\n",
       "    }\n",
       "</style>\n",
       "<table border=\"1\" class=\"dataframe\">\n",
       "  <thead>\n",
       "    <tr style=\"text-align: right;\">\n",
       "      <th></th>\n",
       "      <th>Description</th>\n",
       "      <th>Assignment group</th>\n",
       "    </tr>\n",
       "  </thead>\n",
       "  <tbody>\n",
       "    <tr>\n",
       "      <th>0</th>\n",
       "      <td>-verified user details.(employee# &amp; manager na...</td>\n",
       "      <td>GRP_0</td>\n",
       "    </tr>\n",
       "    <tr>\n",
       "      <th>1</th>\n",
       "      <td>:  team,my meetings/skype meetings etc are not...</td>\n",
       "      <td>GRP_0</td>\n",
       "    </tr>\n",
       "    <tr>\n",
       "      <th>2</th>\n",
       "      <td>:  cannot log on to vpnbest</td>\n",
       "      <td>GRP_0</td>\n",
       "    </tr>\n",
       "    <tr>\n",
       "      <th>3</th>\n",
       "      <td>unable to access hr_tool page</td>\n",
       "      <td>GRP_0</td>\n",
       "    </tr>\n",
       "    <tr>\n",
       "      <th>4</th>\n",
       "      <td>skype error</td>\n",
       "      <td>GRP_0</td>\n",
       "    </tr>\n",
       "  </tbody>\n",
       "</table>\n",
       "</div>"
      ],
      "text/plain": [
       "                                         Description Assignment group\n",
       "0  -verified user details.(employee# & manager na...            GRP_0\n",
       "1  :  team,my meetings/skype meetings etc are not...            GRP_0\n",
       "2                       :  cannot log on to vpnbest             GRP_0\n",
       "3                      unable to access hr_tool page            GRP_0\n",
       "4                                       skype error             GRP_0"
      ]
     },
     "execution_count": 29,
     "metadata": {},
     "output_type": "execute_result"
    }
   ],
   "source": [
    "#Apply txt_eml_rmv to remove email ids which is just a contact/from information related and no help with problem\n",
    "#description\n",
    "df_process_txt_acc[\"Description\"] = df_process_txt_acc[\"Description\"].apply(txt_eml_rmv)\n",
    "df_process_txt_acc.head()"
   ]
  },
  {
   "cell_type": "code",
   "execution_count": 30,
   "metadata": {
    "collapsed": true
   },
   "outputs": [],
   "source": [
    "#Remove punctuations\n",
    "punctuations = set(string.punctuation)\n",
    "def rem_punctuations(txt):\n",
    "    return \"\".join(ltr if ltr not in punctuations else ' ' for ltr in txt)"
   ]
  },
  {
   "cell_type": "code",
   "execution_count": 31,
   "metadata": {},
   "outputs": [
    {
     "data": {
      "text/html": [
       "<div>\n",
       "<style scoped>\n",
       "    .dataframe tbody tr th:only-of-type {\n",
       "        vertical-align: middle;\n",
       "    }\n",
       "\n",
       "    .dataframe tbody tr th {\n",
       "        vertical-align: top;\n",
       "    }\n",
       "\n",
       "    .dataframe thead th {\n",
       "        text-align: right;\n",
       "    }\n",
       "</style>\n",
       "<table border=\"1\" class=\"dataframe\">\n",
       "  <thead>\n",
       "    <tr style=\"text-align: right;\">\n",
       "      <th></th>\n",
       "      <th>Description</th>\n",
       "      <th>Assignment group</th>\n",
       "    </tr>\n",
       "  </thead>\n",
       "  <tbody>\n",
       "    <tr>\n",
       "      <th>0</th>\n",
       "      <td>verified user details  employee    manager na...</td>\n",
       "      <td>GRP_0</td>\n",
       "    </tr>\n",
       "    <tr>\n",
       "      <th>1</th>\n",
       "      <td>team my meetings skype meetings etc are not...</td>\n",
       "      <td>GRP_0</td>\n",
       "    </tr>\n",
       "    <tr>\n",
       "      <th>2</th>\n",
       "      <td>cannot log on to vpnbest</td>\n",
       "      <td>GRP_0</td>\n",
       "    </tr>\n",
       "    <tr>\n",
       "      <th>3</th>\n",
       "      <td>unable to access hr tool page</td>\n",
       "      <td>GRP_0</td>\n",
       "    </tr>\n",
       "    <tr>\n",
       "      <th>4</th>\n",
       "      <td>skype error</td>\n",
       "      <td>GRP_0</td>\n",
       "    </tr>\n",
       "  </tbody>\n",
       "</table>\n",
       "</div>"
      ],
      "text/plain": [
       "                                         Description Assignment group\n",
       "0   verified user details  employee    manager na...            GRP_0\n",
       "1     team my meetings skype meetings etc are not...            GRP_0\n",
       "2                          cannot log on to vpnbest             GRP_0\n",
       "3                      unable to access hr tool page            GRP_0\n",
       "4                                       skype error             GRP_0"
      ]
     },
     "execution_count": 31,
     "metadata": {},
     "output_type": "execute_result"
    }
   ],
   "source": [
    "#Apply rem_punctuations to remove symbols which is not relavant for the ticket assignment classification. Some \n",
    "#punctuations(!) might be helpful in case of sentiment classification.\n",
    "df_process_txt_acc[\"Description\"] = df_process_txt_acc[\"Description\"].apply(rem_punctuations)\n",
    "df_process_txt_acc.head()"
   ]
  },
  {
   "cell_type": "code",
   "execution_count": 32,
   "metadata": {
    "collapsed": true
   },
   "outputs": [],
   "source": [
    "#Remove any special symbols, digits etc with regular expression. \n",
    "def text_to_alpha(txt):\n",
    "    return re.sub('[^a-zA-Z]', ' ', txt)"
   ]
  },
  {
   "cell_type": "code",
   "execution_count": 33,
   "metadata": {},
   "outputs": [
    {
     "data": {
      "text/html": [
       "<div>\n",
       "<style scoped>\n",
       "    .dataframe tbody tr th:only-of-type {\n",
       "        vertical-align: middle;\n",
       "    }\n",
       "\n",
       "    .dataframe tbody tr th {\n",
       "        vertical-align: top;\n",
       "    }\n",
       "\n",
       "    .dataframe thead th {\n",
       "        text-align: right;\n",
       "    }\n",
       "</style>\n",
       "<table border=\"1\" class=\"dataframe\">\n",
       "  <thead>\n",
       "    <tr style=\"text-align: right;\">\n",
       "      <th></th>\n",
       "      <th>Description</th>\n",
       "      <th>Assignment group</th>\n",
       "    </tr>\n",
       "  </thead>\n",
       "  <tbody>\n",
       "    <tr>\n",
       "      <th>0</th>\n",
       "      <td>verified user details  employee    manager na...</td>\n",
       "      <td>GRP_0</td>\n",
       "    </tr>\n",
       "    <tr>\n",
       "      <th>1</th>\n",
       "      <td>team my meetings skype meetings etc are not...</td>\n",
       "      <td>GRP_0</td>\n",
       "    </tr>\n",
       "    <tr>\n",
       "      <th>2</th>\n",
       "      <td>cannot log on to vpnbest</td>\n",
       "      <td>GRP_0</td>\n",
       "    </tr>\n",
       "    <tr>\n",
       "      <th>3</th>\n",
       "      <td>unable to access hr tool page</td>\n",
       "      <td>GRP_0</td>\n",
       "    </tr>\n",
       "    <tr>\n",
       "      <th>4</th>\n",
       "      <td>skype error</td>\n",
       "      <td>GRP_0</td>\n",
       "    </tr>\n",
       "  </tbody>\n",
       "</table>\n",
       "</div>"
      ],
      "text/plain": [
       "                                         Description Assignment group\n",
       "0   verified user details  employee    manager na...            GRP_0\n",
       "1     team my meetings skype meetings etc are not...            GRP_0\n",
       "2                          cannot log on to vpnbest             GRP_0\n",
       "3                      unable to access hr tool page            GRP_0\n",
       "4                                       skype error             GRP_0"
      ]
     },
     "execution_count": 33,
     "metadata": {},
     "output_type": "execute_result"
    }
   ],
   "source": [
    "#Apply text_to_alpha to convert the text in the Description attribute to recognizable characters.\n",
    "df_process_txt_acc[\"Description\"] = df_process_txt_acc[\"Description\"].apply(text_to_alpha)\n",
    "df_process_txt_acc.head()"
   ]
  },
  {
   "cell_type": "code",
   "execution_count": 34,
   "metadata": {
    "collapsed": true
   },
   "outputs": [],
   "source": [
    "#Remove stopwords\n",
    "eng_stopwords = set(stopwords.words(\"english\"))\n",
    "def rem_stpwrds(txt):\n",
    "    return \" \".join(word for word in txt.split() if word not in eng_stopwords)"
   ]
  },
  {
   "cell_type": "code",
   "execution_count": 35,
   "metadata": {},
   "outputs": [
    {
     "data": {
      "text/html": [
       "<div>\n",
       "<style scoped>\n",
       "    .dataframe tbody tr th:only-of-type {\n",
       "        vertical-align: middle;\n",
       "    }\n",
       "\n",
       "    .dataframe tbody tr th {\n",
       "        vertical-align: top;\n",
       "    }\n",
       "\n",
       "    .dataframe thead th {\n",
       "        text-align: right;\n",
       "    }\n",
       "</style>\n",
       "<table border=\"1\" class=\"dataframe\">\n",
       "  <thead>\n",
       "    <tr style=\"text-align: right;\">\n",
       "      <th></th>\n",
       "      <th>Description</th>\n",
       "      <th>Assignment group</th>\n",
       "    </tr>\n",
       "  </thead>\n",
       "  <tbody>\n",
       "    <tr>\n",
       "      <th>0</th>\n",
       "      <td>verified user details employee manager name ch...</td>\n",
       "      <td>GRP_0</td>\n",
       "    </tr>\n",
       "    <tr>\n",
       "      <th>1</th>\n",
       "      <td>team meetings skype meetings etc appearing out...</td>\n",
       "      <td>GRP_0</td>\n",
       "    </tr>\n",
       "    <tr>\n",
       "      <th>2</th>\n",
       "      <td>cannot log vpnbest</td>\n",
       "      <td>GRP_0</td>\n",
       "    </tr>\n",
       "    <tr>\n",
       "      <th>3</th>\n",
       "      <td>unable access hr tool page</td>\n",
       "      <td>GRP_0</td>\n",
       "    </tr>\n",
       "    <tr>\n",
       "      <th>4</th>\n",
       "      <td>skype error</td>\n",
       "      <td>GRP_0</td>\n",
       "    </tr>\n",
       "  </tbody>\n",
       "</table>\n",
       "</div>"
      ],
      "text/plain": [
       "                                         Description Assignment group\n",
       "0  verified user details employee manager name ch...            GRP_0\n",
       "1  team meetings skype meetings etc appearing out...            GRP_0\n",
       "2                                 cannot log vpnbest            GRP_0\n",
       "3                         unable access hr tool page            GRP_0\n",
       "4                                        skype error            GRP_0"
      ]
     },
     "execution_count": 35,
     "metadata": {},
     "output_type": "execute_result"
    }
   ],
   "source": [
    "#Apply rem_stpwrds to remove stopwords(this, is, had, will etc) which will not change the Description text important \n",
    "#tokens/features that will be picked by model to classify.\n",
    "df_process_txt_acc[\"Description\"] = df_process_txt_acc[\"Description\"].apply(rem_stpwrds)\n",
    "df_process_txt_acc.head()"
   ]
  },
  {
   "cell_type": "code",
   "execution_count": 36,
   "metadata": {
    "collapsed": true
   },
   "outputs": [],
   "source": [
    "#Remove whitespaces\n",
    "def rem_whitespaces(txt):\n",
    "    txtstrp = txt.strip()\n",
    "    return re.sub(r'\\s+', ' ', txtstrp)"
   ]
  },
  {
   "cell_type": "code",
   "execution_count": 37,
   "metadata": {},
   "outputs": [
    {
     "data": {
      "text/html": [
       "<div>\n",
       "<style scoped>\n",
       "    .dataframe tbody tr th:only-of-type {\n",
       "        vertical-align: middle;\n",
       "    }\n",
       "\n",
       "    .dataframe tbody tr th {\n",
       "        vertical-align: top;\n",
       "    }\n",
       "\n",
       "    .dataframe thead th {\n",
       "        text-align: right;\n",
       "    }\n",
       "</style>\n",
       "<table border=\"1\" class=\"dataframe\">\n",
       "  <thead>\n",
       "    <tr style=\"text-align: right;\">\n",
       "      <th></th>\n",
       "      <th>Description</th>\n",
       "      <th>Assignment group</th>\n",
       "    </tr>\n",
       "  </thead>\n",
       "  <tbody>\n",
       "    <tr>\n",
       "      <th>0</th>\n",
       "      <td>verified user details employee manager name ch...</td>\n",
       "      <td>GRP_0</td>\n",
       "    </tr>\n",
       "    <tr>\n",
       "      <th>1</th>\n",
       "      <td>team meetings skype meetings etc appearing out...</td>\n",
       "      <td>GRP_0</td>\n",
       "    </tr>\n",
       "    <tr>\n",
       "      <th>2</th>\n",
       "      <td>cannot log vpnbest</td>\n",
       "      <td>GRP_0</td>\n",
       "    </tr>\n",
       "    <tr>\n",
       "      <th>3</th>\n",
       "      <td>unable access hr tool page</td>\n",
       "      <td>GRP_0</td>\n",
       "    </tr>\n",
       "    <tr>\n",
       "      <th>4</th>\n",
       "      <td>skype error</td>\n",
       "      <td>GRP_0</td>\n",
       "    </tr>\n",
       "  </tbody>\n",
       "</table>\n",
       "</div>"
      ],
      "text/plain": [
       "                                         Description Assignment group\n",
       "0  verified user details employee manager name ch...            GRP_0\n",
       "1  team meetings skype meetings etc appearing out...            GRP_0\n",
       "2                                 cannot log vpnbest            GRP_0\n",
       "3                         unable access hr tool page            GRP_0\n",
       "4                                        skype error            GRP_0"
      ]
     },
     "execution_count": 37,
     "metadata": {},
     "output_type": "execute_result"
    }
   ],
   "source": [
    "#Apply rem_whitespaces to remove whitespaces leading and trailing, replace multiple spaces with single spaces which \n",
    "#will reduce the length of the text while keeping the words intact.\n",
    "df_process_txt_acc[\"Description\"] = df_process_txt_acc[\"Description\"].apply(rem_whitespaces)\n",
    "df_process_txt_acc.head()"
   ]
  },
  {
   "cell_type": "code",
   "execution_count": 38,
   "metadata": {},
   "outputs": [
    {
     "name": "stdout",
     "output_type": "stream",
     "text": [
      "12846\n"
     ]
    }
   ],
   "source": [
    "#After removing the stopwords, check if there are still words with two characters(hr, ad, sr etc)\n",
    "two_or_less_char_wrds = []\n",
    "count = 0\n",
    "for idx, row in copy.deepcopy(df_process_txt_acc).iterrows():\n",
    "    for wrd in row['Description'].split():        \n",
    "        if len(wrd)<=2:                \n",
    "            two_or_less_char_wrds.append(wrd)\n",
    "print(len(two_or_less_char_wrds))"
   ]
  },
  {
   "cell_type": "code",
   "execution_count": 39,
   "metadata": {
    "collapsed": true
   },
   "outputs": [],
   "source": [
    "#Remove words which are less than or equal to two chars. \n",
    "def rem_less_than_two_chars(txt):\n",
    "    return ' '.join([wrd for wrd in txt.split() if len(wrd)>2])"
   ]
  },
  {
   "cell_type": "code",
   "execution_count": 40,
   "metadata": {},
   "outputs": [
    {
     "data": {
      "text/html": [
       "<div>\n",
       "<style scoped>\n",
       "    .dataframe tbody tr th:only-of-type {\n",
       "        vertical-align: middle;\n",
       "    }\n",
       "\n",
       "    .dataframe tbody tr th {\n",
       "        vertical-align: top;\n",
       "    }\n",
       "\n",
       "    .dataframe thead th {\n",
       "        text-align: right;\n",
       "    }\n",
       "</style>\n",
       "<table border=\"1\" class=\"dataframe\">\n",
       "  <thead>\n",
       "    <tr style=\"text-align: right;\">\n",
       "      <th></th>\n",
       "      <th>Description</th>\n",
       "      <th>Assignment group</th>\n",
       "    </tr>\n",
       "  </thead>\n",
       "  <tbody>\n",
       "    <tr>\n",
       "      <th>0</th>\n",
       "      <td>verified user details employee manager name ch...</td>\n",
       "      <td>GRP_0</td>\n",
       "    </tr>\n",
       "    <tr>\n",
       "      <th>1</th>\n",
       "      <td>team meetings skype meetings etc appearing out...</td>\n",
       "      <td>GRP_0</td>\n",
       "    </tr>\n",
       "    <tr>\n",
       "      <th>2</th>\n",
       "      <td>cannot log vpnbest</td>\n",
       "      <td>GRP_0</td>\n",
       "    </tr>\n",
       "    <tr>\n",
       "      <th>3</th>\n",
       "      <td>unable access tool page</td>\n",
       "      <td>GRP_0</td>\n",
       "    </tr>\n",
       "    <tr>\n",
       "      <th>4</th>\n",
       "      <td>skype error</td>\n",
       "      <td>GRP_0</td>\n",
       "    </tr>\n",
       "  </tbody>\n",
       "</table>\n",
       "</div>"
      ],
      "text/plain": [
       "                                         Description Assignment group\n",
       "0  verified user details employee manager name ch...            GRP_0\n",
       "1  team meetings skype meetings etc appearing out...            GRP_0\n",
       "2                                 cannot log vpnbest            GRP_0\n",
       "3                            unable access tool page            GRP_0\n",
       "4                                        skype error            GRP_0"
      ]
     },
     "execution_count": 40,
     "metadata": {},
     "output_type": "execute_result"
    }
   ],
   "source": [
    "#Apply rem_less_than_two_chars to remove words which are less than or equal to two chars (hr, ad, sr etc) as they may \n",
    "#not provide much helpful meaning/context.\n",
    "df_process_txt_acc['Description'] = df_process_txt_acc['Description'].apply(rem_less_than_two_chars)\n",
    "df_process_txt_acc.head()"
   ]
  },
  {
   "cell_type": "code",
   "execution_count": 41,
   "metadata": {
    "collapsed": true
   },
   "outputs": [],
   "source": [
    "#Lemmatize Words\n",
    "lemmatz = WordNetLemmatizer()\n",
    "def text_lemmatiz(txt):\n",
    "    lmmtz_txt = []\n",
    "    for wrd in txt.split():\n",
    "        lmmtz_wrd = lemmatz.lemmatize(wrd) \n",
    "        lmmtz_txt.append(lmmtz_wrd)\n",
    "    return \" \".join(lmmtz_txt)"
   ]
  },
  {
   "cell_type": "code",
   "execution_count": 42,
   "metadata": {},
   "outputs": [
    {
     "data": {
      "text/html": [
       "<div>\n",
       "<style scoped>\n",
       "    .dataframe tbody tr th:only-of-type {\n",
       "        vertical-align: middle;\n",
       "    }\n",
       "\n",
       "    .dataframe tbody tr th {\n",
       "        vertical-align: top;\n",
       "    }\n",
       "\n",
       "    .dataframe thead th {\n",
       "        text-align: right;\n",
       "    }\n",
       "</style>\n",
       "<table border=\"1\" class=\"dataframe\">\n",
       "  <thead>\n",
       "    <tr style=\"text-align: right;\">\n",
       "      <th></th>\n",
       "      <th>Description</th>\n",
       "      <th>Assignment group</th>\n",
       "    </tr>\n",
       "  </thead>\n",
       "  <tbody>\n",
       "    <tr>\n",
       "      <th>0</th>\n",
       "      <td>verified user detail employee manager name che...</td>\n",
       "      <td>GRP_0</td>\n",
       "    </tr>\n",
       "    <tr>\n",
       "      <th>1</th>\n",
       "      <td>team meeting skype meeting etc appearing outlo...</td>\n",
       "      <td>GRP_0</td>\n",
       "    </tr>\n",
       "    <tr>\n",
       "      <th>2</th>\n",
       "      <td>cannot log vpnbest</td>\n",
       "      <td>GRP_0</td>\n",
       "    </tr>\n",
       "    <tr>\n",
       "      <th>3</th>\n",
       "      <td>unable access tool page</td>\n",
       "      <td>GRP_0</td>\n",
       "    </tr>\n",
       "    <tr>\n",
       "      <th>4</th>\n",
       "      <td>skype error</td>\n",
       "      <td>GRP_0</td>\n",
       "    </tr>\n",
       "  </tbody>\n",
       "</table>\n",
       "</div>"
      ],
      "text/plain": [
       "                                         Description Assignment group\n",
       "0  verified user detail employee manager name che...            GRP_0\n",
       "1  team meeting skype meeting etc appearing outlo...            GRP_0\n",
       "2                                 cannot log vpnbest            GRP_0\n",
       "3                            unable access tool page            GRP_0\n",
       "4                                        skype error            GRP_0"
      ]
     },
     "execution_count": 42,
     "metadata": {},
     "output_type": "execute_result"
    }
   ],
   "source": [
    "#Apply text_lemmatiz to convert words into base word which is an actual language word and we could get word embedding\n",
    "#for it from pretrained embeddings.\n",
    "df_process_txt_acc[\"Description\"] = df_process_txt_acc[\"Description\"].apply(text_lemmatiz)\n",
    "df_process_txt_acc.head()"
   ]
  },
  {
   "cell_type": "code",
   "execution_count": 43,
   "metadata": {},
   "outputs": [
    {
     "data": {
      "text/plain": [
       "1291"
      ]
     },
     "execution_count": 43,
     "metadata": {},
     "output_type": "execute_result"
    }
   ],
   "source": [
    "#After text preprocessing, check for duplicate data that has same Description and Assignment group\n",
    "df_process_txt_acc.duplicated(subset=['Description','Assignment group']).sum()"
   ]
  },
  {
   "cell_type": "code",
   "execution_count": 44,
   "metadata": {},
   "outputs": [
    {
     "data": {
      "text/plain": [
       "(6582, 2)"
      ]
     },
     "execution_count": 44,
     "metadata": {},
     "output_type": "execute_result"
    }
   ],
   "source": [
    "#Let's remove duplicate data that has same Description and Assignment group and empty Description\n",
    "df_process_txt_acc.drop_duplicates(['Description','Assignment group'], inplace=True)\n",
    "df_process_txt_acc = df_process_txt_acc[df_process_txt_acc['Description'].apply(lambda text: len(text.split())>0)]\n",
    "df_process_txt_acc.shape"
   ]
  },
  {
   "cell_type": "markdown",
   "metadata": {},
   "source": [
    "##### Visualizing different text features"
   ]
  },
  {
   "cell_type": "code",
   "execution_count": 45,
   "metadata": {},
   "outputs": [
    {
     "data": {
      "image/png": "[encoded data removed]",
      "text/plain": [
       "<Figure size 1008x1152 with 1 Axes>"
      ]
     },
     "metadata": {
      "needs_background": "light"
     },
     "output_type": "display_data"
    }
   ],
   "source": [
    "#visual representations of words using wordcloud that give prominence to words on frequency.\n",
    "wordcld_inp = ' '.join(df_process_txt_acc['Description'].tolist())\n",
    "wordcloud = WordCloud(background_color=\"white\",width=1500, height=700).generate(wordcld_inp)\n",
    "plt.figure(figsize=(14,16))\n",
    "plt.imshow(wordcloud)\n",
    "plt.axis(\"off\")\n",
    "plt.show()"
   ]
  },
  {
   "cell_type": "code",
   "execution_count": 46,
   "metadata": {},
   "outputs": [
    {
     "data": {
      "image/png": "[encoded data removed]",
      "text/plain": [
       "<Figure size 720x1152 with 1 Axes>"
      ]
     },
     "metadata": {
      "needs_background": "light"
     },
     "output_type": "display_data"
    }
   ],
   "source": [
    "#Plot top 50 features in terms of unigram(1 word)\n",
    "cvt_uni = CountVectorizer(ngram_range=(1, 1)).fit(df_process_txt_acc['Description'])\n",
    "cvt_uni_wrds = cvt_uni.transform(df_process_txt_acc['Description'])\n",
    "uni_sumtn_wrds = cvt_uni_wrds.sum(axis=0)\n",
    "uni_wrds_occrnc = [(word, uni_sumtn_wrds[0, idx]) for word, idx in cvt_uni.vocabulary_.items()]\n",
    "uni_wrds_occrnc =sorted(uni_wrds_occrnc, key = lambda x: x[1], reverse=True)\n",
    "df_uni_top_50_featrs = pd.DataFrame(uni_wrds_occrnc[:50], columns = ['Features' , 'Count'])\n",
    "plt.figure(figsize=(10,16))\n",
    "sns.barplot(x=\"Count\", y=\"Features\", data=df_uni_top_50_featrs)\n",
    "plt.show()"
   ]
  },
  {
   "cell_type": "markdown",
   "metadata": {},
   "source": [
    "The top features here represents words which have meaning and not just jumbled letters."
   ]
  },
  {
   "cell_type": "code",
   "execution_count": 47,
   "metadata": {},
   "outputs": [
    {
     "data": {
      "image/png": "[encoded data removed]",
      "text/plain": [
       "<Figure size 720x1152 with 1 Axes>"
      ]
     },
     "metadata": {
      "needs_background": "light"
     },
     "output_type": "display_data"
    }
   ],
   "source": [
    "#Plot bottom 50 features in terms of unigram(1 word). Remove no longer required variables to free up memory.\n",
    "cvt_uni = CountVectorizer(ngram_range=(1, 1)).fit(df_process_txt_acc['Description'])\n",
    "cvt_uni_wrds = cvt_uni.transform(df_process_txt_acc['Description'])\n",
    "uni_sumtn_wrds = cvt_uni_wrds.sum(axis=0)\n",
    "uni_wrds_occrnc = [(word, uni_sumtn_wrds[0, idx]) for word, idx in cvt_uni.vocabulary_.items()]\n",
    "uni_wrds_occrnc =sorted(uni_wrds_occrnc, key = lambda x: x[1])\n",
    "df_uni_bot_50_featrs = pd.DataFrame(uni_wrds_occrnc[:50], columns = ['Features' , 'Count'])\n",
    "plt.figure(figsize=(10,16))\n",
    "sns.barplot(x=\"Count\", y=\"Features\", data=df_uni_bot_50_featrs)\n",
    "plt.show()\n",
    "del wordcld_inp, wordcloud, cvt_uni, cvt_uni_wrds, uni_sumtn_wrds, uni_wrds_occrnc, df_uni_top_50_featrs, df_uni_bot_50_featrs"
   ]
  },
  {
   "cell_type": "markdown",
   "metadata": {},
   "source": [
    "The bottom features here represents words which are mostly just jumbled[no meaning] letters."
   ]
  },
  {
   "cell_type": "code",
   "execution_count": 48,
   "metadata": {},
   "outputs": [
    {
     "data": {
      "image/png": "[encoded data removed]",
      "text/plain": [
       "<Figure size 720x1152 with 1 Axes>"
      ]
     },
     "metadata": {
      "needs_background": "light"
     },
     "output_type": "display_data"
    }
   ],
   "source": [
    "#Plot top 50 features in terms of bigram(2 words)\n",
    "cvt_bi = CountVectorizer(ngram_range=(2, 2)).fit(df_process_txt_acc['Description'])\n",
    "cvt_bi_wrds = cvt_bi.transform(df_process_txt_acc['Description'])\n",
    "bi_sumtn_wrds = cvt_bi_wrds.sum(axis=0)\n",
    "bi_wrds_occrnc = [(word, bi_sumtn_wrds[0, idx]) for word, idx in cvt_bi.vocabulary_.items()]\n",
    "bi_wrds_occrnc =sorted(bi_wrds_occrnc, key = lambda x: x[1], reverse=True)\n",
    "df_bi_top_50_featrs = pd.DataFrame(bi_wrds_occrnc[:50], columns = ['Features' , 'Count'])\n",
    "plt.figure(figsize=(10,16))\n",
    "sns.barplot(x=\"Count\", y=\"Features\", data=df_bi_top_50_featrs)\n",
    "plt.show()"
   ]
  },
  {
   "cell_type": "markdown",
   "metadata": {},
   "source": [
    "The top features in bigrams represents mostly words which have meaning and not just jumbled words/letters."
   ]
  },
  {
   "cell_type": "code",
   "execution_count": 49,
   "metadata": {},
   "outputs": [
    {
     "data": {
      "image/png": "[encoded data removed]",
      "text/plain": [
       "<Figure size 720x1152 with 1 Axes>"
      ]
     },
     "metadata": {
      "needs_background": "light"
     },
     "output_type": "display_data"
    }
   ],
   "source": [
    "#Plot top 50 features in terms of trigram(3 words). Remove no longer required variables to free up memory.\n",
    "cvt_tri = CountVectorizer(ngram_range=(3, 3)).fit(df_process_txt_acc['Description'])\n",
    "cvt_tri_wrds = cvt_tri.transform(df_process_txt_acc['Description'])\n",
    "tri_sumtn_wrds = cvt_tri_wrds.sum(axis=0)\n",
    "tri_wrds_occrnc = [(word, tri_sumtn_wrds[0, idx]) for word, idx in cvt_tri.vocabulary_.items()]\n",
    "tri_wrds_occrnc =sorted(tri_wrds_occrnc, key = lambda x: x[1], reverse=True)\n",
    "df_tri_top_50_featrs = pd.DataFrame(tri_wrds_occrnc[:50], columns = ['Features' , 'Count'])\n",
    "plt.figure(figsize=(10,16))\n",
    "sns.barplot(x=\"Count\", y=\"Features\", data=df_tri_top_50_featrs)\n",
    "plt.show()\n",
    "del cvt_bi, cvt_bi_wrds, bi_sumtn_wrds, bi_wrds_occrnc, df_bi_top_50_featrs\n",
    "del cvt_tri, cvt_tri_wrds, tri_sumtn_wrds, tri_wrds_occrnc, df_tri_top_50_featrs"
   ]
  },
  {
   "cell_type": "markdown",
   "metadata": {},
   "source": [
    "The top features in trigrams represents mostly words which have meaning and not just jumbled words/letters."
   ]
  },
  {
   "cell_type": "markdown",
   "metadata": {},
   "source": [
    "##### Creating tokens"
   ]
  },
  {
   "cell_type": "code",
   "execution_count": 50,
   "metadata": {
    "collapsed": true
   },
   "outputs": [],
   "source": [
    "#Considering top 5000 words(possibility of occurence of meaningful/correct english words is more), oov_char for words \n",
    "#that were cut out because of the top_num_words while using Tokenizer\n",
    "top_num_words = 5000\n",
    "oov_char = \"<OOV>\""
   ]
  },
  {
   "cell_type": "code",
   "execution_count": 51,
   "metadata": {
    "collapsed": true
   },
   "outputs": [],
   "source": [
    "#Tokenizer to break the sentences to individual tokens and rank them based on the frequencey of appearance. We can use\n",
    "#this Tokenizer to pad text to sequences of numbers(vectors) for use in neural network.\n",
    "tokenizer = Tokenizer(num_words=top_num_words, oov_token=oov_char)\n",
    "tokenizer.fit_on_texts(df_process_txt_acc['Description'].values)"
   ]
  },
  {
   "cell_type": "code",
   "execution_count": 52,
   "metadata": {
    "collapsed": true
   },
   "outputs": [],
   "source": [
    "#Tokens in the unigram(1 word), bigram(2 words - more context) and (unigram + bigrams) form with CountVectorizer. We \n",
    "#can use these CountVectorizers to tranform the text(vectorize) and train supervised learning algorithms.\n",
    "cvt_unigram = CountVectorizer(ngram_range=(1, 1)).fit(df_process_txt_acc['Description'])\n",
    "cvt_bigram = CountVectorizer(ngram_range=(2, 2)).fit(df_process_txt_acc['Description'])\n",
    "cvt_uni_bigram = CountVectorizer(ngram_range=(1, 2)).fit(df_process_txt_acc['Description'])"
   ]
  },
  {
   "cell_type": "markdown",
   "metadata": {},
   "source": [
    "##### Word vocabulary"
   ]
  },
  {
   "cell_type": "code",
   "execution_count": 53,
   "metadata": {},
   "outputs": [
    {
     "name": "stdout",
     "output_type": "stream",
     "text": [
      "13290\n"
     ]
    }
   ],
   "source": [
    "#Get the vocabulary size of Tokenizer tokens. We will add +1 to word index as zero is reserved for padding.\n",
    "tokenizr_vocabsize=len(tokenizer.word_index)+1\n",
    "print(tokenizr_vocabsize)"
   ]
  },
  {
   "cell_type": "code",
   "execution_count": 54,
   "metadata": {},
   "outputs": [
    {
     "name": "stdout",
     "output_type": "stream",
     "text": [
      "13287\n"
     ]
    }
   ],
   "source": [
    "#Get the vocabulary size of CountVectorizer unigram tokens.\n",
    "cvt_uni_vocabsize=len(cvt_unigram.vocabulary_.items())\n",
    "print(cvt_uni_vocabsize)"
   ]
  },
  {
   "cell_type": "code",
   "execution_count": 55,
   "metadata": {},
   "outputs": [
    {
     "name": "stdout",
     "output_type": "stream",
     "text": [
      "56397\n"
     ]
    }
   ],
   "source": [
    "#Get the vocabulary size of CountVectorizer bigram tokens.\n",
    "cvt_bi_vocabsize=len(cvt_bigram.vocabulary_.items())\n",
    "print(cvt_bi_vocabsize)"
   ]
  },
  {
   "cell_type": "code",
   "execution_count": 56,
   "metadata": {},
   "outputs": [
    {
     "name": "stdout",
     "output_type": "stream",
     "text": [
      "69684\n"
     ]
    }
   ],
   "source": [
    "#Get the vocabulary size of CountVectorizer (unigram + bigram) tokens. Remove no longer required variables to \n",
    "#free up memory.\n",
    "cvt_uni_bi_vocabsize=len(cvt_uni_bigram.vocabulary_.items())\n",
    "print(cvt_uni_bi_vocabsize)\n",
    "del top_num_words, oov_char, tokenizer, cvt_unigram, cvt_bigram, cvt_uni_bigram\n",
    "del tokenizr_vocabsize, cvt_uni_vocabsize, cvt_bi_vocabsize, cvt_uni_bi_vocabsize"
   ]
  },
  {
   "cell_type": "code",
   "execution_count": 57,
   "metadata": {},
   "outputs": [
    {
     "data": {
      "text/html": [
       "<div>\n",
       "<style scoped>\n",
       "    .dataframe tbody tr th:only-of-type {\n",
       "        vertical-align: middle;\n",
       "    }\n",
       "\n",
       "    .dataframe tbody tr th {\n",
       "        vertical-align: top;\n",
       "    }\n",
       "\n",
       "    .dataframe thead th {\n",
       "        text-align: right;\n",
       "    }\n",
       "</style>\n",
       "<table border=\"1\" class=\"dataframe\">\n",
       "  <thead>\n",
       "    <tr style=\"text-align: right;\">\n",
       "      <th></th>\n",
       "      <th>Description</th>\n",
       "      <th>Assignment group</th>\n",
       "    </tr>\n",
       "  </thead>\n",
       "  <tbody>\n",
       "    <tr>\n",
       "      <th>0</th>\n",
       "      <td>verified user details employee manager name ch...</td>\n",
       "      <td>GRP_0</td>\n",
       "    </tr>\n",
       "    <tr>\n",
       "      <th>1</th>\n",
       "      <td>received hmjdrvpb komuaywn gmail com hello tea...</td>\n",
       "      <td>GRP_0</td>\n",
       "    </tr>\n",
       "    <tr>\n",
       "      <th>2</th>\n",
       "      <td>received eylqgodm ybqkwiam gmail com hi cannot...</td>\n",
       "      <td>GRP_0</td>\n",
       "    </tr>\n",
       "    <tr>\n",
       "      <th>3</th>\n",
       "      <td>unable access hr tool page</td>\n",
       "      <td>GRP_0</td>\n",
       "    </tr>\n",
       "    <tr>\n",
       "      <th>4</th>\n",
       "      <td>skype error</td>\n",
       "      <td>GRP_0</td>\n",
       "    </tr>\n",
       "  </tbody>\n",
       "</table>\n",
       "</div>"
      ],
      "text/plain": [
       "                                         Description Assignment group\n",
       "0  verified user details employee manager name ch...            GRP_0\n",
       "1  received hmjdrvpb komuaywn gmail com hello tea...            GRP_0\n",
       "2  received eylqgodm ybqkwiam gmail com hi cannot...            GRP_0\n",
       "3                         unable access hr tool page            GRP_0\n",
       "4                                        skype error            GRP_0"
      ]
     },
     "execution_count": 57,
     "metadata": {},
     "output_type": "execute_result"
    }
   ],
   "source": [
    "#Very basic cleaning of base text data for training algorithm to get baseline accuracy. Drop duplicates and empty\n",
    "#description\n",
    "df_base_txt_acc[\"Description\"] = df_base_txt_acc[\"Description\"].apply(text_to_lower)\n",
    "df_base_txt_acc[\"Description\"] = df_base_txt_acc[\"Description\"].apply(rem_punctuations)\n",
    "df_base_txt_acc[\"Description\"] = df_base_txt_acc[\"Description\"].apply(rem_stpwrds)\n",
    "df_base_txt_acc.drop_duplicates(['Description','Assignment group'], inplace=True)\n",
    "df_base_txt_acc = df_base_txt_acc[df_base_txt_acc['Description'].apply(lambda text: len(text.split())>0)]\n",
    "df_base_txt_acc.head()"
   ]
  },
  {
   "cell_type": "markdown",
   "metadata": {},
   "source": [
    "##### Model Building and Test"
   ]
  },
  {
   "cell_type": "code",
   "execution_count": 58,
   "metadata": {
    "collapsed": true
   },
   "outputs": [],
   "source": [
    "#Define X(for features) and y(for target) variables. As our classes/target are non numerical GRP_0, GRP_1 etc, using \n",
    "#LabelEncoder to encode classes/target to numerical with value between 0 and numberofclasses-1. Remove no longer \n",
    "#required variables to free up memory.\n",
    "X_base = df_base_txt_acc['Description']\n",
    "lbl_enc_base = preprocessing.LabelEncoder()\n",
    "y_base = lbl_enc_base.fit_transform(df_base_txt_acc['Assignment group'])\n",
    "del df_base_txt_acc"
   ]
  },
  {
   "cell_type": "code",
   "execution_count": 59,
   "metadata": {},
   "outputs": [
    {
     "data": {
      "text/plain": [
       "((6176,), (1544,))"
      ]
     },
     "execution_count": 59,
     "metadata": {},
     "output_type": "execute_result"
    }
   ],
   "source": [
    "#Split X and y into training and test set in 75:25 ratio. Set random_state for the split to be able to generate the\n",
    "#same sequence for every run.\n",
    "X_train_base, X_test_base, y_train_base, y_test_base =train_test_split(X_base,y_base, random_state=7,\n",
    "                                                   test_size = 0.20)\n",
    "X_train_base.shape, X_test_base.shape"
   ]
  },
  {
   "cell_type": "code",
   "execution_count": 60,
   "metadata": {
    "collapsed": true
   },
   "outputs": [],
   "source": [
    "#Using CountVectorizer to convert text documents(non numerical) to a matrix of token counts. Provides a way to extract\n",
    "#and represent features from text documents.\n",
    "cvt_base_unigram = CountVectorizer()\n",
    "X_train_trnsfrm_base = cvt_base_unigram.fit_transform(X_train_base)\n",
    "X_test_trnsfrm_base = cvt_base_unigram.transform(X_test_base)"
   ]
  },
  {
   "cell_type": "code",
   "execution_count": 61,
   "metadata": {},
   "outputs": [
    {
     "name": "stdout",
     "output_type": "stream",
     "text": [
      "0.6353626943005182\n"
     ]
    }
   ],
   "source": [
    "#Using Supervised learning algorithm: Multinomial logistic regression for our multi-class classification by having\n",
    "#the multi_class argument as multinomial and supprted solver lbfgs. We have seen in our analysis above there are\n",
    "#many classes which have single or two documents sample. Multinomial logistic regression assigns more weight to\n",
    "#features that helps it to distinguish between probable classes instead of trying to find class from all features.\n",
    "lr_base = LogisticRegression(multi_class='multinomial', solver='lbfgs')\n",
    "lr_base.fit(X_train_trnsfrm_base, y_train_base)\n",
    "lr_base_predictions = lr_base.predict(X_test_trnsfrm_base)\n",
    "print(accuracy_score(y_test_base, lr_base_predictions))\n",
    "del cvt_base_unigram, X_train_trnsfrm_base, X_test_trnsfrm_base, X_base, lbl_enc_base, y_base, lr_base\n",
    "del X_train_base, X_test_base, y_train_base, y_test_base, lr_base_predictions"
   ]
  },
  {
   "cell_type": "markdown",
   "metadata": {},
   "source": [
    "##### Building a supervised learning model architecture"
   ]
  },
  {
   "cell_type": "code",
   "execution_count": 62,
   "metadata": {
    "collapsed": true
   },
   "outputs": [],
   "source": [
    "#Using processed text which have spaces removed, email ids removed, lemmatized etc in further steps down.\n",
    "X = df_process_txt_acc['Description']\n",
    "lbl_enc = preprocessing.LabelEncoder()\n",
    "y = lbl_enc.fit_transform(df_process_txt_acc['Assignment group'])"
   ]
  },
  {
   "cell_type": "code",
   "execution_count": 63,
   "metadata": {},
   "outputs": [
    {
     "data": {
      "text/plain": [
       "((5265,), (1317,))"
      ]
     },
     "execution_count": 63,
     "metadata": {},
     "output_type": "execute_result"
    }
   ],
   "source": [
    "#Split X and y into training and test set in 80:20 ratio. Set random_state for the split.\n",
    "X_train, X_test, y_train, y_test =train_test_split(X,y, random_state=6,\n",
    "                                                   test_size = 0.2)\n",
    "X_train.shape, X_test.shape"
   ]
  },
  {
   "cell_type": "code",
   "execution_count": 64,
   "metadata": {
    "collapsed": true
   },
   "outputs": [],
   "source": [
    "#Unigram features seen above (eg: password, ticket, failed, issue, reset etc) provides a good meaning/idea and \n",
    "#possibly helps in good classification. Using unigram CountVectorizer.\n",
    "cvt_process_uni = CountVectorizer(ngram_range = (1,1))\n",
    "X_train_process_uni_trnsfrm = cvt_process_uni.fit_transform(X_train)\n",
    "X_test_process_uni_trnsfrm = cvt_process_uni.transform(X_test)"
   ]
  },
  {
   "cell_type": "code",
   "execution_count": 65,
   "metadata": {},
   "outputs": [
    {
     "name": "stdout",
     "output_type": "stream",
     "text": [
      "0.6378132118451025\n"
     ]
    }
   ],
   "source": [
    "#We will use unigram features to train and test algorithm.\n",
    "lr_process_uni = LogisticRegression(multi_class='multinomial', solver='lbfgs')\n",
    "lr_process_uni.fit(X_train_process_uni_trnsfrm, y_train)\n",
    "lr_process_uni_predictions = lr_process_uni.predict(X_test_process_uni_trnsfrm)\n",
    "print(accuracy_score(y_test, lr_process_uni_predictions))\n",
    "del cvt_process_uni, X_train_process_uni_trnsfrm, X_test_process_uni_trnsfrm, lr_process_uni, lr_process_uni_predictions"
   ]
  },
  {
   "cell_type": "code",
   "execution_count": 66,
   "metadata": {
    "collapsed": true
   },
   "outputs": [],
   "source": [
    "#The bottom features seen above contains many words with jumbled letters (rcpt, noif etc seen in our data) which \n",
    "#provide no meaning. Will try to reduce the number of features to consider to train algorithm which also reduces \n",
    "#training time and memory consumption. Tried with different number of features to be considered.\n",
    "cvt_process_uni_max = CountVectorizer(ngram_range = (1,1), max_features=7200)\n",
    "X_train_trnsfrm_uni_max = cvt_process_uni_max.fit_transform(X_train)\n",
    "X_test_trnsfrm_uni_max = cvt_process_uni_max.transform(X_test)"
   ]
  },
  {
   "cell_type": "code",
   "execution_count": 67,
   "metadata": {},
   "outputs": [
    {
     "name": "stdout",
     "output_type": "stream",
     "text": [
      "0.6332574031890661\n"
     ]
    }
   ],
   "source": [
    "#We will use reduced unigram features to train and test algorithm.\n",
    "lr_uni_max = LogisticRegression(multi_class='multinomial', solver='lbfgs')\n",
    "lr_uni_max.fit(X_train_trnsfrm_uni_max, y_train)\n",
    "lr_uni_max_predictions = lr_uni_max.predict(X_test_trnsfrm_uni_max)\n",
    "print(accuracy_score(y_test, lr_uni_max_predictions))\n",
    "del cvt_process_uni_max, X_train_trnsfrm_uni_max, X_test_trnsfrm_uni_max, lr_uni_max, lr_uni_max_predictions "
   ]
  },
  {
   "cell_type": "markdown",
   "metadata": {},
   "source": [
    "The vocabulary size of unigrams was nearly 14000, and by considering nearly half of the features, we are still able\n",
    "to get the accuracy close to 64."
   ]
  },
  {
   "cell_type": "code",
   "execution_count": 68,
   "metadata": {
    "collapsed": true
   },
   "outputs": [],
   "source": [
    "#Bigram features (password reset, password management etc) provides more context which could help with good \n",
    "#classification, but also possible the bigrams might mislead because of many jumbled letters words \n",
    "#(rcpt, noif etc seen in our data) that could be part of bigrams. Using bigram CountVectorizer.\n",
    "cvt_process_bi = CountVectorizer(ngram_range = (2,2))\n",
    "X_train_process_bi_trnsfrm = cvt_process_bi.fit_transform(X_train)\n",
    "X_test_process_bi_trnsfrm = cvt_process_bi.transform(X_test)"
   ]
  },
  {
   "cell_type": "code",
   "execution_count": 69,
   "metadata": {},
   "outputs": [
    {
     "name": "stdout",
     "output_type": "stream",
     "text": [
      "0.5732725892179195\n"
     ]
    }
   ],
   "source": [
    "#We will use bigram features to train and test algorithm.\n",
    "lr_process_uni = LogisticRegression(multi_class='multinomial', solver='lbfgs')\n",
    "lr_process_uni.fit(X_train_process_bi_trnsfrm, y_train)\n",
    "lr_process_uni_predictions = lr_process_uni.predict(X_test_process_bi_trnsfrm)\n",
    "print(accuracy_score(y_test, lr_process_uni_predictions))\n",
    "del cvt_process_bi, X_train_process_bi_trnsfrm, X_test_process_bi_trnsfrm, lr_process_uni, lr_process_uni_predictions"
   ]
  },
  {
   "cell_type": "markdown",
   "metadata": {},
   "source": [
    "Using bigram features to train and test algorithm does bring down accuracy to some extent than using just unigram features"
   ]
  },
  {
   "cell_type": "code",
   "execution_count": 70,
   "metadata": {
    "collapsed": true
   },
   "outputs": [],
   "source": [
    "#We will use best(top) of unigram and bigram features by reducing the max features which could reduce the possibility\n",
    "#of having jumbled letters words and it would help in both unigram and bigram features. Tried with different number \n",
    "#of features to be considered.\n",
    "cvt_process_unibi_max = CountVectorizer(ngram_range = (1,2), max_features=24900)\n",
    "X_train_trnsfrm_unibi_max = cvt_process_unibi_max.fit_transform(X_train)\n",
    "X_test_trnsfrm_unibi_max = cvt_process_unibi_max.transform(X_test)"
   ]
  },
  {
   "cell_type": "code",
   "execution_count": 71,
   "metadata": {},
   "outputs": [
    {
     "data": {
      "text/plain": [
       "(<5265x24900 sparse matrix of type '<class 'numpy.int64'>'\n",
       " \twith 122346 stored elements in Compressed Sparse Row format>,\n",
       " array([72,  5,  4, ..., 72,  0,  0]))"
      ]
     },
     "execution_count": 71,
     "metadata": {},
     "output_type": "execute_result"
    }
   ],
   "source": [
    "#Input data to our model for train\n",
    "X_train_trnsfrm_unibi_max, y_train"
   ]
  },
  {
   "cell_type": "code",
   "execution_count": 72,
   "metadata": {},
   "outputs": [
    {
     "data": {
      "text/plain": [
       "(<1317x24900 sparse matrix of type '<class 'numpy.int64'>'\n",
       " \twith 24106 stored elements in Compressed Sparse Row format>,\n",
       " array([ 0,  8, 17, ...,  0, 15,  0]))"
      ]
     },
     "execution_count": 72,
     "metadata": {},
     "output_type": "execute_result"
    }
   ],
   "source": [
    "#Input data to our model for test\n",
    "X_test_trnsfrm_unibi_max, y_test"
   ]
  },
  {
   "cell_type": "code",
   "execution_count": 73,
   "metadata": {},
   "outputs": [
    {
     "name": "stdout",
     "output_type": "stream",
     "text": [
      "73\n",
      "59\n",
      "[ 0  1  2  3  4  5  6  7  8  9 10 11 12 13 14 15 16 17 18 19 20 21 22 23\n",
      " 24 25 26 27 28 30 31 32 33 34 35 36 37 38 39 40 41 42 43 44 45 46 47 48\n",
      " 49 50 51 52 53 54 55 56 57 58 59 60 61 62 63 64 65 66 67 68 69 70 71 72\n",
      " 73]\n",
      "[ 0  1  2  3  4  5  6  7  8  9 10 11 12 13 14 15 16 17 18 19 20 21 22 23\n",
      " 24 25 26 27 28 29 30 33 34 35 36 37 39 40 41 42 43 44 45 46 47 48 49 51\n",
      " 53 54 55 56 57 59 60 66 67 72 73]\n"
     ]
    }
   ],
   "source": [
    "#Check the unique group values available in train and test data\n",
    "print(len(np.unique(y_train))), print(len(np.unique(y_test)))\n",
    "print(np.unique(y_train))\n",
    "print(np.unique(y_test))"
   ]
  },
  {
   "cell_type": "code",
   "execution_count": 74,
   "metadata": {},
   "outputs": [
    {
     "name": "stdout",
     "output_type": "stream",
     "text": [
      "0.6340167046317388\n"
     ]
    }
   ],
   "source": [
    "#We will use reduced unigram and bigram features to train and test algorithm.\n",
    "lr_unibi_max = LogisticRegression(multi_class='multinomial', solver='lbfgs')\n",
    "lr_unibi_max.fit(X_train_trnsfrm_unibi_max, y_train)\n",
    "lr_unibi_max_predictions = lr_unibi_max.predict(X_test_trnsfrm_unibi_max)\n",
    "print(accuracy_score(y_test, lr_unibi_max_predictions))\n",
    "del cvt_process_unibi_max, lr_unibi_max"
   ]
  },
  {
   "cell_type": "code",
   "execution_count": 75,
   "metadata": {
    "collapsed": true
   },
   "outputs": [],
   "source": [
    "#We will use best(top) of unigram, bigram, and trigram features by reducing the max features which could reduce the \n",
    "#possibility of having jumbled letters words. Tried with different number of features to be considered.\n",
    "cvt_process_unibitri_max = CountVectorizer(ngram_range = (1,3), max_features=35000)\n",
    "X_train_trnsfrm_unibitri_max = cvt_process_unibitri_max.fit_transform(X_train)\n",
    "X_test_trnsfrm_unibitri_max = cvt_process_unibitri_max.transform(X_test)"
   ]
  },
  {
   "cell_type": "code",
   "execution_count": 76,
   "metadata": {},
   "outputs": [
    {
     "name": "stdout",
     "output_type": "stream",
     "text": [
      "0.6302201974183751\n"
     ]
    }
   ],
   "source": [
    "#We will use reduced unigram, bigram and trigram features to train and test algorithm.\n",
    "lr_unibitri_max = LogisticRegression(multi_class='multinomial', solver='lbfgs')\n",
    "lr_unibitri_max.fit(X_train_trnsfrm_unibitri_max, y_train)\n",
    "lr_unibitri_max_predictions = lr_unibitri_max.predict(X_test_trnsfrm_unibitri_max)\n",
    "print(accuracy_score(y_test, lr_unibitri_max_predictions))\n",
    "del cvt_process_unibitri_max, X_train_trnsfrm_unibitri_max, X_test_trnsfrm_unibitri_max, lr_unibitri_max"
   ]
  },
  {
   "cell_type": "markdown",
   "metadata": {},
   "source": [
    "Using top unigram, bigram, and trigram features accuracy remains almost same, but max features considered increases as well."
   ]
  },
  {
   "cell_type": "code",
   "execution_count": 77,
   "metadata": {},
   "outputs": [
    {
     "name": "stdout",
     "output_type": "stream",
     "text": [
      "              precision    recall  f1-score   support\n",
      "\n",
      "           0       0.66      0.94      0.78       642\n",
      "           1       0.50      0.25      0.33         4\n",
      "           2       0.50      0.09      0.15        22\n",
      "           3       0.00      0.00      0.00         6\n",
      "           4       0.71      0.54      0.62        46\n",
      "           5       0.55      0.44      0.49        27\n",
      "           6       0.64      0.36      0.46        25\n",
      "           7       1.00      0.33      0.50         6\n",
      "           8       0.50      0.20      0.29        20\n",
      "           9       1.00      0.86      0.92         7\n",
      "          10       0.55      0.40      0.46        15\n",
      "          11       0.30      0.20      0.24        35\n",
      "          12       0.55      0.37      0.44        43\n",
      "          13       1.00      0.14      0.25         7\n",
      "          14       0.00      0.00      0.00         6\n",
      "          15       1.00      0.25      0.40         4\n",
      "          16       0.50      0.17      0.25         6\n",
      "          17       0.93      0.74      0.82        50\n",
      "          18       0.56      0.32      0.41        28\n",
      "          19       0.60      0.33      0.43         9\n",
      "          20       0.00      0.00      0.00         5\n",
      "          21       0.00      0.00      0.00        10\n",
      "          22       0.67      0.35      0.46        23\n",
      "          23       0.53      0.34      0.42        47\n",
      "          24       0.00      0.00      0.00         2\n",
      "          25       1.00      0.11      0.20         9\n",
      "          26       0.00      0.00      0.00         1\n",
      "          27       0.46      0.40      0.43        15\n",
      "          28       0.33      0.25      0.29         8\n",
      "          29       0.00      0.00      0.00         1\n",
      "          30       0.50      0.25      0.33         4\n",
      "          31       0.00      0.00      0.00         0\n",
      "          33       1.00      0.50      0.67         2\n",
      "          34       0.33      0.21      0.26        19\n",
      "          35       0.25      0.22      0.24         9\n",
      "          36       0.00      0.00      0.00         8\n",
      "          37       0.00      0.00      0.00         1\n",
      "          39       0.00      0.00      0.00         3\n",
      "          40       0.00      0.00      0.00         5\n",
      "          41       0.00      0.00      0.00         4\n",
      "          42       0.67      0.40      0.50         5\n",
      "          43       0.00      0.00      0.00         1\n",
      "          44       0.00      0.00      0.00         2\n",
      "          45       0.33      0.15      0.21        13\n",
      "          46       0.00      0.00      0.00         2\n",
      "          47       0.00      0.00      0.00         1\n",
      "          48       0.00      0.00      0.00         4\n",
      "          49       0.00      0.00      0.00         3\n",
      "          51       0.00      0.00      0.00         1\n",
      "          53       0.00      0.00      0.00         1\n",
      "          54       1.00      1.00      1.00         1\n",
      "          55       0.00      0.00      0.00         2\n",
      "          56       0.41      0.58      0.48        12\n",
      "          57       0.00      0.00      0.00         1\n",
      "          59       0.00      0.00      0.00         7\n",
      "          60       0.00      0.00      0.00         1\n",
      "          66       0.00      0.00      0.00         1\n",
      "          67       0.50      0.20      0.29        15\n",
      "          72       0.55      0.67      0.60        48\n",
      "          73       0.57      0.33      0.42        12\n",
      "\n",
      "    accuracy                           0.63      1317\n",
      "   macro avg       0.35      0.22      0.25      1317\n",
      "weighted avg       0.59      0.63      0.58      1317\n",
      "\n"
     ]
    }
   ],
   "source": [
    "#Let us check the classification_report. The predictions of the model which used top unigram and bigram features for \n",
    "#training.\n",
    "print(classification_report(y_test, lr_unibi_max_predictions, digits=2))"
   ]
  },
  {
   "cell_type": "code",
   "execution_count": 78,
   "metadata": {},
   "outputs": [
    {
     "name": "stdout",
     "output_type": "stream",
     "text": [
      "              precision    recall  f1-score   support\n",
      "\n",
      "           0       0.66      0.93      0.77       642\n",
      "           1       0.50      0.25      0.33         4\n",
      "           2       0.50      0.09      0.15        22\n",
      "           3       0.00      0.00      0.00         6\n",
      "           4       0.69      0.52      0.59        46\n",
      "           5       0.58      0.52      0.55        27\n",
      "           6       0.62      0.32      0.42        25\n",
      "           7       1.00      0.17      0.29         6\n",
      "           8       0.67      0.20      0.31        20\n",
      "           9       1.00      0.86      0.92         7\n",
      "          10       0.45      0.33      0.38        15\n",
      "          11       0.29      0.20      0.24        35\n",
      "          12       0.53      0.40      0.45        43\n",
      "          13       1.00      0.14      0.25         7\n",
      "          14       1.00      0.17      0.29         6\n",
      "          15       0.00      0.00      0.00         4\n",
      "          16       0.50      0.17      0.25         6\n",
      "          17       0.92      0.72      0.81        50\n",
      "          18       0.59      0.36      0.44        28\n",
      "          19       0.60      0.33      0.43         9\n",
      "          20       0.00      0.00      0.00         5\n",
      "          21       0.00      0.00      0.00        10\n",
      "          22       0.75      0.39      0.51        23\n",
      "          23       0.57      0.36      0.44        47\n",
      "          24       0.00      0.00      0.00         2\n",
      "          25       1.00      0.11      0.20         9\n",
      "          26       0.00      0.00      0.00         1\n",
      "          27       0.43      0.40      0.41        15\n",
      "          28       0.50      0.38      0.43         8\n",
      "          29       0.00      0.00      0.00         1\n",
      "          30       0.50      0.25      0.33         4\n",
      "          31       0.00      0.00      0.00         0\n",
      "          33       1.00      0.50      0.67         2\n",
      "          34       0.31      0.21      0.25        19\n",
      "          35       0.33      0.33      0.33         9\n",
      "          36       0.00      0.00      0.00         8\n",
      "          37       0.00      0.00      0.00         1\n",
      "          39       0.00      0.00      0.00         3\n",
      "          40       0.00      0.00      0.00         5\n",
      "          41       0.00      0.00      0.00         4\n",
      "          42       0.50      0.20      0.29         5\n",
      "          43       0.00      0.00      0.00         1\n",
      "          44       0.00      0.00      0.00         2\n",
      "          45       0.33      0.15      0.21        13\n",
      "          46       0.00      0.00      0.00         2\n",
      "          47       0.00      0.00      0.00         1\n",
      "          48       0.00      0.00      0.00         4\n",
      "          49       0.00      0.00      0.00         3\n",
      "          51       0.00      0.00      0.00         1\n",
      "          53       0.00      0.00      0.00         1\n",
      "          54       1.00      1.00      1.00         1\n",
      "          55       0.00      0.00      0.00         2\n",
      "          56       0.39      0.58      0.47        12\n",
      "          57       0.00      0.00      0.00         1\n",
      "          59       0.00      0.00      0.00         7\n",
      "          60       0.00      0.00      0.00         1\n",
      "          66       0.00      0.00      0.00         1\n",
      "          67       0.50      0.20      0.29        15\n",
      "          72       0.53      0.65      0.58        48\n",
      "          73       0.50      0.25      0.33        12\n",
      "\n",
      "    accuracy                           0.63      1317\n",
      "   macro avg       0.35      0.21      0.24      1317\n",
      "weighted avg       0.59      0.63      0.58      1317\n",
      "\n"
     ]
    }
   ],
   "source": [
    "#Let us check the classification_report. The predictions of the model which used top unigram, bigram and trigram \n",
    "#features for training.\n",
    "print(classification_report(y_test, lr_unibitri_max_predictions, digits=2))\n",
    "del lr_unibi_max_predictions, lr_unibitri_max_predictions"
   ]
  },
  {
   "cell_type": "markdown",
   "metadata": {},
   "source": [
    "The Model(Model_Uni_Bigram) which was trained on combination of unigram and bigram with max_features=24900 was able to perform slightly better(63.40 vs 63.02) than the Model(Model_Uni_Bi_Trigram) which was trained on combination of unigram, bigram, and trigram with max_features=35000. Also, bigram features could be helpful after performing text agumentation. We also have additional advantage of reduced number of features in a Model_Uni_Bigram which will help to compute faster and occupy less memory while accuracy remains good."
   ]
  },
  {
   "cell_type": "markdown",
   "metadata": {},
   "source": [
    "##### Build different models"
   ]
  },
  {
   "cell_type": "markdown",
   "metadata": {},
   "source": [
    "We will use reduced unigram and bigram features vectorized data that gave good accuracy to test supervised learning models [RandomForestClassifier, MultinomialNB, SVC]"
   ]
  },
  {
   "cell_type": "code",
   "execution_count": 79,
   "metadata": {},
   "outputs": [
    {
     "name": "stdout",
     "output_type": "stream",
     "text": [
      "0.5968109339407744\n"
     ]
    }
   ],
   "source": [
    "#Score RandomForestClassifier.\n",
    "rf_unibi_max = RandomForestClassifier()\n",
    "rf_unibi_max.fit(X_train_trnsfrm_unibi_max, y_train)\n",
    "rf_unibi_max_predictions = rf_unibi_max.predict(X_test_trnsfrm_unibi_max)\n",
    "print(accuracy_score(y_test, rf_unibi_max_predictions))\n",
    "del rf_unibi_max"
   ]
  },
  {
   "cell_type": "code",
   "execution_count": 80,
   "metadata": {},
   "outputs": [
    {
     "name": "stdout",
     "output_type": "stream",
     "text": [
      "0.6044039483675019\n"
     ]
    }
   ],
   "source": [
    "#Score Naive Bayes Classifier.\n",
    "nb_unibi_max = MultinomialNB()\n",
    "nb_unibi_max.fit(X_train_trnsfrm_unibi_max, y_train)\n",
    "nb_unibi_max_predictions = nb_unibi_max.predict(X_test_trnsfrm_unibi_max)\n",
    "print(accuracy_score(y_test, nb_unibi_max_predictions))\n",
    "del nb_unibi_max"
   ]
  },
  {
   "cell_type": "code",
   "execution_count": 81,
   "metadata": {},
   "outputs": [
    {
     "name": "stdout",
     "output_type": "stream",
     "text": [
      "0.5725132877752468\n"
     ]
    }
   ],
   "source": [
    "#Score Support Vector Classifier\n",
    "svm_unibi_max = SVC()\n",
    "svm_unibi_max.fit(X_train_trnsfrm_unibi_max, y_train)\n",
    "svm_unibi_max_predictions = svm_unibi_max.predict(X_test_trnsfrm_unibi_max)\n",
    "print(accuracy_score(y_test, svm_unibi_max_predictions))\n",
    "del svm_unibi_max"
   ]
  },
  {
   "cell_type": "markdown",
   "metadata": {},
   "source": [
    "The Naive Bayes is the one which performs better than RandomForestClassifier and Support Vector Classifier, but still falls behind the LogisticRegression Classifer"
   ]
  },
  {
   "cell_type": "code",
   "execution_count": 82,
   "metadata": {},
   "outputs": [
    {
     "name": "stdout",
     "output_type": "stream",
     "text": [
      "              precision    recall  f1-score   support\n",
      "\n",
      "           0       0.59      0.98      0.74       642\n",
      "           1       0.00      0.00      0.00         4\n",
      "           2       0.00      0.00      0.00        22\n",
      "           3       0.00      0.00      0.00         6\n",
      "           4       0.65      0.48      0.55        46\n",
      "           5       0.53      0.37      0.43        27\n",
      "           6       0.60      0.24      0.34        25\n",
      "           7       0.00      0.00      0.00         6\n",
      "           8       0.00      0.00      0.00        20\n",
      "           9       0.00      0.00      0.00         7\n",
      "          10       0.60      0.20      0.30        15\n",
      "          11       0.80      0.11      0.20        35\n",
      "          12       0.55      0.40      0.46        43\n",
      "          13       0.00      0.00      0.00         7\n",
      "          14       0.00      0.00      0.00         6\n",
      "          15       0.00      0.00      0.00         4\n",
      "          16       0.00      0.00      0.00         6\n",
      "          17       0.85      0.80      0.82        50\n",
      "          18       1.00      0.07      0.13        28\n",
      "          19       0.00      0.00      0.00         9\n",
      "          20       0.00      0.00      0.00         5\n",
      "          21       0.00      0.00      0.00        10\n",
      "          22       1.00      0.09      0.16        23\n",
      "          23       1.00      0.13      0.23        47\n",
      "          24       0.00      0.00      0.00         2\n",
      "          25       0.00      0.00      0.00         9\n",
      "          26       0.00      0.00      0.00         1\n",
      "          27       0.64      0.47      0.54        15\n",
      "          28       0.00      0.00      0.00         8\n",
      "          29       0.00      0.00      0.00         1\n",
      "          30       0.00      0.00      0.00         4\n",
      "          33       0.00      0.00      0.00         2\n",
      "          34       1.00      0.11      0.19        19\n",
      "          35       0.00      0.00      0.00         9\n",
      "          36       0.00      0.00      0.00         8\n",
      "          37       0.00      0.00      0.00         1\n",
      "          39       0.00      0.00      0.00         3\n",
      "          40       0.00      0.00      0.00         5\n",
      "          41       0.00      0.00      0.00         4\n",
      "          42       0.00      0.00      0.00         5\n",
      "          43       0.00      0.00      0.00         1\n",
      "          44       0.00      0.00      0.00         2\n",
      "          45       0.00      0.00      0.00        13\n",
      "          46       0.00      0.00      0.00         2\n",
      "          47       0.00      0.00      0.00         1\n",
      "          48       0.00      0.00      0.00         4\n",
      "          49       0.00      0.00      0.00         3\n",
      "          51       0.00      0.00      0.00         1\n",
      "          53       0.00      0.00      0.00         1\n",
      "          54       0.00      0.00      0.00         1\n",
      "          55       0.00      0.00      0.00         2\n",
      "          56       0.40      0.33      0.36        12\n",
      "          57       0.00      0.00      0.00         1\n",
      "          59       0.00      0.00      0.00         7\n",
      "          60       0.00      0.00      0.00         1\n",
      "          66       0.00      0.00      0.00         1\n",
      "          67       0.00      0.00      0.00        15\n",
      "          72       0.58      0.79      0.67        48\n",
      "          73       1.00      0.08      0.15        12\n",
      "\n",
      "    accuracy                           0.60      1317\n",
      "   macro avg       0.20      0.10      0.11      1317\n",
      "weighted avg       0.54      0.60      0.50      1317\n",
      "\n"
     ]
    }
   ],
   "source": [
    "#Let us check the classification_report of Naive Bayes. \n",
    "print(classification_report(y_test, nb_unibi_max_predictions, digits=2))\n",
    "del X, y, X_train, X_test, y_train, y_test, X_train_trnsfrm_unibi_max, X_test_trnsfrm_unibi_max\n",
    "del rf_unibi_max_predictions, nb_unibi_max_predictions, svm_unibi_max_predictions"
   ]
  },
  {
   "cell_type": "markdown",
   "metadata": {},
   "source": [
    "The classification report above shows that the overall accuracy is lesser and also more number of individual classes do not have any accuracy compare to LogisticRegression Classifier. The LogisticRegression Classifier performs better than other supervised learning models [RandomForestClassifier, MultinomialNB, SVC]"
   ]
  },
  {
   "cell_type": "markdown",
   "metadata": {},
   "source": [
    "##### Building a Neural Network model architecture"
   ]
  },
  {
   "cell_type": "markdown",
   "metadata": {},
   "source": [
    "The documents/texts are sequential. It is a sequence of words following grammatical structure. We will use the Sequential Model after creating the features by tokenizing the text, converting to vector and applying padding"
   ]
  },
  {
   "cell_type": "code",
   "execution_count": 83,
   "metadata": {
    "collapsed": true
   },
   "outputs": [],
   "source": [
    "#Initialize the random state\n",
    "def reset_seeds(sed):\n",
    "   np.random.seed(sed) \n",
    "   python_random.seed(sed)\n",
    "   tf.set_random_seed(sed)\n",
    "reset_seeds(9)"
   ]
  },
  {
   "cell_type": "code",
   "execution_count": 84,
   "metadata": {
    "collapsed": true
   },
   "outputs": [],
   "source": [
    "#Defining params top_num_words for most frequent words from dataset, embedding_dim for the output dimension of our\n",
    "#embedding layer, oov_char for words that were cut out because of the top_num_words, pad_type to append 0 at beggining\n",
    "#or end of a text which is shorter than maximum length text, trunc_type for removing the words from beggining or end \n",
    "#of a text which exceeds maximum length text. The documents/texts are of various lengths. The mean length is around 30.\n",
    "#There are many outliers. We will consider max length of 35 in our tokenizer's pad sequences to add up some deviation.\n",
    "top_num_words = 5000\n",
    "embedding_dim = 300\n",
    "oov_char = \"<OOV>\"\n",
    "pad_type = \"pre\"\n",
    "trunc_type = \"pre\"\n",
    "max_length = 35\n",
    "loss_fn = 'categorical_crossentropy'\n",
    "optimizer_alg='adam'\n",
    "metric_eval = 'accuracy'"
   ]
  },
  {
   "cell_type": "code",
   "execution_count": 85,
   "metadata": {
    "collapsed": true
   },
   "outputs": [],
   "source": [
    "#Fit tokenizer on texts to break the sentences to individual tokens and rank them based on the frequencey of \n",
    "#appearance.\n",
    "tknzr = Tokenizer(num_words=top_num_words, oov_token=oov_char)\n",
    "tknzr.fit_on_texts(df_process_txt_acc['Description'])"
   ]
  },
  {
   "cell_type": "code",
   "execution_count": 86,
   "metadata": {
    "collapsed": true
   },
   "outputs": [],
   "source": [
    "#Creating the features by converting our text to sequences. Truncate the ones which are more than max_length, and\n",
    "#applying padding (add 0) to the sequences which are shorter until it is of max_length size.\n",
    "X_seq = tknzr.texts_to_sequences(df_process_txt_acc['Description'])\n",
    "X_seq_pad = pad_sequences(X_seq, padding=pad_type, truncating=trunc_type, maxlen=max_length)"
   ]
  },
  {
   "cell_type": "code",
   "execution_count": 87,
   "metadata": {
    "collapsed": true
   },
   "outputs": [],
   "source": [
    "#Using get dummies function to convert categorical variables into dummy variables that can be understood by model\n",
    "y_seq = pd.get_dummies(df_process_txt_acc['Assignment group']).values"
   ]
  },
  {
   "cell_type": "code",
   "execution_count": 88,
   "metadata": {},
   "outputs": [
    {
     "name": "stdout",
     "output_type": "stream",
     "text": [
      "13290\n"
     ]
    }
   ],
   "source": [
    "#Get the vocabulary size. We will add +1 to word index as zero is reserved for padding.\n",
    "tknz_vocabsize =len(tknzr.word_index)+1\n",
    "print(tknz_vocabsize)"
   ]
  },
  {
   "cell_type": "code",
   "execution_count": 89,
   "metadata": {},
   "outputs": [
    {
     "data": {
      "text/plain": [
       "((5265, 35), (1317, 35))"
      ]
     },
     "execution_count": 89,
     "metadata": {},
     "output_type": "execute_result"
    }
   ],
   "source": [
    "# Split text and class data into training and test set in 80:20 ratio.\n",
    "X_train_Seq, X_test_Seq, y_train_Seq, y_test_Seq = train_test_split(X_seq_pad, y_seq, test_size=0.20, random_state=6)\n",
    "X_train_Seq.shape, X_test_Seq.shape"
   ]
  },
  {
   "cell_type": "code",
   "execution_count": 90,
   "metadata": {},
   "outputs": [
    {
     "data": {
      "text/plain": [
       "(array([[   0,    0,    0, ..., 2862, 4165,    1],\n",
       "        [  11,   26,  156, ...,  795,  276,   41],\n",
       "        [   0,    0,    0, ...,   22,   22,  365],\n",
       "        ...,\n",
       "        [   0,    0,    0, ...,  381,   28,   33],\n",
       "        [   0,    0,    0, ...,  255,  246, 3885],\n",
       "        [   0,    0,    0, ...,    1,  621,    1]], dtype=int32),\n",
       " array([[0, 0, 0, ..., 0, 1, 0],\n",
       "        [0, 0, 0, ..., 0, 0, 0],\n",
       "        [0, 0, 0, ..., 0, 0, 0],\n",
       "        ...,\n",
       "        [0, 0, 0, ..., 0, 1, 0],\n",
       "        [1, 0, 0, ..., 0, 0, 0],\n",
       "        [1, 0, 0, ..., 0, 0, 0]], dtype=uint8))"
      ]
     },
     "execution_count": 90,
     "metadata": {},
     "output_type": "execute_result"
    }
   ],
   "source": [
    "#Input data to our model for train\n",
    "X_train_Seq, y_train_Seq"
   ]
  },
  {
   "cell_type": "code",
   "execution_count": 91,
   "metadata": {},
   "outputs": [
    {
     "data": {
      "text/plain": [
       "(array([[   0,    0,    0, ...,    0,   20,   25],\n",
       "        [   0,    0,    0, ..., 2619,    2,  262],\n",
       "        [   0,    0,    0, ...,  408, 2874, 2875],\n",
       "        ...,\n",
       "        [   0,    0,    0, ...,   30,   95,   91],\n",
       "        [   0,    0,    0, ...,    1,    1,  102],\n",
       "        [   0,    0,    0, ...,    1,  513,   86]], dtype=int32),\n",
       " array([[1, 0, 0, ..., 0, 0, 0],\n",
       "        [0, 0, 0, ..., 0, 0, 0],\n",
       "        [0, 0, 0, ..., 0, 0, 0],\n",
       "        ...,\n",
       "        [1, 0, 0, ..., 0, 0, 0],\n",
       "        [0, 0, 0, ..., 0, 0, 0],\n",
       "        [1, 0, 0, ..., 0, 0, 0]], dtype=uint8))"
      ]
     },
     "execution_count": 91,
     "metadata": {},
     "output_type": "execute_result"
    }
   ],
   "source": [
    "#Input data to our model for test\n",
    "X_test_Seq, y_test_Seq"
   ]
  },
  {
   "cell_type": "markdown",
   "metadata": {},
   "source": [
    "##### Build different models"
   ]
  },
  {
   "cell_type": "markdown",
   "metadata": {},
   "source": [
    "Sequential model with LSTM (Long Short-Term Memory) to train and classify our documents. LSTM (Long Short-Term Memory) network is a type of RNN (Recurrent Neural Network). It can memorize patterns. It uses a series of gates(input gate, output gate and forget gate) to control how the information in a sequence of data comes in, how it is stored and leaves the network."
   ]
  },
  {
   "cell_type": "code",
   "execution_count": 92,
   "metadata": {
    "collapsed": true
   },
   "outputs": [],
   "source": [
    "#Build a Sequential model with LSTM layer\n",
    "model_lstm = Sequential()\n",
    "model_lstm.add(Embedding(input_dim=tknz_vocabsize, output_dim=embedding_dim, input_length=max_length))\n",
    "model_lstm.add(LSTM(100))\n",
    "model_lstm.add(Dense(100, activation = \"relu\"))\n",
    "model_lstm.add(Dense(74,activation='softmax'))"
   ]
  },
  {
   "cell_type": "code",
   "execution_count": 93,
   "metadata": {},
   "outputs": [
    {
     "data": {
      "text/plain": [
       "<keras.callbacks.History at 0x142693f28>"
      ]
     },
     "execution_count": 93,
     "metadata": {},
     "output_type": "execute_result"
    }
   ],
   "source": [
    "#compile and fit the model\n",
    "model_lstm.compile(loss = loss_fn, optimizer=optimizer_alg,metrics = [metric_eval])\n",
    "model_lstm.fit(X_train_Seq, y_train_Seq, epochs = 5, batch_size=128, verbose = 0,validation_split=0.25)"
   ]
  },
  {
   "cell_type": "code",
   "execution_count": 94,
   "metadata": {},
   "outputs": [
    {
     "name": "stdout",
     "output_type": "stream",
     "text": [
      "1317/1317 [==============================] - 0s 331us/step\n"
     ]
    },
    {
     "data": {
      "text/plain": [
       "[2.18423331879085, 0.5292331056334163]"
      ]
     },
     "execution_count": 94,
     "metadata": {},
     "output_type": "execute_result"
    }
   ],
   "source": [
    "#loss and accuracy\n",
    "model_lstm.evaluate(X_test_Seq, y_test_Seq)"
   ]
  },
  {
   "cell_type": "code",
   "execution_count": 95,
   "metadata": {
    "collapsed": true
   },
   "outputs": [],
   "source": [
    "#Save the weights\n",
    "model_lstm.save_weights(\"model_lstm.h5\")"
   ]
  },
  {
   "cell_type": "markdown",
   "metadata": {},
   "source": [
    "The Bidirectional LSTM propagates the input forwards and backwards through the LSTM layer, and concatenates the outputs. It increase the amount of information available to the network by knowing the words that follow and precede a word in a sentence"
   ]
  },
  {
   "cell_type": "code",
   "execution_count": 96,
   "metadata": {
    "collapsed": true
   },
   "outputs": [],
   "source": [
    "#Build a Sequential model with Bidirectional LSTM layer\n",
    "model_lstmbi = Sequential()\n",
    "model_lstmbi.add(Embedding(input_dim=tknz_vocabsize, output_dim=embedding_dim, input_length=max_length))\n",
    "model_lstmbi.add(Bidirectional(LSTM(10)))\n",
    "model_lstmbi.add(Dense(100, activation = \"relu\"))\n",
    "model_lstmbi.add(Dense(74,activation='softmax'))"
   ]
  },
  {
   "cell_type": "code",
   "execution_count": 97,
   "metadata": {},
   "outputs": [
    {
     "data": {
      "text/plain": [
       "<keras.callbacks.History at 0x1423fab38>"
      ]
     },
     "execution_count": 97,
     "metadata": {},
     "output_type": "execute_result"
    }
   ],
   "source": [
    "#compile and fit the model\n",
    "model_lstmbi.compile(loss = loss_fn, optimizer=optimizer_alg,metrics = [metric_eval])\n",
    "model_lstmbi.fit(X_train_Seq, y_train_Seq, epochs = 5, batch_size=32, verbose = 0,validation_split=0.25)"
   ]
  },
  {
   "cell_type": "code",
   "execution_count": 98,
   "metadata": {},
   "outputs": [
    {
     "name": "stdout",
     "output_type": "stream",
     "text": [
      "1317/1317 [==============================] - 0s 279us/step\n"
     ]
    },
    {
     "data": {
      "text/plain": [
       "[2.0970806782229343, 0.5466970387470025]"
      ]
     },
     "execution_count": 98,
     "metadata": {},
     "output_type": "execute_result"
    }
   ],
   "source": [
    "#loss and accuracy\n",
    "model_lstmbi.evaluate(X_test_Seq, y_test_Seq)"
   ]
  },
  {
   "cell_type": "code",
   "execution_count": 99,
   "metadata": {
    "collapsed": true
   },
   "outputs": [],
   "source": [
    "#Save the weights\n",
    "model_lstmbi.save_weights(\"model_lstmbi.h5\")\n",
    "del tknzr, X_seq, X_seq_pad, y_seq, tknz_vocabsize\n",
    "del model_lstm, X_train_Seq, y_train_Seq, model_lstmbi, X_test_Seq, y_test_Seq"
   ]
  },
  {
   "cell_type": "markdown",
   "metadata": {},
   "source": [
    "In the above train-test splits we could not have all unique group values available in both train and test split as it is imbalanced data which you can see below"
   ]
  },
  {
   "cell_type": "code",
   "execution_count": 100,
   "metadata": {},
   "outputs": [
    {
     "data": {
      "text/plain": [
       "GRP_0     3065\n",
       "GRP_24     277\n",
       "GRP_2      240\n",
       "GRP_12     238\n",
       "GRP_8      234\n",
       "GRP_19     213\n",
       "GRP_3      200\n",
       "GRP_13     142\n",
       "GRP_14     118\n",
       "GRP_25     116\n",
       "GRP_33     106\n",
       "GRP_29      97\n",
       "GRP_4       91\n",
       "GRP_16      85\n",
       "GRP_18      84\n",
       "GRP_10      82\n",
       "GRP_9       78\n",
       "GRP_6       70\n",
       "GRP_7       67\n",
       "GRP_17      63\n",
       "GRP_34      62\n",
       "GRP_26      56\n",
       "GRP_31      55\n",
       "GRP_5       50\n",
       "GRP_40      45\n",
       "GRP_28      44\n",
       "GRP_41      39\n",
       "GRP_15      38\n",
       "GRP_42      37\n",
       "GRP_20      36\n",
       "          ... \n",
       "GRP_50      14\n",
       "GRP_60      11\n",
       "GRP_65      11\n",
       "GRP_53      11\n",
       "GRP_52       9\n",
       "GRP_51       8\n",
       "GRP_55       8\n",
       "GRP_48       7\n",
       "GRP_49       6\n",
       "GRP_46       6\n",
       "GRP_59       6\n",
       "GRP_43       5\n",
       "GRP_32       4\n",
       "GRP_63       3\n",
       "GRP_38       3\n",
       "GRP_56       3\n",
       "GRP_66       3\n",
       "GRP_68       3\n",
       "GRP_58       3\n",
       "GRP_71       2\n",
       "GRP_54       2\n",
       "GRP_69       2\n",
       "GRP_57       2\n",
       "GRP_72       2\n",
       "GRP_64       1\n",
       "GRP_67       1\n",
       "GRP_35       1\n",
       "GRP_70       1\n",
       "GRP_73       1\n",
       "GRP_61       1\n",
       "Name: Assignment group, Length: 74, dtype: int64"
      ]
     },
     "execution_count": 100,
     "metadata": {},
     "output_type": "execute_result"
    }
   ],
   "source": [
    "#Check number of documents in the groups\n",
    "df_process_txt_acc[\"Assignment group\"].value_counts()"
   ]
  },
  {
   "cell_type": "markdown",
   "metadata": {},
   "source": [
    "Let's create documents for the groups[GRP_64, GRP_73, GRP_35, GRP_61, GRP_67, GRP_70] by agumenting data with synonyms. Divide the dataframe into three parts(greater than 2 counts, equal to 2 counts, lesser than 2 counts) and finally prepare the train test split to have all unique group values available in both train side and test side data."
   ]
  },
  {
   "cell_type": "code",
   "execution_count": 101,
   "metadata": {},
   "outputs": [
    {
     "data": {
      "text/plain": [
       "(6566, 2)"
      ]
     },
     "execution_count": 101,
     "metadata": {},
     "output_type": "execute_result"
    }
   ],
   "source": [
    "#Filter the dataframe to get the groups with more than 2 counts\n",
    "df_process_txt_acc_cpc = copy.deepcopy(df_process_txt_acc)\n",
    "df_process_grtr_2 = df_process_txt_acc_cpc.groupby(\"Assignment group\").filter(lambda x: len(x) > 2)\n",
    "df_process_grtr_2.shape"
   ]
  },
  {
   "cell_type": "code",
   "execution_count": 102,
   "metadata": {},
   "outputs": [
    {
     "data": {
      "text/plain": [
       "(10, 2)"
      ]
     },
     "execution_count": 102,
     "metadata": {},
     "output_type": "execute_result"
    }
   ],
   "source": [
    "#Filter the dataframe to get the groups equal to 2 counts\n",
    "df_process_eql2 = df_process_txt_acc_cpc.groupby(\"Assignment group\").filter(lambda x: len(x) == 2)\n",
    "df_process_eql2.shape"
   ]
  },
  {
   "cell_type": "code",
   "execution_count": 103,
   "metadata": {},
   "outputs": [
    {
     "data": {
      "text/plain": [
       "(6, 2)"
      ]
     },
     "execution_count": 103,
     "metadata": {},
     "output_type": "execute_result"
    }
   ],
   "source": [
    "#Filter the dataframe to get the groups with less than 2 counts\n",
    "df_process_lssr2 = df_process_txt_acc_cpc.groupby(\"Assignment group\").filter(lambda x: len(x) < 2)\n",
    "df_process_lssr2.shape"
   ]
  },
  {
   "cell_type": "code",
   "execution_count": 104,
   "metadata": {
    "collapsed": true
   },
   "outputs": [],
   "source": [
    "#SynonymAug Augmenter that leverage semantic meaning to substitute word from wordnet(WordNet is a lexical database of \n",
    "#semantic relations between words. It links words into semantic relations including synonyms)\n",
    "syno_aug = naw.SynonymAug(aug_p=0.5)\n",
    "def aug_syno_text(text):\n",
    "    try:        \n",
    "        return syno_aug.augment(text)\n",
    "    except:\n",
    "        return text"
   ]
  },
  {
   "cell_type": "code",
   "execution_count": 105,
   "metadata": {},
   "outputs": [
    {
     "data": {
      "text/plain": [
       "(6, 2)"
      ]
     },
     "execution_count": 105,
     "metadata": {},
     "output_type": "execute_result"
    }
   ],
   "source": [
    "#Apply text agumentation through SynonymAug Augmenter for dataframe containing groups with less than 2 counts\n",
    "df_process_lssr2_cpc = copy.deepcopy(df_process_lssr2)\n",
    "df_process_lssr2_cpc[\"Description\"] = df_process_lssr2_cpc[\"Description\"].apply(aug_syno_text)\n",
    "df_process_lssr2_cpc.shape"
   ]
  },
  {
   "cell_type": "code",
   "execution_count": 106,
   "metadata": {},
   "outputs": [
    {
     "data": {
      "text/plain": [
       "(12, 2)"
      ]
     },
     "execution_count": 106,
     "metadata": {},
     "output_type": "execute_result"
    }
   ],
   "source": [
    "#Concatinating dataframe containing groups with less than 2 counts and it's synonym text agumented data\n",
    "df_process_txt_lss2_aug = pd.concat([df_process_lssr2, df_process_lssr2_cpc])\n",
    "df_process_txt_lss2_aug.shape"
   ]
  },
  {
   "cell_type": "code",
   "execution_count": 107,
   "metadata": {},
   "outputs": [
    {
     "name": "stdout",
     "output_type": "stream",
     "text": [
      "63\n",
      "63\n"
     ]
    }
   ],
   "source": [
    "#Start to prepare train and test split. First consider values from dataframe which has groups with more than 2 counts\n",
    "#Stratify on y('Assignment group')\n",
    "X_strat = df_process_grtr_2['Description']\n",
    "y_strat = df_process_grtr_2['Assignment group']\n",
    "\n",
    "X_train_strat, X_test_strat, y_train_strat, y_test_strat =train_test_split(X_strat,y_strat, random_state=6,\n",
    "                                                   test_size = 0.25, stratify=y_strat)\n",
    "print(len(np.unique(y_train_strat)))\n",
    "print(len(np.unique(y_test_strat)))\n",
    "del df_process_txt_acc_cpc, df_process_grtr_2, df_process_lssr2, df_process_lssr2_cpc"
   ]
  },
  {
   "cell_type": "code",
   "execution_count": 108,
   "metadata": {},
   "outputs": [
    {
     "name": "stdout",
     "output_type": "stream",
     "text": [
      "68\n",
      "68\n"
     ]
    }
   ],
   "source": [
    "#Manually add groups from dataframe which has groups equal to 2 counts into train and test data\n",
    "for idx, row in copy.deepcopy(df_process_eql2).iterrows():\n",
    "    if not np.isin(row['Assignment group'], y_train_strat):\n",
    "        X_train_strat = X_train_strat.append(pd.Series(row['Description'], index=[idx]))\n",
    "        y_train_strat = np.append(y_train_strat, row['Assignment group'])\n",
    "    elif not np.isin(row['Assignment group'], y_test_strat):\n",
    "            X_test_strat = X_test_strat.append(pd.Series(row['Description'], index=[idx]))\n",
    "            y_test_strat = np.append(y_test_strat, row['Assignment group'])\n",
    "print(len(np.unique(y_train_strat)))\n",
    "print(len(np.unique(y_test_strat)))\n",
    "del X_strat, y_strat, df_process_eql2"
   ]
  },
  {
   "cell_type": "code",
   "execution_count": 109,
   "metadata": {},
   "outputs": [
    {
     "name": "stdout",
     "output_type": "stream",
     "text": [
      "74\n",
      "74\n"
     ]
    }
   ],
   "source": [
    "#Manually add groups from dataframe which has groups with less than 2 counts and it's synonym text agumented data into\n",
    "#train and test data. Remove no longer required variables to free up memory.\n",
    "for idx, row in copy.deepcopy(df_process_txt_lss2_aug).iterrows():\n",
    "    if not np.isin(row['Assignment group'], y_train_strat):\n",
    "        X_train_strat = X_train_strat.append(pd.Series(row['Description'], index=[idx]))\n",
    "        y_train_strat = np.append(y_train_strat, row['Assignment group'])\n",
    "    elif not np.isin(row['Assignment group'], y_test_strat):\n",
    "            X_test_strat = X_test_strat.append(pd.Series(row['Description'], index=[idx]))\n",
    "            y_test_strat = np.append(y_test_strat, row['Assignment group'])\n",
    "print(len(np.unique(y_train_strat)))\n",
    "print(len(np.unique(y_test_strat)))\n",
    "del df_process_txt_lss2_aug"
   ]
  },
  {
   "cell_type": "code",
   "execution_count": 110,
   "metadata": {},
   "outputs": [
    {
     "name": "stdout",
     "output_type": "stream",
     "text": [
      "(4935,)\n",
      "(1653,)\n",
      "['GRP_0' 'GRP_1' 'GRP_10' 'GRP_11' 'GRP_12' 'GRP_13' 'GRP_14' 'GRP_15'\n",
      " 'GRP_16' 'GRP_17' 'GRP_18' 'GRP_19' 'GRP_2' 'GRP_20' 'GRP_21' 'GRP_22'\n",
      " 'GRP_23' 'GRP_24' 'GRP_25' 'GRP_26' 'GRP_27' 'GRP_28' 'GRP_29' 'GRP_3'\n",
      " 'GRP_30' 'GRP_31' 'GRP_32' 'GRP_33' 'GRP_34' 'GRP_35' 'GRP_36' 'GRP_37'\n",
      " 'GRP_38' 'GRP_39' 'GRP_4' 'GRP_40' 'GRP_41' 'GRP_42' 'GRP_43' 'GRP_44'\n",
      " 'GRP_45' 'GRP_46' 'GRP_47' 'GRP_48' 'GRP_49' 'GRP_5' 'GRP_50' 'GRP_51'\n",
      " 'GRP_52' 'GRP_53' 'GRP_54' 'GRP_55' 'GRP_56' 'GRP_57' 'GRP_58' 'GRP_59'\n",
      " 'GRP_6' 'GRP_60' 'GRP_61' 'GRP_62' 'GRP_63' 'GRP_64' 'GRP_65' 'GRP_66'\n",
      " 'GRP_67' 'GRP_68' 'GRP_69' 'GRP_7' 'GRP_70' 'GRP_71' 'GRP_72' 'GRP_73'\n",
      " 'GRP_8' 'GRP_9']\n",
      "['GRP_0' 'GRP_1' 'GRP_10' 'GRP_11' 'GRP_12' 'GRP_13' 'GRP_14' 'GRP_15'\n",
      " 'GRP_16' 'GRP_17' 'GRP_18' 'GRP_19' 'GRP_2' 'GRP_20' 'GRP_21' 'GRP_22'\n",
      " 'GRP_23' 'GRP_24' 'GRP_25' 'GRP_26' 'GRP_27' 'GRP_28' 'GRP_29' 'GRP_3'\n",
      " 'GRP_30' 'GRP_31' 'GRP_32' 'GRP_33' 'GRP_34' 'GRP_35' 'GRP_36' 'GRP_37'\n",
      " 'GRP_38' 'GRP_39' 'GRP_4' 'GRP_40' 'GRP_41' 'GRP_42' 'GRP_43' 'GRP_44'\n",
      " 'GRP_45' 'GRP_46' 'GRP_47' 'GRP_48' 'GRP_49' 'GRP_5' 'GRP_50' 'GRP_51'\n",
      " 'GRP_52' 'GRP_53' 'GRP_54' 'GRP_55' 'GRP_56' 'GRP_57' 'GRP_58' 'GRP_59'\n",
      " 'GRP_6' 'GRP_60' 'GRP_61' 'GRP_62' 'GRP_63' 'GRP_64' 'GRP_65' 'GRP_66'\n",
      " 'GRP_67' 'GRP_68' 'GRP_69' 'GRP_7' 'GRP_70' 'GRP_71' 'GRP_72' 'GRP_73'\n",
      " 'GRP_8' 'GRP_9']\n"
     ]
    }
   ],
   "source": [
    "#All unique groups['GRP_0' to 'GRP_73'] available in both train and test data\n",
    "print(X_train_strat.shape), print(X_test_strat.shape)\n",
    "print(np.unique(y_train_strat))\n",
    "print(np.unique(y_test_strat))"
   ]
  },
  {
   "cell_type": "code",
   "execution_count": 111,
   "metadata": {
    "collapsed": true
   },
   "outputs": [],
   "source": [
    "#We will use the CountVectorizer with uni bigram features that we selected above after analysis. Using LabelEncoder to\n",
    "#encode classes/target to numerical with value between 0 and numberofclasses-1\n",
    "#Function to use the CountVectorizer.\n",
    "def lr_cvt_unibi_eval(X_train_strat_parm, y_train_strat_parm, X_test_strat_parm, y_test_strat_parm):\n",
    "    cvt_process_strat_unibi_max = CountVectorizer(ngram_range = (1,2), max_features=24900)\n",
    "    X_train_strat_unibi_max = cvt_process_strat_unibi_max.fit_transform(X_train_strat_parm)\n",
    "    X_test_strat_unibi_max = cvt_process_strat_unibi_max.transform(X_test_strat_parm)\n",
    "    \n",
    "    lbl_enc_strat = preprocessing.LabelEncoder()\n",
    "    y_train_enc_strat = lbl_enc_strat.fit_transform(y_train_strat_parm)\n",
    "    y_test_enc_strat = lbl_enc_strat.fit_transform(y_test_strat_parm)\n",
    "\n",
    "    lr_unibi_max_strat = LogisticRegression(multi_class='multinomial', solver='lbfgs')\n",
    "    lr_unibi_max_strat.fit(X_train_strat_unibi_max, y_train_enc_strat)\n",
    "    lr_unibi_max_strat_predictions = lr_unibi_max_strat.predict(X_test_strat_unibi_max)\n",
    "    return accuracy_score(y_test_enc_strat, lr_unibi_max_strat_predictions)"
   ]
  },
  {
   "cell_type": "code",
   "execution_count": 112,
   "metadata": {},
   "outputs": [
    {
     "name": "stdout",
     "output_type": "stream",
     "text": [
      "Accuracy:0.6134301270417423\n"
     ]
    }
   ],
   "source": [
    "#We will use Logistic Regression with reduced unigram, bigram features to train and test algorithm.\n",
    "print(\"Accuracy:{}\".format(lr_cvt_unibi_eval(X_train_strat, y_train_strat, X_test_strat, y_test_strat)))"
   ]
  },
  {
   "cell_type": "markdown",
   "metadata": {
    "collapsed": true
   },
   "source": [
    "Performance of Model Uni_bigram considering all unique groups for train and test is at closer range to earlier performance."
   ]
  },
  {
   "cell_type": "code",
   "execution_count": 113,
   "metadata": {
    "collapsed": true
   },
   "outputs": [],
   "source": [
    "#Function to build a Sequential model with Bidirectional LSTM layer and keras Embedding layer, compile, fit \n",
    "#and evaluate\n",
    "def seq_lstm_bi_eval(X_train_strat_parm, y_train_strat_parm, X_test_strat_parm, y_test_strat_parm):\n",
    "    tknzr_strat = Tokenizer(num_words=top_num_words, oov_token=oov_char)\n",
    "    tknzr_strat.fit_on_texts(X_train_strat_parm.append(X_test_strat_parm))\n",
    "    tknz_strat_vocabsize =len(tknzr_strat.word_index)+1\n",
    "    \n",
    "    X_train_strat_seq = tknzr_strat.texts_to_sequences(X_train_strat_parm)\n",
    "    X_train_strat_seq_pad = pad_sequences(X_train_strat_seq, padding=pad_type, truncating=trunc_type, maxlen=max_length)\n",
    "    X_test_strat_seq = tknzr_strat.texts_to_sequences(X_test_strat_parm)\n",
    "    X_test_strat_seq_pad = pad_sequences(X_test_strat_seq, padding=pad_type, truncating=trunc_type, maxlen=max_length)\n",
    "    \n",
    "    lbl_enc_tknzr_strat = preprocessing.LabelEncoder()\n",
    "    y_train_strat_tknzr = pd.get_dummies(lbl_enc_tknzr_strat.fit_transform(y_train_strat_parm)).values\n",
    "    y_test_strat_tknzr = pd.get_dummies(lbl_enc_tknzr_strat.fit_transform(y_test_strat_parm)).values    \n",
    "    \n",
    "    model_strat = Sequential()\n",
    "    model_strat.add(Embedding(input_dim=tknz_strat_vocabsize, output_dim=embedding_dim, input_length=max_length))\n",
    "    model_strat.add(Bidirectional(LSTM(10)))\n",
    "    model_strat.add(Dense(100, activation = \"relu\"))\n",
    "    model_strat.add(Dense(74,activation='softmax'))\n",
    "    \n",
    "    model_strat.compile(loss = loss_fn, optimizer=optimizer_alg,metrics = [metric_eval])\n",
    "    model_strat.fit(X_train_strat_seq_pad, y_train_strat_tknzr, epochs = 5, batch_size=32, verbose = 0,validation_split=0.25)\n",
    "    \n",
    "    return model_strat.evaluate(X_test_strat_seq_pad, y_test_strat_tknzr)"
   ]
  },
  {
   "cell_type": "code",
   "execution_count": 114,
   "metadata": {},
   "outputs": [
    {
     "name": "stdout",
     "output_type": "stream",
     "text": [
      "1653/1653 [==============================] - 0s 301us/step\n",
      "Accuracy:[2.2823932567511047, 0.516636418795052]\n"
     ]
    }
   ],
   "source": [
    "#We will use Sequential model with Bidirectional LSTM layer to train and test algorithm.\n",
    "print(\"Accuracy:{}\".format(seq_lstm_bi_eval(X_train_strat, y_train_strat, X_test_strat, y_test_strat)))"
   ]
  },
  {
   "cell_type": "markdown",
   "metadata": {},
   "source": [
    "Performance of Sequential Model with  Bidirectional LSTM layer considering all unique groups for train and test is at closer range to earlier performance."
   ]
  },
  {
   "cell_type": "code",
   "execution_count": 115,
   "metadata": {
    "collapsed": true
   },
   "outputs": [],
   "source": [
    "#Function to create glove embedding matrix to use it in Neural Network Sequential Model\n",
    "def weight_matrx_glv_embed(glove_embd_path, embedding_dim, tknzr_parm):    \n",
    "    embeddings_word_val = {}\n",
    "    lowrds=[]\n",
    "    \n",
    "    f = open(glove_embd_path)\n",
    "    for line in f:\n",
    "        values = line.split()\n",
    "        word = values[0]\n",
    "        coefs = np.asarray(values[1:], dtype='float32')\n",
    "        embeddings_word_val[word] = coefs\n",
    "    f.close()\n",
    "\n",
    "    tknzr_parm_vocabsize = len(tknzr_parm.word_index)+1\n",
    "    embedding_matrix=np.zeros((tknzr_parm_vocabsize,embedding_dim))\n",
    "    for word,idx in tknzr_parm.word_index.items():\n",
    "        try:\n",
    "            embedding_vector=embeddings_word_val[word]\n",
    "            embedding_matrix[idx]=embedding_vector\n",
    "        except:\n",
    "            lowrds.append(word)\n",
    "    return embedding_matrix"
   ]
  },
  {
   "cell_type": "code",
   "execution_count": 116,
   "metadata": {
    "collapsed": true
   },
   "outputs": [],
   "source": [
    "#Function to build a Sequential model with Bidirectional LSTM layer and Glove Embedding layer, compile, fit \n",
    "#and evaluate\n",
    "def seq_lstm_bi_glv_eval(X_train_strat_parm, y_train_strat_parm, X_test_strat_parm, \n",
    "                     y_test_strat_parm, glv_embed_path, dimension_parm, last_dense_layer=74):\n",
    "    tknzr_strat = Tokenizer(num_words=top_num_words, oov_token=oov_char)\n",
    "    tknzr_strat.fit_on_texts(X_train_strat_parm.append(X_test_strat_parm))\n",
    "    tknz_strat_vocabsize =len(tknzr_strat.word_index)+1\n",
    "    \n",
    "    X_train_strat_seq = tknzr_strat.texts_to_sequences(X_train_strat_parm)\n",
    "    X_train_strat_seq_pad = pad_sequences(X_train_strat_seq, padding=pad_type, truncating=trunc_type, maxlen=max_length)\n",
    "    X_test_strat_seq = tknzr_strat.texts_to_sequences(X_test_strat_parm)\n",
    "    X_test_strat_seq_pad = pad_sequences(X_test_strat_seq, padding=pad_type, truncating=trunc_type, maxlen=max_length)\n",
    "    \n",
    "    lbl_enc_tknzr_strat = preprocessing.LabelEncoder()\n",
    "    y_train_strat_tknzr = pd.get_dummies(lbl_enc_tknzr_strat.fit_transform(y_train_strat_parm)).values\n",
    "    y_test_strat_tknzr = pd.get_dummies(lbl_enc_tknzr_strat.fit_transform(y_test_strat_parm)).values\n",
    "    \n",
    "    embedding_matrix_strat = weight_matrx_glv_embed(glv_embed_path, dimension_parm, tknzr_strat)    \n",
    "        \n",
    "    model_strat = Sequential()\n",
    "    model_strat.add(Embedding(input_dim=tknz_strat_vocabsize, output_dim=dimension_parm, weights=[embedding_matrix_strat], \n",
    "                              input_length=max_length, trainable=True))\n",
    "    model_strat.add(Bidirectional(LSTM(10)))\n",
    "    model_strat.add(Dense(100, activation = \"relu\"))\n",
    "    model_strat.add(Dense(last_dense_layer,activation='softmax'))\n",
    "    \n",
    "    model_strat.compile(loss = loss_fn, optimizer=optimizer_alg,metrics = [metric_eval])\n",
    "    model_strat.fit(X_train_strat_seq_pad, y_train_strat_tknzr, epochs = 5, batch_size=32, verbose = 0,validation_split=0.25)\n",
    "    \n",
    "    return model_strat.evaluate(X_test_strat_seq_pad, y_test_strat_tknzr)"
   ]
  },
  {
   "cell_type": "code",
   "execution_count": 117,
   "metadata": {},
   "outputs": [
    {
     "name": "stdout",
     "output_type": "stream",
     "text": [
      "1653/1653 [==============================] - 1s 320us/step\n",
      "Accuracy:[2.070863858180845, 0.5402298852197344]\n"
     ]
    }
   ],
   "source": [
    "#We will use Sequential model with Bidirectional LSTM layer and Glove 300 dimensional embedding to train and test \n",
    "#algorithm.\n",
    "print(\"Accuracy:{}\".format(seq_lstm_bi_glv_eval(X_train_strat, y_train_strat, \n",
    "                                            X_test_strat, y_test_strat, './glove.6B.300d.txt', 300)))"
   ]
  },
  {
   "cell_type": "markdown",
   "metadata": {},
   "source": [
    "Performance of Sequential Model with Bidirectional LSTM layer and Glove 300 dimensional embedding considering all unique groups for train and test holds out at closer range to earlier performance."
   ]
  },
  {
   "cell_type": "markdown",
   "metadata": {},
   "source": [
    "The initial performance of LogisticRegression and Sequential Model where we did not focus on having all unique groups/target available in train, test data and later performance of LogisticRegression and Sequential Model where we made sure to have all unique groups/target available in train, test data and the one where we used Glove pretrained embedding remains almost at same range 61-63 percent and 51-54 percent accuracy respectively. "
   ]
  },
  {
   "cell_type": "markdown",
   "metadata": {},
   "source": [
    "We will try to handle class imbalance using sklearn resample which creates a random resampling with(default=True)/without replacement of data and evaluate the performance of models. We will be using the train and test data that has all unique groups available in them"
   ]
  },
  {
   "cell_type": "code",
   "execution_count": 118,
   "metadata": {},
   "outputs": [
    {
     "data": {
      "text/plain": [
       "((3200, 2), (1735, 2), (3200, 2))"
      ]
     },
     "execution_count": 118,
     "metadata": {},
     "output_type": "execute_result"
    }
   ],
   "source": [
    "#Create random resample with replacement for groups/target with counts less than 150. Using the train data and \n",
    "#upsampling it. Tried with different number of random samples.\n",
    "resampl_df = pd.DataFrame({ 'Assignment group': y_train_strat, 'Description': X_train_strat })\n",
    "df_grt_150_rl = resampl_df.groupby(\"Assignment group\").filter(lambda x: len(x) > 150)\n",
    "df_lssr_150_rl = resampl_df.groupby(\"Assignment group\").filter(lambda x: len(x) <= 150)\n",
    "df_lssr_150_rl_upsampl = resample(df_lssr_150_rl, n_samples=len(df_grt_150_rl), random_state=6)\n",
    "df_rl_upsampld = pd.concat([df_grt_150_rl, df_lssr_150_rl_upsampl])\n",
    "df_grt_150_rl.shape, df_lssr_150_rl.shape, df_lssr_150_rl_upsampl.shape"
   ]
  },
  {
   "cell_type": "code",
   "execution_count": 119,
   "metadata": {},
   "outputs": [
    {
     "name": "stdout",
     "output_type": "stream",
     "text": [
      "Accuracy:0.6158499697519662\n"
     ]
    }
   ],
   "source": [
    "#We will use Logistic Regression with reduced unigram, bigram features to train and test algorithm. Using the train\n",
    "#data that is random upsampled and evaluating performance\n",
    "print(\"Accuracy:{}\".format(lr_cvt_unibi_eval(df_rl_upsampld['Description'], df_rl_upsampld['Assignment group'], \n",
    "                                             X_test_strat, y_test_strat)))\n",
    "del resampl_df, df_grt_150_rl, df_lssr_150_rl, df_lssr_150_rl_upsampl"
   ]
  },
  {
   "cell_type": "code",
   "execution_count": 120,
   "metadata": {},
   "outputs": [
    {
     "name": "stdout",
     "output_type": "stream",
     "text": [
      "1653/1653 [==============================] - 1s 324us/step\n",
      "Accuracy:[2.153939386749729, 0.5589836661879106]\n"
     ]
    }
   ],
   "source": [
    "#We will use Sequential model with Bidirectional LSTM layer and Glove 300 dimensional embedding to train and test \n",
    "#algorithm. Using the train data that is random upsampled and evaluating performance\n",
    "print(\"Accuracy:{}\".format(seq_lstm_bi_glv_eval(df_rl_upsampld['Description'], df_rl_upsampld['Assignment group'], \n",
    "                                            X_test_strat, y_test_strat, './glove.6B.300d.txt', 300)))\n",
    "del df_rl_upsampld"
   ]
  },
  {
   "cell_type": "markdown",
   "metadata": {},
   "source": [
    "The performance of LogisticRegression and Sequential Model with Glove pretrained embedding layer using the upsampled train data, evaluating performance is at range 61-63 percent and 51-55 percent accuracy respectively."
   ]
  },
  {
   "cell_type": "markdown",
   "metadata": {},
   "source": [
    "We will try to handle class imbalance using various text augmentation techniques on groups with less or equal to 100 counts/documents and evaluate the performance of models. We will be using the train and test data that has all unique groups available in them"
   ]
  },
  {
   "cell_type": "code",
   "execution_count": 121,
   "metadata": {
    "collapsed": true
   },
   "outputs": [],
   "source": [
    "#Function: Translate text augmentation technique to generate documents/text by converting text in english to different \n",
    "#language[Here: German(de)] then back to english. This could help us get the documents which gives similar \n",
    "#context/meaning with different words. \n",
    "def translt_text(text):\n",
    "    try:\n",
    "        txt_blb = TextBlob(text)\n",
    "        txt_blb_trans = txt_blb.translate(from_lang='en', to='de')\n",
    "        txt_blb_bck = txt_blb_trans.translate(from_lang='de', to='en')\n",
    "        return txt_blb_bck\n",
    "    except:\n",
    "        return text  "
   ]
  },
  {
   "cell_type": "code",
   "execution_count": 122,
   "metadata": {
    "collapsed": true
   },
   "outputs": [],
   "source": [
    "#Function: Using the train data and performing text augmentation on groups with less than number of documents that is \n",
    "#passed as argument to function. Removing any duplicates and returning the dataframe with non augmentated[groups with\n",
    "#more than number of documents that is passed as argument] and text augmentated data. \n",
    "def aug_text_data(X_train_strat_parm, y_train_strat_parm, no_of_docs, text_aug_fn):\n",
    "    \n",
    "    df_aug = pd.DataFrame({ 'Description': X_train_strat_parm, 'Assignment group': y_train_strat_parm })\n",
    "    df_grt_no_of_docs = df_aug.groupby(\"Assignment group\").filter(lambda x: len(x) > no_of_docs)\n",
    "\n",
    "    new_aug_dfs_lst = []\n",
    "    grouped_trgts = df_aug.groupby('Assignment group')\n",
    "    for key, item in grouped_trgts:\n",
    "        df_grp_trgt = grouped_trgts.get_group(key)      \n",
    "        if len(df_grp_trgt) <= no_of_docs:        \n",
    "            sampls_size_2_increase = (no_of_docs - len(df_grp_trgt))       \n",
    "            if sampls_size_2_increase < len(df_grp_trgt):\n",
    "                df_lssr_aug_grptrgt = copy.deepcopy(df_grp_trgt.sample(n=sampls_size_2_increase))\n",
    "                df_lssr_aug_grptrgt[\"Description\"] = df_lssr_aug_grptrgt[\"Description\"].apply(text_aug_fn)\n",
    "                new_aug_dfs_lst.append(pd.concat([df_grp_trgt,df_lssr_aug_grptrgt]))\n",
    "            else:\n",
    "                rng = math.ceil(sampls_size_2_increase/len(df_grp_trgt))\n",
    "                df_grt_ln_aug_grptrgt = copy.deepcopy(df_grp_trgt)\n",
    "                lssr_div_aug_dfs_lst = []\n",
    "                for i in range(0, rng):\n",
    "                    if i==0:\n",
    "                        df_grt_ln_aug_grptrgt[\"Description\"] = df_grt_ln_aug_grptrgt[\"Description\"].apply(text_aug_fn)\n",
    "                    else:\n",
    "                        df_grt_ln_aug_grptrgt = copy.deepcopy(lssr_div_aug_dfs_lst[i-1])\n",
    "                        df_grt_ln_aug_grptrgt[\"Description\"] = df_grt_ln_aug_grptrgt[\"Description\"].apply(text_aug_fn)\n",
    "                    lssr_div_aug_dfs_lst.append(df_grt_ln_aug_grptrgt)\n",
    "                lssr_div_aug_dfs_lst.append(df_grp_trgt)\n",
    "                new_aug_dfs_lst.append(pd.concat(lssr_div_aug_dfs_lst))\n",
    "    new_aug_df = pd.concat(new_aug_dfs_lst)\n",
    "\n",
    "    df_grtr_lssr_aug = pd.concat([df_grt_no_of_docs, new_aug_df])\n",
    "    df_grtr_lssr_aug.drop_duplicates(['Description','Assignment group'], inplace=True)\n",
    "    return df_grtr_lssr_aug"
   ]
  },
  {
   "cell_type": "code",
   "execution_count": 123,
   "metadata": {},
   "outputs": [
    {
     "name": "stdout",
     "output_type": "stream",
     "text": [
      "Accuracy:0.6134301270417423\n"
     ]
    }
   ],
   "source": [
    "#We will use Logistic Regression with reduced unigram, bigram features to train and test algorithm. Using the train\n",
    "#data that is translate agumentated and evaluating performance.\n",
    "df_translt_aug = aug_text_data(X_train_strat, y_train_strat, 100, translt_text)\n",
    "print(\"Accuracy:{}\".format(lr_cvt_unibi_eval(df_translt_aug['Description'], df_translt_aug['Assignment group'], \n",
    "                                             X_test_strat, y_test_strat)))"
   ]
  },
  {
   "cell_type": "code",
   "execution_count": 124,
   "metadata": {},
   "outputs": [
    {
     "name": "stdout",
     "output_type": "stream",
     "text": [
      "1653/1653 [==============================] - 1s 320us/step\n",
      "Accuracy:[4.083550006637989, 0.5511191774157416]\n"
     ]
    }
   ],
   "source": [
    "#We will use Sequential model with Bidirectional LSTM layer and Glove 300 dimensional embedding to train and test \n",
    "#algorithm. Using the train data that is random upsampled and evaluating performance.\n",
    "print(\"Accuracy:{}\".format(seq_lstm_bi_glv_eval(df_translt_aug['Description'], df_translt_aug['Assignment group'], \n",
    "                                            X_test_strat, y_test_strat, './glove.6B.300d.txt', 300)))\n",
    "del df_translt_aug"
   ]
  },
  {
   "cell_type": "markdown",
   "metadata": {},
   "source": [
    "The performance of LogisticRegression and Sequential Model with Glove pretrained embedding layer using the translate agumentated train data, evaluating performance is at range 61-63 percent and 51-55 percent accuracy respectively."
   ]
  },
  {
   "cell_type": "code",
   "execution_count": 125,
   "metadata": {},
   "outputs": [
    {
     "name": "stdout",
     "output_type": "stream",
     "text": [
      "Accuracy:0.6212946158499697\n"
     ]
    }
   ],
   "source": [
    "#We will use Logistic Regression with reduced unigram, bigram features to train and test algorithm. Using the train\n",
    "#data that is synonym agumentated and evaluating performance.\n",
    "df_synonm_aug = aug_text_data(X_train_strat, y_train_strat, 100, aug_syno_text)\n",
    "print(\"Accuracy:{}\".format(lr_cvt_unibi_eval(df_synonm_aug['Description'], df_synonm_aug['Assignment group'], \n",
    "                                             X_test_strat, y_test_strat)))"
   ]
  },
  {
   "cell_type": "code",
   "execution_count": 126,
   "metadata": {},
   "outputs": [
    {
     "name": "stdout",
     "output_type": "stream",
     "text": [
      "1653/1653 [==============================] - 1s 319us/step\n",
      "Accuracy:[2.641554564760442, 0.5269207503135033]\n"
     ]
    }
   ],
   "source": [
    "#We will use Sequential model with Bidirectional LSTM layer and Glove 300 dimensional embedding to train and test \n",
    "#algorithm. Using the train data that is synonym agumentated and evaluating performance.\n",
    "print(\"Accuracy:{}\".format(seq_lstm_bi_glv_eval(df_synonm_aug['Description'], df_synonm_aug['Assignment group'], \n",
    "                                            X_test_strat, y_test_strat, './glove.6B.300d.txt', 300)))\n",
    "del df_synonm_aug"
   ]
  },
  {
   "cell_type": "markdown",
   "metadata": {},
   "source": [
    "The performance of LogisticRegression and Sequential Model with Glove pretrained embedding layer using the synonym agumentated train data, evaluating performance is at range 61-63 percent and 51-55 percent accuracy respectively."
   ]
  },
  {
   "cell_type": "code",
   "execution_count": 127,
   "metadata": {
    "collapsed": true
   },
   "outputs": [],
   "source": [
    "#Word embedding Augmenter substitute word from glove embedding. It links words with similar word embeddings\n",
    "wrd_embd_aug = naw.WordEmbsAug(model_type='glove', model_path='./glove.6B.300d.txt', action=\"substitute\", aug_p=0.5)\n",
    "def sub_wrd_glv(text):\n",
    "    try:\n",
    "        return wrd_embd_aug.augment(text)\n",
    "    except:\n",
    "        return text"
   ]
  },
  {
   "cell_type": "code",
   "execution_count": 128,
   "metadata": {},
   "outputs": [
    {
     "name": "stdout",
     "output_type": "stream",
     "text": [
      "Accuracy:0.632183908045977\n"
     ]
    }
   ],
   "source": [
    "#We will use Logistic Regression with reduced unigram, bigram features to train and test algorithm. Using the train\n",
    "#data that is Word embeddings agumentated and evaluating performance\n",
    "df_wrdembd_aug = aug_text_data(X_train_strat, y_train_strat, 100, sub_wrd_glv)\n",
    "print(\"Accuracy:{}\".format(lr_cvt_unibi_eval(df_wrdembd_aug['Description'], df_wrdembd_aug['Assignment group'], \n",
    "                                             X_test_strat, y_test_strat)))"
   ]
  },
  {
   "cell_type": "code",
   "execution_count": 129,
   "metadata": {},
   "outputs": [
    {
     "name": "stdout",
     "output_type": "stream",
     "text": [
      "1653/1653 [==============================] - 1s 309us/step\n",
      "Accuracy:[2.705647482990281, 0.545069570640182]\n"
     ]
    }
   ],
   "source": [
    "#We will use Sequential model with Bidirectional LSTM layer and Glove 300 dimensional embedding to train and test \n",
    "#algorithm. Using the train data that is Word embeddings agumentated and evaluating performance\n",
    "print(\"Accuracy:{}\".format(seq_lstm_bi_glv_eval(df_wrdembd_aug['Description'], df_wrdembd_aug['Assignment group'], \n",
    "                                            X_test_strat, y_test_strat, './glove.6B.300d.txt', 300)))\n",
    "del df_wrdembd_aug"
   ]
  },
  {
   "cell_type": "markdown",
   "metadata": {},
   "source": [
    "The performance of LogisticRegression and Sequential Model with Glove pretrained embedding layer and word embed agumentated data on groups less or equal to 100 counts/documents, evaluating performance is at range 61-63 percent and 51-55 percent accuracy respectively."
   ]
  },
  {
   "cell_type": "markdown",
   "metadata": {},
   "source": [
    "LatentDirichletAllocation from sklearn helps us classify the documents into topics. We can use this to seggregate\n",
    "documents belonging to GRP_0 class into 4 different classes which will reduce the difference ratio with other classes. First classify the documents into 4[can be any number] topics then assign class for documents belonging to each topic.\n",
    "If this increases the accuracy at reasonable rate, we can map these classes formed from topics to GRP_0 class and when any one of these class is predicted, result will be GRP_0 class."
   ]
  },
  {
   "cell_type": "code",
   "execution_count": 130,
   "metadata": {
    "collapsed": true
   },
   "outputs": [],
   "source": [
    "#Combine train and test dataset which has all unique groups available in them to one dataframe.\n",
    "df_train_all_grps = pd.DataFrame({ 'Description': X_train_strat, 'Assignment group': y_train_strat })\n",
    "df_test_all_grps = pd.DataFrame({ 'Description': X_test_strat, 'Assignment group': y_test_strat })"
   ]
  },
  {
   "cell_type": "code",
   "execution_count": 131,
   "metadata": {
    "collapsed": true
   },
   "outputs": [],
   "source": [
    "#Fetch the GRP_0 class documents available in train and test dataframe, use the selected CountVectorizer which has \n",
    "#reduced unigram and bigram features to get vectorized data, fit on LatentDirichletAllocation to get the topics, loop \n",
    "#the train and test dataframe and assign the classes to each document based on the topic it belongs to.\n",
    "\n",
    "df_trn_grp_0 =copy.deepcopy(df_train_all_grps[df_train_all_grps['Assignment group'].apply(lambda text: text=='GRP_0')].reset_index(drop=True))\n",
    "df_tst_grp_0 =copy.deepcopy(df_test_all_grps[df_test_all_grps['Assignment group'].apply(lambda text: text=='GRP_0')].reset_index(drop=True))\n",
    "\n",
    "cvt_process_topcs_unibi_max = CountVectorizer(ngram_range = (1,2), max_features=24900)\n",
    "X_train_topcs_unibi_max = cvt_process_topcs_unibi_max.fit_transform(df_trn_grp_0['Description'])\n",
    "X_test_topcs_unibi_max = cvt_process_topcs_unibi_max.fit_transform(df_tst_grp_0['Description'])\n",
    "\n",
    "lda_model = LatentDirichletAllocation(n_components=4, max_iter=100, random_state=6)\n",
    "lda_train_topics = lda_model.fit_transform(X_train_topcs_unibi_max)\n",
    "lda_test_topics = lda_model.fit_transform(X_test_topcs_unibi_max)\n",
    "\n",
    "for idx, row in copy.deepcopy(df_trn_grp_0).iterrows():\n",
    "    topic_doc = lda_train_topics[idx].argmax()\n",
    "    df_trn_grp_0.at[idx, 'Assignment group'] = 'GRP_0'+ str(topic_doc)\n",
    "    \n",
    "for idx, row in copy.deepcopy(df_tst_grp_0).iterrows():\n",
    "    topic_doc = lda_test_topics[idx].argmax()\n",
    "    df_tst_grp_0.at[idx, 'Assignment group'] = 'GRP_0'+ str(topic_doc)\n",
    "    \n",
    "del cvt_process_topcs_unibi_max, X_train_topcs_unibi_max, X_test_topcs_unibi_max, lda_model\n",
    "del lda_train_topics, lda_test_topics, topic_doc"
   ]
  },
  {
   "cell_type": "code",
   "execution_count": 132,
   "metadata": {},
   "outputs": [
    {
     "name": "stdout",
     "output_type": "stream",
     "text": [
      "Train Group Value Counts\n",
      "GRP_00    715\n",
      "GRP_01    701\n",
      "GRP_02    601\n",
      "GRP_03    282\n",
      "Name: Assignment group, dtype: int64\n",
      "Test Group Value Counts\n",
      "GRP_02    232\n",
      "GRP_03    199\n",
      "GRP_01    188\n",
      "GRP_00    147\n",
      "Name: Assignment group, dtype: int64\n"
     ]
    }
   ],
   "source": [
    "#Check the group value counts of train and test data\n",
    "print(\"Train Group Value Counts\")\n",
    "print(df_trn_grp_0['Assignment group'].value_counts())\n",
    "print(\"Test Group Value Counts\")\n",
    "print(df_tst_grp_0['Assignment group'].value_counts())"
   ]
  },
  {
   "cell_type": "code",
   "execution_count": 133,
   "metadata": {},
   "outputs": [
    {
     "data": {
      "text/plain": [
       "GRP_00    0.144883\n",
       "GRP_01    0.142047\n",
       "GRP_02    0.121783\n",
       "GRP_03    0.057143\n",
       "GRP_24    0.042148\n",
       "GRP_2     0.036474\n",
       "GRP_12    0.036069\n",
       "GRP_8     0.035461\n",
       "GRP_19    0.032421\n",
       "GRP_3     0.030395\n",
       "GRP_13    0.021479\n",
       "GRP_14    0.017832\n",
       "GRP_25    0.017629\n",
       "GRP_33    0.016008\n",
       "GRP_29    0.014792\n",
       "GRP_4     0.013779\n",
       "GRP_16    0.012969\n",
       "GRP_18    0.012766\n",
       "GRP_10    0.012361\n",
       "GRP_9     0.011753\n",
       "GRP_6     0.010740\n",
       "GRP_7     0.010132\n",
       "GRP_17    0.009524\n",
       "GRP_34    0.009524\n",
       "GRP_26    0.008511\n",
       "GRP_31    0.008308\n",
       "GRP_5     0.007700\n",
       "GRP_40    0.006890\n",
       "GRP_28    0.006687\n",
       "GRP_15    0.005876\n",
       "            ...   \n",
       "GRP_36    0.002229\n",
       "GRP_65    0.001621\n",
       "GRP_60    0.001621\n",
       "GRP_53    0.001621\n",
       "GRP_52    0.001418\n",
       "GRP_55    0.001216\n",
       "GRP_51    0.001216\n",
       "GRP_59    0.001013\n",
       "GRP_46    0.001013\n",
       "GRP_48    0.001013\n",
       "GRP_49    0.001013\n",
       "GRP_43    0.000811\n",
       "GRP_32    0.000608\n",
       "GRP_68    0.000405\n",
       "GRP_56    0.000405\n",
       "GRP_66    0.000405\n",
       "GRP_58    0.000405\n",
       "GRP_38    0.000405\n",
       "GRP_63    0.000405\n",
       "GRP_35    0.000203\n",
       "GRP_57    0.000203\n",
       "GRP_64    0.000203\n",
       "GRP_70    0.000203\n",
       "GRP_69    0.000203\n",
       "GRP_71    0.000203\n",
       "GRP_72    0.000203\n",
       "GRP_61    0.000203\n",
       "GRP_54    0.000203\n",
       "GRP_67    0.000203\n",
       "GRP_73    0.000203\n",
       "Name: Assignment group, Length: 77, dtype: float64"
      ]
     },
     "execution_count": 133,
     "metadata": {},
     "output_type": "execute_result"
    }
   ],
   "source": [
    "#From our train and test dataframe where we selected GRP_0 class documents, let us now select all documents belonging\n",
    "#to other group classes, concatenate it with dataframe holding four classes (GRP_00, GRP_01, GRP_02, GRP_03) in the \n",
    "#train and test form respectively. Check all group values percentage ratio in train data\n",
    "\n",
    "df_trn_grp_nt0 = copy.deepcopy(df_train_all_grps[df_train_all_grps['Assignment group'].apply(lambda text: text!='GRP_0')])\n",
    "df_tst_grp_nt0 = copy.deepcopy(df_test_all_grps[df_test_all_grps['Assignment group'].apply(lambda text: text!='GRP_0')])\n",
    "\n",
    "df_trn_grps_tpcs = pd.concat([df_trn_grp_0, df_trn_grp_nt0])\n",
    "df_tst_grps_tpcs = pd.concat([df_tst_grp_0, df_tst_grp_nt0])\n",
    "\n",
    "del df_trn_grp_0, df_trn_grp_nt0\n",
    "del df_tst_grp_0, df_tst_grp_nt0\n",
    "\n",
    "df_trn_grps_tpcs['Assignment group'].value_counts(normalize=True)"
   ]
  },
  {
   "cell_type": "code",
   "execution_count": 134,
   "metadata": {},
   "outputs": [
    {
     "name": "stdout",
     "output_type": "stream",
     "text": [
      "1653/1653 [==============================] - 1s 352us/step\n",
      "Sequential-Accuracy:[3.501295832814553, 0.2667876588833094]\n"
     ]
    }
   ],
   "source": [
    "#The percentage of difference between the groups is reduced, let's do word embedding text augumentation of the \n",
    "#documents which are having count less than 100 to decrease the difference further. We will use Sequential model to \n",
    "#train and test data. Remove no longer required variables to free up memory.\n",
    "df_trn_tpcs_wrdembd_aug = aug_text_data(df_trn_grps_tpcs['Description'], df_trn_grps_tpcs['Assignment group'], \n",
    "                                        100, sub_wrd_glv)\n",
    "\n",
    "print(\"Sequential-Accuracy:{}\".format(seq_lstm_bi_glv_eval(df_trn_tpcs_wrdembd_aug['Description'], \n",
    "                                                           df_trn_tpcs_wrdembd_aug['Assignment group'], \n",
    "                                                           df_tst_grps_tpcs['Description'], \n",
    "                                                           df_tst_grps_tpcs['Assignment group'], \n",
    "                                                           './glove.6B.300d.txt', 300, 77)))\n",
    "del df_trn_grps_tpcs\n",
    "del df_tst_grps_tpcs\n",
    "del df_trn_tpcs_wrdembd_aug"
   ]
  },
  {
   "cell_type": "markdown",
   "metadata": {},
   "source": [
    "Using the LatentDirichletAllocation to reduce the major class to subclasses(by topics) to reduce difference ratio with other classes and word embedding augumenting lower documents classes, the performance of Sequential Model with Glove pretrained embedding layer goes down."
   ]
  },
  {
   "cell_type": "markdown",
   "metadata": {},
   "source": [
    "We will build two models after grouping classes. When there is a new dataset and prediction has to be done, first model can be used to predict if the class belongs to major classes chosen or the common group and align the prediction against the dataset. Then, second model can be used to predict which class in the common group does the prediction refer to. But, first we have to prepare models and evaluate performances."
   ]
  },
  {
   "cell_type": "code",
   "execution_count": 185,
   "metadata": {},
   "outputs": [
    {
     "data": {
      "text/plain": [
       "GRP_0     3065\n",
       "GRP_24     277\n",
       "GRP_2      240\n",
       "GRP_12     238\n",
       "GRP_8      234\n",
       "GRP_19     213\n",
       "GRP_3      200\n",
       "GRP_13     142\n",
       "GRP_14     118\n",
       "GRP_25     116\n",
       "GRP_33     106\n",
       "GRP_29      97\n",
       "GRP_4       91\n",
       "GRP_16      85\n",
       "GRP_18      84\n",
       "GRP_10      82\n",
       "GRP_9       78\n",
       "GRP_6       70\n",
       "GRP_7       67\n",
       "GRP_17      63\n",
       "GRP_34      62\n",
       "GRP_26      56\n",
       "GRP_31      55\n",
       "GRP_5       50\n",
       "GRP_40      45\n",
       "GRP_28      44\n",
       "GRP_41      39\n",
       "GRP_15      38\n",
       "GRP_42      37\n",
       "GRP_20      36\n",
       "          ... \n",
       "GRP_50      14\n",
       "GRP_60      11\n",
       "GRP_65      11\n",
       "GRP_53      11\n",
       "GRP_52       9\n",
       "GRP_51       8\n",
       "GRP_55       8\n",
       "GRP_48       7\n",
       "GRP_49       6\n",
       "GRP_46       6\n",
       "GRP_59       6\n",
       "GRP_43       5\n",
       "GRP_32       4\n",
       "GRP_63       3\n",
       "GRP_38       3\n",
       "GRP_56       3\n",
       "GRP_66       3\n",
       "GRP_68       3\n",
       "GRP_58       3\n",
       "GRP_71       2\n",
       "GRP_54       2\n",
       "GRP_69       2\n",
       "GRP_57       2\n",
       "GRP_72       2\n",
       "GRP_64       1\n",
       "GRP_67       1\n",
       "GRP_35       1\n",
       "GRP_70       1\n",
       "GRP_73       1\n",
       "GRP_61       1\n",
       "Name: Assignment group, Length: 74, dtype: int64"
      ]
     },
     "execution_count": 185,
     "metadata": {},
     "output_type": "execute_result"
    }
   ],
   "source": [
    "#Combining all train and test data to one dataframe and checking the value counts for each group.\n",
    "df_all_data = copy.deepcopy(df_process_txt_acc)\n",
    "df_all_data['Assignment group'].value_counts()"
   ]
  },
  {
   "cell_type": "code",
   "execution_count": 186,
   "metadata": {},
   "outputs": [
    {
     "data": {
      "text/plain": [
       "GRP_0      3065\n",
       "GRP_CMN    2528\n",
       "GRP_24      277\n",
       "GRP_2       240\n",
       "GRP_12      238\n",
       "GRP_8       234\n",
       "Name: Assignment_group_cmn, dtype: int64"
      ]
     },
     "execution_count": 186,
     "metadata": {},
     "output_type": "execute_result"
    }
   ],
   "source": [
    "#Tried with different number of groups. We will be having 6 groups. 5 major groups [GRP_0, GRP_24, GRP_2, GRP_12, \n",
    "#GRP_8] and all other groups in one group [GRP_CMN]. GRP_CMN groups is the one with groups having counts less than \n",
    "#230. Create a new column Assignment_group_cmn to hold this information.\n",
    "less_val_grps = []\n",
    "df_all_data_grouped = df_all_data.groupby('Assignment group')\n",
    "for key, item in df_all_data_grouped:\n",
    "    df_grp = df_all_data_grouped.get_group(key)      \n",
    "    if len(df_grp) <= 230:\n",
    "        less_val_grps.append(key)\n",
    "        \n",
    "def cmn_labls(label):\n",
    "    if label in less_val_grps:\n",
    "        return 'GRP_CMN'\n",
    "    else:\n",
    "        return label\n",
    "\n",
    "df_all_data['Assignment_group_cmn'] = df_all_data['Assignment group'].apply(cmn_labls)\n",
    "del less_val_grps, df_all_data_grouped, df_grp\n",
    "df_all_data['Assignment_group_cmn'].value_counts()"
   ]
  },
  {
   "cell_type": "code",
   "execution_count": 187,
   "metadata": {},
   "outputs": [
    {
     "data": {
      "text/plain": [
       "(array(['GRP_0', 'GRP_12', 'GRP_2', 'GRP_24', 'GRP_8', 'GRP_CMN'],\n",
       "       dtype=object),\n",
       " array(['GRP_0', 'GRP_12', 'GRP_2', 'GRP_24', 'GRP_8', 'GRP_CMN'],\n",
       "       dtype=object))"
      ]
     },
     "execution_count": 187,
     "metadata": {},
     "output_type": "execute_result"
    }
   ],
   "source": [
    "#Select features(X_all_grp) and target(y_all_grp) representing the classes GRP_0, GRP_24, GRP_2, GRP_12, GRP_8 and \n",
    "#GRP_CMN. Perform train-test split and identify unique group values in them.\n",
    "X_all_grp = df_all_data['Description']\n",
    "y_all_grp = df_all_data['Assignment_group_cmn']\n",
    "\n",
    "X_train_all_grp, X_test_all_grp, y_train_all_grp, y_test_all_grp =train_test_split(X_all_grp, y_all_grp, random_state=6,\n",
    "                                                   test_size = 0.25, stratify=y_all_grp)\n",
    "\n",
    "np.unique(y_train_all_grp), np.unique(y_test_all_grp)"
   ]
  },
  {
   "cell_type": "code",
   "execution_count": 188,
   "metadata": {},
   "outputs": [
    {
     "name": "stdout",
     "output_type": "stream",
     "text": [
      "LR-Accuracy:0.732685297691373\n"
     ]
    }
   ],
   "source": [
    "#We will use Logistic Regression to train and test data. \n",
    "\n",
    "print(\"LR-Accuracy:{}\".format(lr_cvt_unibi_eval(X_train_all_grp, y_train_all_grp, X_test_all_grp, y_test_all_grp)))\n"
   ]
  },
  {
   "cell_type": "code",
   "execution_count": 189,
   "metadata": {},
   "outputs": [
    {
     "name": "stdout",
     "output_type": "stream",
     "text": [
      "1646/1646 [==============================] - 1s 415us/step\n",
      "[0.8421598212252556, 0.7138517620641724]\n"
     ]
    }
   ],
   "source": [
    "#We will use Sequential model to get model reference to check the classification_report.\n",
    "tknzr_cr = Tokenizer(num_words=top_num_words, oov_token=oov_char)\n",
    "tknzr_cr.fit_on_texts(X_train_all_grp.append(X_test_all_grp))\n",
    "tknzr_cr_vocabsize =len(tknzr_cr.word_index)+1\n",
    "    \n",
    "X_train_cr_seq = tknzr_cr.texts_to_sequences(X_train_all_grp)\n",
    "X_train_cr_seq_pad = pad_sequences(X_train_cr_seq, padding=pad_type, truncating=trunc_type, maxlen=max_length)\n",
    "X_test_cr_seq = tknzr_cr.texts_to_sequences(X_test_all_grp)\n",
    "X_test_cr_seq_pad = pad_sequences(X_test_cr_seq, padding=pad_type, truncating=trunc_type, maxlen=max_length)\n",
    "    \n",
    "lbl_enc_tknzr_cr = preprocessing.LabelEncoder()\n",
    "y_train_cr_tknzr = pd.get_dummies(lbl_enc_tknzr_cr.fit_transform(y_train_all_grp)).values\n",
    "y_test_cr_tknzr = pd.get_dummies(lbl_enc_tknzr_cr.fit_transform(y_test_all_grp)).values\n",
    "    \n",
    "embedding_matrix_cr = weight_matrx_glv_embed('./glove.6B.300d.txt', 300, tknzr_cr)    \n",
    "        \n",
    "model_cr = Sequential()\n",
    "model_cr.add(Embedding(input_dim=tknzr_cr_vocabsize, output_dim=300, weights=[embedding_matrix_cr], \n",
    "                              input_length=max_length, trainable=True))\n",
    "model_cr.add(Bidirectional(LSTM(10)))\n",
    "model_cr.add(Dense(100, activation = \"relu\"))\n",
    "model_cr.add(Dense(6,activation='softmax'))\n",
    "    \n",
    "model_cr.compile(loss = loss_fn, optimizer=optimizer_alg,metrics = [metric_eval])\n",
    "model_cr.fit(X_train_cr_seq_pad, y_train_cr_tknzr, epochs = 5, batch_size=32, verbose = 0,validation_split=0.25)\n",
    "    \n",
    "print(model_cr.evaluate(X_test_cr_seq_pad, y_test_cr_tknzr))\n",
    "del X_all_grp, y_all_grp\n",
    "del X_train_all_grp, X_test_all_grp, y_train_all_grp, y_test_all_grp"
   ]
  },
  {
   "cell_type": "code",
   "execution_count": 190,
   "metadata": {},
   "outputs": [
    {
     "name": "stdout",
     "output_type": "stream",
     "text": [
      "              precision    recall  f1-score   support\n",
      "\n",
      "           0       0.75      0.82      0.79       766\n",
      "           1       0.41      0.52      0.46        60\n",
      "           2       0.42      0.43      0.43        60\n",
      "           3       0.92      0.87      0.90        69\n",
      "           4       0.72      0.53      0.61        59\n",
      "           5       0.70      0.63      0.66       632\n",
      "\n",
      "    accuracy                           0.71      1646\n",
      "   macro avg       0.66      0.63      0.64      1646\n",
      "weighted avg       0.72      0.71      0.71      1646\n",
      "\n"
     ]
    }
   ],
   "source": [
    "#Let us check the classification_report for the evaluation metrics and performance of model in the prediction of\n",
    "#individual classes. \n",
    "y_test_cr_tknzr_max = np.argmax(y_test_cr_tknzr, axis=1)\n",
    "model_cr_predictions = model_cr.predict_classes(X_test_cr_seq_pad)\n",
    "print(classification_report(y_test_cr_tknzr_max, model_cr_predictions))"
   ]
  },
  {
   "cell_type": "markdown",
   "metadata": {},
   "source": [
    "The accuracy of both Logistic Regression and Sequential model in identifying GRP_0, GRP_24, GRP_2, GRP_12, GRP_8 and \n",
    "GRP_CMN has increased and around 70"
   ]
  },
  {
   "cell_type": "markdown",
   "metadata": {},
   "source": [
    "Above classification report visualizer displays the main classification metrics. It lists out the precision, recall, F1 score and support scores for each class. The basis of metrics are defined in terms of true and false positives, and true and false negatives.\n",
    "\n",
    "TN - True Negative: case is negative and predicted negative TP - True Positive: case is positive and predicted positive FN - False Negative: case is positive but predicted negative FP - False Positive: case is negative but predicted positive\n",
    "\n",
    "Precision is the ability of model not to make a false positive. It is defined as the ratio of true positives to the sum of true and false positives. Precision = TP/(TP + FP).\n",
    "\n",
    "Recall gives the performance of the model to find all positives. It is defined as the ratio of true positives to the sum of true positives and false negatives. Recall = TP/(TP+FN).\n",
    "\n",
    "Which metric to focus on is based on the problem we are trying to solve. If we are looking for a model which makes less false positive, precision metric would be preferred. On the other hand, if we are looking for a model which identifies good number of positives or makes less false negatives, recall metric would be preferred. Here precision metric and accuracy would be the good indication of performance"
   ]
  },
  {
   "cell_type": "code",
   "execution_count": 191,
   "metadata": {},
   "outputs": [
    {
     "data": {
      "text/plain": [
       "GRP_19    213\n",
       "GRP_3     200\n",
       "GRP_13    142\n",
       "GRP_14    118\n",
       "GRP_25    116\n",
       "GRP_33    106\n",
       "GRP_29     97\n",
       "GRP_4      91\n",
       "GRP_16     85\n",
       "GRP_18     84\n",
       "GRP_10     82\n",
       "GRP_9      78\n",
       "GRP_6      70\n",
       "GRP_7      67\n",
       "GRP_17     63\n",
       "GRP_34     62\n",
       "GRP_26     56\n",
       "GRP_31     55\n",
       "GRP_5      50\n",
       "GRP_40     45\n",
       "GRP_28     44\n",
       "GRP_41     39\n",
       "GRP_15     38\n",
       "GRP_42     37\n",
       "GRP_20     36\n",
       "GRP_22     31\n",
       "GRP_11     30\n",
       "GRP_45     28\n",
       "GRP_21     28\n",
       "GRP_1      27\n",
       "         ... \n",
       "GRP_50     14\n",
       "GRP_53     11\n",
       "GRP_65     11\n",
       "GRP_60     11\n",
       "GRP_52      9\n",
       "GRP_55      8\n",
       "GRP_51      8\n",
       "GRP_48      7\n",
       "GRP_49      6\n",
       "GRP_46      6\n",
       "GRP_59      6\n",
       "GRP_43      5\n",
       "GRP_32      4\n",
       "GRP_68      3\n",
       "GRP_58      3\n",
       "GRP_38      3\n",
       "GRP_66      3\n",
       "GRP_63      3\n",
       "GRP_56      3\n",
       "GRP_54      2\n",
       "GRP_71      2\n",
       "GRP_57      2\n",
       "GRP_72      2\n",
       "GRP_69      2\n",
       "GRP_64      1\n",
       "GRP_35      1\n",
       "GRP_70      1\n",
       "GRP_73      1\n",
       "GRP_67      1\n",
       "GRP_61      1\n",
       "Name: Assignment group, Length: 69, dtype: int64"
      ]
     },
     "execution_count": 191,
     "metadata": {},
     "output_type": "execute_result"
    }
   ],
   "source": [
    "#Let's check the classes that belongs to the common group ['GRP_CMN]\n",
    "df_grp_cmn = df_all_data[df_all_data['Assignment_group_cmn'].apply(lambda text: text=='GRP_CMN')]\n",
    "del df_all_data\n",
    "df_grp_cmn['Assignment group'].value_counts()"
   ]
  },
  {
   "cell_type": "code",
   "execution_count": 192,
   "metadata": {},
   "outputs": [
    {
     "data": {
      "text/plain": [
       "((2528, 3), (2512, 3), (16, 3))"
      ]
     },
     "execution_count": 192,
     "metadata": {},
     "output_type": "execute_result"
    }
   ],
   "source": [
    "#Divide the common group dataframe to two groups one with more than 2 documents/counts and other with less than or \n",
    "#equal to 2 documents/counts.\n",
    "df_grp_cmn_grtr_2 = df_grp_cmn.groupby(\"Assignment group\").filter(lambda x: len(x) > 2)\n",
    "df_grp_cmn_lsseq_2 = df_grp_cmn.groupby(\"Assignment group\").filter(lambda x: len(x) <= 2)\n",
    "\n",
    "X_grp_cmn = df_grp_cmn_grtr_2['Description']\n",
    "y_grp_cmn = df_grp_cmn_grtr_2['Assignment group']\n",
    "\n",
    "X_train_cmn_grp, X_test_cmn_grp, y_train_cmn_grp, y_test_cmn_grp =train_test_split(X_grp_cmn, y_grp_cmn, \n",
    "                                                                                   random_state=6, test_size = 0.25, \n",
    "                                                                                   stratify=y_grp_cmn)\n",
    "    \n",
    "df_grp_cmn.shape, df_grp_cmn_grtr_2.shape, df_grp_cmn_lsseq_2.shape"
   ]
  },
  {
   "cell_type": "code",
   "execution_count": 194,
   "metadata": {},
   "outputs": [],
   "source": [
    "#Manually add groups from dataframe which has groups equal to 2 or less counts into train and test data\n",
    "for idx, row in copy.deepcopy(df_grp_cmn_lsseq_2).iterrows():\n",
    "    if not np.isin(row['Assignment group'], y_train_cmn_grp):\n",
    "        X_train_cmn_grp = X_train_cmn_grp.append(pd.Series(row['Description'], index=[idx]))\n",
    "        y_train_cmn_grp = np.append(y_train_cmn_grp, row['Assignment group'])\n",
    "    elif not np.isin(row['Assignment group'], y_test_cmn_grp):\n",
    "            X_test_cmn_grp = X_test_cmn_grp.append(pd.Series(row['Description'], index=[idx]))\n",
    "            y_test_cmn_grp = np.append(y_test_cmn_grp, row['Assignment group'])\n",
    "del df_grp_cmn, df_grp_cmn_grtr_2, df_grp_cmn_lsseq_2\n",
    "del X_grp_cmn, y_grp_cmn"
   ]
  },
  {
   "cell_type": "code",
   "execution_count": 197,
   "metadata": {},
   "outputs": [
    {
     "name": "stdout",
     "output_type": "stream",
     "text": [
      "LR-Accuracy:0.3570300157977883\n"
     ]
    }
   ],
   "source": [
    "#We will use Logistic Regression to train and test data in identifying the proper GRP_CMN class\n",
    "print(\"LR-Accuracy:{}\".format(lr_cvt_unibi_eval(X_train_cmn_grp, y_train_cmn_grp, X_test_cmn_grp, y_test_cmn_grp)))\n",
    "del X_train_cmn_grp, y_train_cmn_grp, X_test_cmn_grp, y_test_cmn_grp"
   ]
  },
  {
   "cell_type": "markdown",
   "metadata": {},
   "source": [
    "The performance of both Logistic Regression and Sequential model in identifying the proper GRP_CMN class is not good. This shows the models are not able to predict the groups which have less number of documents even though all unique group values were made available in both train and test data. The classification reports above also indicate the same.\n",
    "This might be because of the groups with less number of documents holding such a kind of documents where there is no\n",
    "similarity between them and also has many jumbled letter words. For eg when predicting the sentiment of document is good or bad, two documents belonging to good class holding words such as kind, love in one document and warm hearted, generous in another document can help model learn properly and predict the good class. However, if one of the document holds words such as kind, love and the other holds words such as blue, food, some jumbled letters[jseritl] then the model will not be able to learn and may not predict correctly."
   ]
  },
  {
   "cell_type": "markdown",
   "metadata": {},
   "source": [
    "###### Enhance the solution"
   ]
  },
  {
   "cell_type": "markdown",
   "metadata": {},
   "source": [
    "No matter which model is considered and what are the good parameters, the data plays a very important role, without which model will not be able to learn properly. Data has to be collected in proper format while preparing the dataset and made sure to have documents that have some similarity when assigned to group. Let's have some data agumented with word embeddings for groups having counts less than 600, evaluate the performance of the model and finally tune the parameters. More data is better especially for neural networks."
   ]
  },
  {
   "cell_type": "code",
   "execution_count": 147,
   "metadata": {},
   "outputs": [],
   "source": [
    "df_wrdemds_aug = aug_text_data(df_process_txt_acc[\"Description\"], df_process_txt_acc[\"Assignment group\"], 600, sub_wrd_glv) \n",
    "\n",
    "X_train_aug, X_test_aug, y_train_aug, y_test_aug =train_test_split(df_wrdemds_aug['Description'], df_wrdemds_aug['Assignment group'], \n",
    "                                                                   random_state=6, test_size = 0.25, stratify=df_wrdemds_aug['Assignment group'])"
   ]
  },
  {
   "cell_type": "code",
   "execution_count": 148,
   "metadata": {},
   "outputs": [
    {
     "name": "stdout",
     "output_type": "stream",
     "text": [
      "12066/12066 [==============================] - 6s 490us/step\n",
      "Sequential-Accuracy:[1.7651926185012594, 0.5821316094811868]\n"
     ]
    }
   ],
   "source": [
    "#We will use Sequential model with Glove embedding layer to train and test data in identifying the proper classes\n",
    "print(\"Sequential-Accuracy:{}\".format(seq_lstm_bi_glv_eval(X_train_aug, y_train_aug, X_test_aug, y_test_aug, \n",
    "                                                           './glove.6B.300d.txt', 300)))\n",
    "del X_train_aug, X_test_aug, y_train_aug, y_test_aug"
   ]
  },
  {
   "cell_type": "markdown",
   "metadata": {},
   "source": [
    "##### Fine-tuning"
   ]
  },
  {
   "cell_type": "code",
   "execution_count": 149,
   "metadata": {
    "collapsed": true
   },
   "outputs": [],
   "source": [
    "#Let's tokenize, perform the padding and have the glove embedding matrix prepared to use in our Sequential model \n",
    "#while trying to tune the parameters. Remove no longer required variables to free up memory.\n",
    "\n",
    "X_train_tune, X_test_tune, y_train_tune, y_test_tune =train_test_split(df_wrdemds_aug['Description'], df_wrdemds_aug['Assignment group'], \n",
    "                                                                       random_state=6, test_size = 0.25, \n",
    "                                                                                       stratify=df_wrdemds_aug['Assignment group'])\n",
    "\n",
    "tknzr_tune = Tokenizer(num_words=top_num_words, oov_token=oov_char)\n",
    "tknzr_tune.fit_on_texts(X_train_tune)\n",
    "tknz_tune_vocabsize =len(tknzr_tune.word_index)+1\n",
    "    \n",
    "X_train_tune_seq = tknzr_tune.texts_to_sequences(X_train_tune)\n",
    "X_train_tune_seq_pad = pad_sequences(X_train_tune_seq, padding=pad_type, truncating=trunc_type, maxlen=max_length)\n",
    "X_test_tune_seq = tknzr_tune.texts_to_sequences(X_test_tune)\n",
    "X_test_tune_seq_pad = pad_sequences(X_test_tune_seq, padding=pad_type, truncating=trunc_type, maxlen=max_length)\n",
    "    \n",
    "lbl_enc_tknzr_tune = preprocessing.LabelEncoder()\n",
    "y_train_tune_tknzr = pd.get_dummies(lbl_enc_tknzr_tune.fit_transform(y_train_tune)).values\n",
    "y_test_tune_tknzr = pd.get_dummies(lbl_enc_tknzr_tune.fit_transform(y_test_tune)).values\n",
    "    \n",
    "embedding_matrix_tune = weight_matrx_glv_embed('./glove.6B.300d.txt', 300, tknzr_tune)"
   ]
  },
  {
   "cell_type": "code",
   "execution_count": 150,
   "metadata": {},
   "outputs": [
    {
     "name": "stdout",
     "output_type": "stream",
     "text": [
      "12066/12066 [==============================] - 23s 2ms/step\n",
      "[1.6894413439290512, 0.55635670479032]\n"
     ]
    }
   ],
   "source": [
    "#Let's tune the model with Bidirectional LSTM layers and Dense layers, compile, fit and evaluate. Tried with \n",
    "#different number of layers\n",
    "model_layrs = Sequential()\n",
    "model_layrs.add(Embedding(input_dim=tknz_tune_vocabsize, output_dim=embedding_dim, weights=[embedding_matrix_tune], \n",
    "                             input_length=max_length, trainable=True))\n",
    "model_layrs.add(Bidirectional(LSTM(50, return_sequences=True)))\n",
    "model_layrs.add(Bidirectional(LSTM(70, return_sequences=True)))\n",
    "model_layrs.add(Bidirectional(LSTM(100)))\n",
    "model_layrs.add(Dense(100, activation = \"relu\"))\n",
    "model_layrs.add(Dense(85, activation = \"relu\"))\n",
    "model_layrs.add(Dense(74,activation='softmax'))\n",
    "    \n",
    "model_layrs.compile(loss = loss_fn, optimizer=optimizer_alg,metrics = [metric_eval])\n",
    "model_layrs.fit(X_train_tune_seq_pad, y_train_tune_tknzr, epochs = 5, batch_size=128, verbose = 0,validation_split=0.25)\n",
    "    \n",
    "print(model_layrs.evaluate(X_test_tune_seq_pad, y_test_tune_tknzr))\n",
    "del model_layrs"
   ]
  },
  {
   "cell_type": "code",
   "execution_count": 152,
   "metadata": {},
   "outputs": [
    {
     "name": "stdout",
     "output_type": "stream",
     "text": [
      "12066/12066 [==============================] - 9s 705us/step\n",
      "[1.8076826627725158, 0.539035305818001]\n"
     ]
    }
   ],
   "source": [
    "#Build a Sequential model with GRU(Gated Recurrent Unit) layer and Glove Embedding layer. GRU is is a type of \n",
    "#recurrent neural network and similar to an LSTM, but only has two gates: a reset gate and an update gate. Tried with \n",
    "#different number of layers\n",
    "\n",
    "model_gru = Sequential()\n",
    "model_gru.add(Embedding(input_dim=tknz_tune_vocabsize, output_dim=embedding_dim, weights=[embedding_matrix_tune], \n",
    "                             input_length=max_length, trainable=True))\n",
    "model_gru.add(GRU(60, return_sequences=True))\n",
    "model_gru.add(GRU(80, return_sequences=True))\n",
    "model_gru.add(GRU(100))\n",
    "model_gru.add(Dropout(0.2))\n",
    "model_gru.add(Dense(100, activation = \"relu\"))\n",
    "model_gru.add(Dense(85, activation = \"relu\"))\n",
    "model_gru.add(Dense(74,activation='softmax'))\n",
    "\n",
    "model_gru.compile(loss = loss_fn, optimizer=optimizer_alg,metrics = [metric_eval])\n",
    "model_gru.fit(X_train_tune_seq_pad, y_train_tune_tknzr, epochs = 5, batch_size=128, verbose = 0,validation_split=0.25)\n",
    "\n",
    "print(model_gru.evaluate(X_test_tune_seq_pad, y_test_tune_tknzr))\n",
    "del model_gru"
   ]
  },
  {
   "cell_type": "code",
   "execution_count": 158,
   "metadata": {},
   "outputs": [
    {
     "name": "stdout",
     "output_type": "stream",
     "text": [
      "12066/12066 [==============================] - 14s 1ms/step\n",
      "[4.255923758528431, 0.06348417039615448]\n",
      "12066/12066 [==============================] - 14s 1ms/step\n",
      "[3.8611896055443813, 0.0835405271009448]\n",
      "12066/12066 [==============================] - 14s 1ms/step\n",
      "[3.6083844422148013, 0.1037626388198243]\n"
     ]
    }
   ],
   "source": [
    "#Let's tune the model with SGD optimizer and different learning rates, compile, fit and evaluate. Tried with different\n",
    "#values\n",
    "for k in range(0, 3):\n",
    "    learn_rate = [0.01, 0.03, 0.05]\n",
    "\n",
    "    optimizer_sgd = SGD(lr=learn_rate[k])\n",
    "\n",
    "    model_optlr = Sequential()\n",
    "    model_optlr.add(Embedding(input_dim=tknz_tune_vocabsize, output_dim=embedding_dim, weights=[embedding_matrix_tune], \n",
    "                             input_length=max_length, trainable=True))\n",
    "    model_optlr.add(Bidirectional(LSTM(50, return_sequences=True)))\n",
    "    model_optlr.add(Bidirectional(LSTM(70, return_sequences=True)))\n",
    "    model_optlr.add(Bidirectional(LSTM(100)))\n",
    "    model_optlr.add(Dense(100, activation = \"relu\"))\n",
    "    model_optlr.add(Dense(85, activation = \"relu\"))\n",
    "    model_optlr.add(Dense(74,activation='softmax'))\n",
    "    \n",
    "    model_optlr.compile(loss = loss_fn, optimizer=optimizer_sgd,metrics = [metric_eval])\n",
    "    model_optlr.fit(X_train_tune_seq_pad, y_train_tune_tknzr, epochs = 5, batch_size=128, verbose = 0,validation_split=0.25)\n",
    "\n",
    "    print(model_optlr.evaluate(X_test_tune_seq_pad, y_test_tune_tknzr))\n",
    "    del model_optlr"
   ]
  },
  {
   "cell_type": "code",
   "execution_count": 159,
   "metadata": {},
   "outputs": [
    {
     "name": "stdout",
     "output_type": "stream",
     "text": [
      "12066/12066 [==============================] - 14s 1ms/step\n",
      "[1.444197908997259, 0.6504226752859275]\n"
     ]
    }
   ],
   "source": [
    "#Let's tune the model with batch normalization layers. A layer that allows every layer of the network to learn \n",
    "#independently. Normalize the output of the previous layers and kind of acts like a regularizer. Tried with\n",
    "#different number of batchnormalization layers\n",
    "model_bachnrml = Sequential()\n",
    "model_bachnrml.add(Embedding(input_dim=tknz_tune_vocabsize, output_dim=embedding_dim, weights=[embedding_matrix_tune], \n",
    "                                 input_length=max_length, trainable=True))\n",
    "model_bachnrml.add(Bidirectional(LSTM(50, return_sequences=True)))\n",
    "model_bachnrml.add(BatchNormalization())\n",
    "model_bachnrml.add(Bidirectional(LSTM(70, return_sequences=True)))\n",
    "model_bachnrml.add(BatchNormalization())\n",
    "model_bachnrml.add(Bidirectional(LSTM(100)))\n",
    "model_bachnrml.add(BatchNormalization())\n",
    "model_bachnrml.add(Dense(100, activation = \"relu\"))\n",
    "model_bachnrml.add(BatchNormalization())\n",
    "model_bachnrml.add(Dense(85, activation = \"relu\"))\n",
    "model_bachnrml.add(Dense(74,activation='softmax'))\n",
    "\n",
    "model_bachnrml.compile(loss = loss_fn, optimizer=optimizer_alg,metrics = [metric_eval])\n",
    "model_bachnrml.fit(X_train_tune_seq_pad, y_train_tune_tknzr, epochs = 5, batch_size=128, verbose = 0,validation_split=0.25)\n",
    "\n",
    "print(model_bachnrml.evaluate(X_test_tune_seq_pad, y_test_tune_tknzr))\n",
    "del model_bachnrml"
   ]
  },
  {
   "cell_type": "code",
   "execution_count": 160,
   "metadata": {},
   "outputs": [
    {
     "name": "stdout",
     "output_type": "stream",
     "text": [
      "12066/12066 [==============================] - 13s 1ms/step\n",
      "[1.7607451161005674, 0.5406928559588927]\n"
     ]
    }
   ],
   "source": [
    "#Let's tune the model with dropout layers. They are regularization technique used to prevent overfitting in the model.\n",
    "#Tried with different number of dropout layers and percentage\n",
    "model_drpot = Sequential()\n",
    "model_drpot.add(Embedding(input_dim=tknz_tune_vocabsize, output_dim=embedding_dim, weights=[embedding_matrix_tune], \n",
    "                                 input_length=max_length, trainable=True))\n",
    "model_drpot.add(Bidirectional(LSTM(50, return_sequences=True)))\n",
    "model_drpot.add(Dropout(0.2))\n",
    "model_drpot.add(Bidirectional(LSTM(70, return_sequences=True)))\n",
    "model_drpot.add(Dropout(0.2))\n",
    "model_drpot.add(Bidirectional(LSTM(100)))\n",
    "model_drpot.add(Dropout(0.2))\n",
    "model_drpot.add(Dense(100, activation = \"relu\"))\n",
    "model_drpot.add(Dropout(0.2))\n",
    "model_drpot.add(Dense(85, activation = \"relu\"))\n",
    "model_drpot.add(Dense(74,activation='softmax'))\n",
    "\n",
    "model_drpot.compile(loss = loss_fn, optimizer=optimizer_alg,metrics = [metric_eval])\n",
    "model_drpot.fit(X_train_tune_seq_pad, y_train_tune_tknzr, epochs = 5, batch_size=128, verbose = 0,validation_split=0.25)\n",
    "\n",
    "print(model_drpot.evaluate(X_test_tune_seq_pad, y_test_tune_tknzr))\n",
    "\n",
    "del model_drpot"
   ]
  },
  {
   "cell_type": "code",
   "execution_count": 161,
   "metadata": {},
   "outputs": [
    {
     "name": "stdout",
     "output_type": "stream",
     "text": [
      "12066/12066 [==============================] - 14s 1ms/step\n",
      "[1.4552451920276175, 0.6524946129620421]\n"
     ]
    }
   ],
   "source": [
    "#Let's tune the model with sparse_categorical_crossentropy loss function. Calculates cross-entropy loss, and does not\n",
    "#need target variable to be one hot encoded before training.\n",
    "model_sparscategr = Sequential()\n",
    "model_sparscategr.add(Embedding(input_dim=tknz_tune_vocabsize, output_dim=embedding_dim, weights=[embedding_matrix_tune], \n",
    "                                 input_length=max_length, trainable=True))\n",
    "model_sparscategr.add(Bidirectional(LSTM(50, return_sequences=True)))\n",
    "model_sparscategr.add(BatchNormalization())\n",
    "model_sparscategr.add(Bidirectional(LSTM(70, return_sequences=True)))\n",
    "model_sparscategr.add(BatchNormalization())\n",
    "model_sparscategr.add(Bidirectional(LSTM(100)))\n",
    "model_sparscategr.add(BatchNormalization())\n",
    "model_sparscategr.add(Dense(100, activation = \"relu\"))\n",
    "model_sparscategr.add(BatchNormalization())\n",
    "model_sparscategr.add(Dense(85, activation = \"relu\"))\n",
    "model_sparscategr.add(Dense(74,activation='softmax'))\n",
    "\n",
    "model_sparscategr.compile(loss = 'sparse_categorical_crossentropy', optimizer=optimizer_alg,metrics = [metric_eval])\n",
    "model_sparscategr.fit(X_train_tune_seq_pad, lbl_enc_tknzr_tune.fit_transform(y_train_tune), epochs = 5, batch_size=128, verbose = 0,validation_split=0.25)\n",
    "\n",
    "print(model_sparscategr.evaluate(X_test_tune_seq_pad, lbl_enc_tknzr_tune.fit_transform(y_test_tune)))\n",
    "del model_sparscategr"
   ]
  },
  {
   "cell_type": "code",
   "execution_count": 162,
   "metadata": {},
   "outputs": [
    {
     "name": "stdout",
     "output_type": "stream",
     "text": [
      "12066/12066 [==============================] - 15s 1ms/step\n",
      "[1.492469321888205, 0.6415547820321564]\n"
     ]
    }
   ],
   "source": [
    "#Let's tune the model with kullback_leibler_divergence loss function. Calcuates Divergence Loss of how probability \n",
    "#distribution differs from the baseline distribution.\n",
    "model_kullbck = Sequential()\n",
    "model_kullbck.add(Embedding(input_dim=tknz_tune_vocabsize, output_dim=embedding_dim, weights=[embedding_matrix_tune], \n",
    "                                 input_length=max_length, trainable=True))\n",
    "model_kullbck.add(Bidirectional(LSTM(50, return_sequences=True)))\n",
    "model_kullbck.add(BatchNormalization())\n",
    "model_kullbck.add(Bidirectional(LSTM(70, return_sequences=True)))\n",
    "model_kullbck.add(BatchNormalization())\n",
    "model_kullbck.add(Bidirectional(LSTM(100)))\n",
    "model_kullbck.add(BatchNormalization())\n",
    "model_kullbck.add(Dense(100, activation = \"relu\"))\n",
    "model_kullbck.add(BatchNormalization())\n",
    "model_kullbck.add(Dense(85, activation = \"relu\"))\n",
    "model_kullbck.add(Dense(74,activation='softmax'))\n",
    "\n",
    "model_kullbck.compile(loss = 'kullback_leibler_divergence', optimizer=optimizer_alg,metrics = [metric_eval])\n",
    "model_kullbck.fit(X_train_tune_seq_pad, y_train_tune_tknzr, epochs = 5, batch_size=128, verbose = 0,validation_split=0.25)\n",
    "\n",
    "print(model_kullbck.evaluate(X_test_tune_seq_pad, y_test_tune_tknzr))\n",
    "del model_kullbck"
   ]
  },
  {
   "cell_type": "code",
   "execution_count": 163,
   "metadata": {},
   "outputs": [
    {
     "name": "stdout",
     "output_type": "stream",
     "text": [
      "12066/12066 [==============================] - 15s 1ms/step\n",
      "[1.619255889604168, 0.5796452842698492]\n",
      "12066/12066 [==============================] - 15s 1ms/step\n",
      "[1.6982592033466533, 0.5532902370296702]\n",
      "12066/12066 [==============================] - 15s 1ms/step\n",
      "[1.553000250562949, 0.6055859439748053]\n",
      "12066/12066 [==============================] - 15s 1ms/step\n",
      "[1.6100360400420248, 0.5939002154815183]\n"
     ]
    }
   ],
   "source": [
    "#Let's tune the model with different epochs and batch size, compile, fit and evaluate.\n",
    "for j in range(4, 6):\n",
    "    for k in [32, 64]:\n",
    "\n",
    "        model_epbach = Sequential()\n",
    "        model_epbach.add(Embedding(input_dim=tknz_tune_vocabsize, output_dim=embedding_dim, weights=[embedding_matrix_tune], \n",
    "                                     input_length=max_length, trainable=True))\n",
    "        model_epbach.add(Bidirectional(LSTM(50, return_sequences=True)))\n",
    "        model_epbach.add(Bidirectional(LSTM(70, return_sequences=True)))\n",
    "        model_epbach.add(Bidirectional(LSTM(100)))\n",
    "        model_epbach.add(Dense(100, activation = \"relu\"))\n",
    "        model_epbach.add(Dense(85, activation = \"relu\"))\n",
    "        model_epbach.add(Dense(74,activation='softmax'))\n",
    "\n",
    "        model_epbach.compile(loss = loss_fn, optimizer=optimizer_alg,metrics = [metric_eval])\n",
    "        model_epbach.fit(X_train_tune_seq_pad, y_train_tune_tknzr, epochs = j, batch_size=k, verbose = 0,validation_split=0.25)\n",
    "\n",
    "        print(model_epbach.evaluate(X_test_tune_seq_pad, y_test_tune_tknzr))\n",
    "        del model_epbach"
   ]
  },
  {
   "cell_type": "code",
   "execution_count": 164,
   "metadata": {},
   "outputs": [
    {
     "name": "stdout",
     "output_type": "stream",
     "text": [
      "12066/12066 [==============================] - 17s 1ms/step\n",
      "[2.057973738710964, 0.7181335985413558]\n"
     ]
    }
   ],
   "source": [
    "#Multiple Bidirectional lstm layers outperforms gru, adam optimizer which we have used initially performs better than\n",
    "#SGD optimizer and batchnormalizing layers yeilds better results than using the dropout layers. Also the loss function\n",
    "#sparse_categorical_crossentropy helps model learn considerably better than other loss functions and batch size 32 seems\n",
    "#to be good fit[earlier we had used 128 for same three layers bidirectional and accuracy is lesser] and model performs \n",
    "#better with increase in number of epochs. Will train the Sequential model using all these better performing \n",
    "#parameters. Make use of ModelCheckpoint to save the best model which is the one with the max validation accuracy \n",
    "#and use EarlyStopping to stop the training once the validation accuracy starts to go down after initial increase, \n",
    "#but will provide the patience number indicating not to stop the training until a certain number of epochs after \n",
    "#validation accuracy starts to decrease.\n",
    "\n",
    "mc = ModelCheckpoint(\"model_lstmbi_tune.hdf5\", monitor='val_acc', verbose=0, save_best_only=True, mode='max')\n",
    "es = EarlyStopping(monitor='val_acc', verbose=0, mode='max', patience=30)\n",
    "callbacks_list = [mc, es]\n",
    "\n",
    "model_lstmbi_tune = Sequential()\n",
    "model_lstmbi_tune.add(Embedding(input_dim=tknz_tune_vocabsize, output_dim=embedding_dim, weights=[embedding_matrix_tune], \n",
    "                                 input_length=max_length, trainable=True))\n",
    "model_lstmbi_tune.add(Bidirectional(LSTM(50, return_sequences=True)))\n",
    "model_lstmbi_tune.add(BatchNormalization())\n",
    "model_lstmbi_tune.add(Bidirectional(LSTM(70, return_sequences=True)))\n",
    "model_lstmbi_tune.add(BatchNormalization())\n",
    "model_lstmbi_tune.add(Bidirectional(LSTM(100)))\n",
    "model_lstmbi_tune.add(BatchNormalization())\n",
    "model_lstmbi_tune.add(Dense(100, activation = \"relu\"))\n",
    "model_lstmbi_tune.add(BatchNormalization())\n",
    "model_lstmbi_tune.add(Dense(85, activation = \"relu\"))\n",
    "model_lstmbi_tune.add(Dense(74,activation='softmax'))\n",
    "\n",
    "model_lstmbi_tune.compile(loss = 'sparse_categorical_crossentropy', optimizer=optimizer_alg,metrics = [metric_eval])\n",
    "model_lstmbi_tune_hist = model_lstmbi_tune.fit(X_train_tune_seq_pad, lbl_enc_tknzr_tune.fit_transform(y_train_tune), \n",
    "                                               epochs = 70, \n",
    "                                               callbacks=callbacks_list, batch_size=32, verbose = 0,\n",
    "                                               validation_split=0.25)\n",
    "\n",
    "print(model_lstmbi_tune.evaluate(X_test_tune_seq_pad, lbl_enc_tknzr_tune.fit_transform(y_test_tune)))"
   ]
  },
  {
   "cell_type": "code",
   "execution_count": 165,
   "metadata": {},
   "outputs": [
    {
     "data": {
      "text/plain": [
       "Text(0.5, 1.0, 'Epochs vs. Training and Validation Loss')"
      ]
     },
     "execution_count": 165,
     "metadata": {},
     "output_type": "execute_result"
    },
    {
     "data": {
      "image/png": "[encoded data removed]",
      "text/plain": [
       "<Figure size 1440x720 with 1 Axes>"
      ]
     },
     "metadata": {
      "needs_background": "light"
     },
     "output_type": "display_data"
    }
   ],
   "source": [
    "#Plot training loss, validation loss vs number of epochs\n",
    "train_loss = model_lstmbi_tune_hist.history['loss']\n",
    "val_loss = model_lstmbi_tune_hist.history['val_loss']\n",
    "plt.figure(figsize=(20, 10))\n",
    "plt.subplot(1, 2, 1)\n",
    "plt.plot(train_loss, label='Training Loss')\n",
    "plt.plot(val_loss, label='Validation Loss')\n",
    "plt.legend()\n",
    "plt.title('Epochs vs. Training and Validation Loss')"
   ]
  },
  {
   "cell_type": "code",
   "execution_count": 166,
   "metadata": {},
   "outputs": [
    {
     "data": {
      "text/plain": [
       "Text(0.5, 1.0, 'Epochs vs. Training and Validation Accuracy')"
      ]
     },
     "execution_count": 166,
     "metadata": {},
     "output_type": "execute_result"
    },
    {
     "data": {
      "image/png": "[encoded data removed]",
      "text/plain": [
       "<Figure size 1440x720 with 1 Axes>"
      ]
     },
     "metadata": {
      "needs_background": "light"
     },
     "output_type": "display_data"
    }
   ],
   "source": [
    "#Plot training loss, validation loss vs number of epochs\n",
    "train_acc = model_lstmbi_tune_hist.history['acc']\n",
    "val_acc = model_lstmbi_tune_hist.history['val_acc']\n",
    "plt.figure(figsize=(20, 10))\n",
    "plt.subplot(1, 2, 1)\n",
    "plt.plot(train_acc, label='Training Accuracy')\n",
    "plt.plot(val_acc, label='Validation Accuracy')\n",
    "plt.legend()\n",
    "plt.title('Epochs vs. Training and Validation Accuracy')"
   ]
  },
  {
   "cell_type": "code",
   "execution_count": 167,
   "metadata": {},
   "outputs": [
    {
     "name": "stdout",
     "output_type": "stream",
     "text": [
      "              precision    recall  f1-score   support\n",
      "\n",
      "           0       0.72      0.64      0.68       766\n",
      "           1       0.65      0.57      0.61       155\n",
      "           2       0.54      0.62      0.58       164\n",
      "           3       0.58      0.53      0.56       150\n",
      "           4       0.43      0.55      0.48       177\n",
      "           5       0.56      0.57      0.56       178\n",
      "           6       0.49      0.58      0.53       177\n",
      "           7       0.45      0.64      0.53       152\n",
      "           8       0.52      0.52      0.52       170\n",
      "           9       0.55      0.57      0.56       157\n",
      "          10       0.77      0.49      0.60       168\n",
      "          11       0.41      0.41      0.41       160\n",
      "          12       0.48      0.43      0.45       180\n",
      "          13       0.55      0.60      0.57       153\n",
      "          14       0.71      0.61      0.66       154\n",
      "          15       0.48      0.62      0.54       155\n",
      "          16       0.71      0.67      0.69       150\n",
      "          17       0.64      0.76      0.69       206\n",
      "          18       0.46      0.53      0.49       173\n",
      "          19       0.64      0.62      0.63       154\n",
      "          20       0.75      0.56      0.64       153\n",
      "          21       0.60      0.47      0.52       154\n",
      "          22       0.38      0.59      0.46       170\n",
      "          23       0.38      0.30      0.34       150\n",
      "          24       0.65      0.76      0.70       144\n",
      "          25       0.37      0.49      0.42       146\n",
      "          26       1.00      0.99      0.99       150\n",
      "          27       0.63      0.50      0.56       158\n",
      "          28       0.51      0.41      0.45       153\n",
      "          29       0.99      0.97      0.98       150\n",
      "          30       0.71      0.94      0.81       129\n",
      "          31       0.83      0.79      0.81       152\n",
      "          32       0.95      0.97      0.96       150\n",
      "          33       0.69      0.78      0.73       152\n",
      "          34       0.54      0.47      0.50       159\n",
      "          35       0.57      0.55      0.56       157\n",
      "          36       0.62      0.57      0.60       156\n",
      "          37       0.76      0.70      0.73       153\n",
      "          38       0.99      0.94      0.96       150\n",
      "          39       0.71      0.81      0.76       150\n",
      "          40       0.67      0.68      0.68       154\n",
      "          41       0.94      0.91      0.93       150\n",
      "          42       0.77      0.69      0.73       155\n",
      "          43       0.80      0.83      0.81       127\n",
      "          44       0.99      0.98      0.98       150\n",
      "          45       0.70      0.52      0.60       150\n",
      "          46       0.72      0.69      0.71       150\n",
      "          47       0.95      0.93      0.94       150\n",
      "          48       0.81      0.87      0.84       151\n",
      "          49       0.86      0.76      0.81       151\n",
      "          50       0.99      0.97      0.98       150\n",
      "          51       0.79      0.83      0.81       150\n",
      "          52       0.99      0.99      0.99       150\n",
      "          53       0.99      0.95      0.97       150\n",
      "          54       0.99      0.97      0.98       150\n",
      "          55       0.79      0.95      0.86       150\n",
      "          56       0.63      0.46      0.53       158\n",
      "          57       0.87      0.90      0.89       151\n",
      "          58       0.98      1.00      0.99       150\n",
      "          59       0.60      0.69      0.64       150\n",
      "          60       0.97      0.94      0.95       150\n",
      "          61       0.99      1.00      0.99       150\n",
      "          62       0.94      0.82      0.88       151\n",
      "          63       0.97      0.99      0.98       150\n",
      "          64       1.00      1.00      1.00       150\n",
      "          65       0.98      0.99      0.98       150\n",
      "          66       1.00      0.99      1.00       150\n",
      "          67       0.45      0.47      0.46       151\n",
      "          68       0.99      1.00      0.99       150\n",
      "          69       0.99      0.99      0.99       150\n",
      "          70       0.92      0.94      0.93       150\n",
      "          71       0.99      0.97      0.98       150\n",
      "          72       0.64      0.62      0.63       176\n",
      "          73       0.54      0.50      0.52       156\n",
      "\n",
      "    accuracy                           0.72     12066\n",
      "   macro avg       0.73      0.73      0.73     12066\n",
      "weighted avg       0.73      0.72      0.72     12066\n",
      "\n"
     ]
    }
   ],
   "source": [
    "#Let us check the classification_report for the evaluation metrics and performance of model in the prediction of\n",
    "#individual classes. \n",
    "y_test_tune_tknzr_max = np.argmax(y_test_tune_tknzr, axis=1)\n",
    "model_lstmbi_tune_predictions = model_lstmbi_tune.predict_classes(X_test_tune_seq_pad)\n",
    "print(classification_report(y_test_tune_tknzr_max, model_lstmbi_tune_predictions))"
   ]
  },
  {
   "cell_type": "markdown",
   "metadata": {},
   "source": [
    "With the help of more obersvations, the model will be able to learn better. The company can keep check on groups with less number of documents, collect enough observations, and can achieve improved performance in classifying more individual classes accurately\n"
   ]
  }
 ],
 "metadata": {
  "kernelspec": {
   "display_name": "cispy35",
   "language": "python",
   "name": "cispy35"
  },
  "language_info": {
   "codemirror_mode": {
    "name": "ipython",
    "version": 3
   },
   "file_extension": ".py",
   "mimetype": "text/x-python",
   "name": "python",
   "nbconvert_exporter": "python",
   "pygments_lexer": "ipython3",
   "version": "3.5.6"
  }
 },
 "nbformat": 4,
 "nbformat_minor": 5
}
